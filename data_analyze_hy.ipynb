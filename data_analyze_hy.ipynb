{
 "cells": [
  {
   "cell_type": "code",
   "execution_count": 1,
   "metadata": {},
   "outputs": [],
   "source": [
    "##### If you have full datafile(2014_2024.pkl), you can start from here #####\n",
    "import pandas as pd\n",
    "\n",
    "df = pd.read_pickle('./seoul_real_estate/2014_2024.pkl')"
   ]
  },
  {
   "cell_type": "code",
   "execution_count": null,
   "metadata": {},
   "outputs": [],
   "source": [
    "# split '시군구' to '행정구', '행정동' columns 시 <- every data is \"서울특별시\", so ignore it\n",
    "df['행정구'] = df['시군구'].str.split(' ').str[1].astype('category')\n",
    "df['행정동'] = df['시군구'].str.split(' ').str[2].astype('category')\n",
    "\n",
    "# split '도로명' to '도로명', '도로번호' columns. '도로번호' type is int, '도로명' type is category\n",
    "df['도로번호'] = df['도로명'].str.split(' ').str[-1].astype('category')\n",
    "df['도로명'] = df['도로명'].str.split(' ').str[:-1].str.join('').astype('category') # remove last element and join(in case of exceptional situation)\n",
    "\n",
    "df['계약일'] = (df['계약년월'].astype(str) + df['계약일'].astype(str).str.zfill(2)).astype('datetime64[ns]')\n",
    "# Columns to drop = ['계약년월', '시군구', '주택유형', '해제사유발생일', '매수자', '매도자', '중개사소재지', '등기일자', '계약기간', '갱신요구권 사용', '종전계약 보증금(만원)', '종전계약 월세(만원)', '계약구분', '번지']\n",
    "df = df.drop(columns=['계약년월', '시군구', '주택유형', '해제사유발생일', '매수자', '매도자', '중개사소재지', '등기일자', '계약기간', '갱신요구권 사용', '종전계약 보증금(만원)', '종전계약 월세(만원)', '계약구분', '번지'])\n",
    "\n",
    "# reordering columns for better readability -> 행정구 행정동 본번 부번 도로명 단지명 건축년도 동 층 전용면적(㎡) 계약일 계약형태 거래유형 거래금액(만원) 보증금(만원)\t월세금(만원)\n",
    "df = df[['행정구', '행정동', '본번', '부번', '도로명', '도로번호', '단지명', '건축년도', '동', '층', '전용면적(㎡)', '계약일', '계약형태', '거래유형', '거래금액(만원)', '보증금(만원)', '월세금(만원)']]\n",
    "\n",
    "display(df.head(5))\n",
    "display(df.info(memory_usage='deep'))"
   ]
  },
  {
   "cell_type": "code",
   "execution_count": null,
   "metadata": {},
   "outputs": [],
   "source": [
    "df.to_pickle('./seoul_real_estate/2014_2024_cleaned.pkl')"
   ]
  },
  {
   "cell_type": "code",
   "execution_count": null,
   "metadata": {},
   "outputs": [],
   "source": [
    "##### If you have clean datafile(2014_2024.pkl), you can start from here #####\n",
    "import pandas as pd\n",
    "\n",
    "df = pd.read_pickle('./seoul_real_estate/2014_2024_cleaned.pkl')"
   ]
  },
  {
   "cell_type": "code",
   "execution_count": 2,
   "metadata": {},
   "outputs": [],
   "source": [
    "from sqlalchemy import create_engine\n",
    "from urllib import parse\n",
    "\n",
    "# get connection information from .env file\n",
    "with open('.env', 'r') as f:\n",
    "  conn_info = dict(\n",
    "    tuple(line.strip().split('='))\n",
    "    for line in f\n",
    "  )\n",
    "# create engine for mysql\n",
    "engine = create_engine((f\"mysql://{conn_info['USER']}:{parse.quote(conn_info['PASSWORD'])}@{conn_info['HOST']}:{conn_info['PORT']}/{conn_info['DATABASE']}\"))"
   ]
  },
  {
   "cell_type": "code",
   "execution_count": 1,
   "metadata": {},
   "outputs": [
    {
     "ename": "NameError",
     "evalue": "name 'df' is not defined",
     "output_type": "error",
     "traceback": [
      "\u001b[0;31m---------------------------------------------------------------------------\u001b[0m",
      "\u001b[0;31mNameError\u001b[0m                                 Traceback (most recent call last)",
      "Cell \u001b[0;32mIn[1], line 2\u001b[0m\n\u001b[1;32m      1\u001b[0m \u001b[38;5;66;03m# insert df to mysql as table\u001b[39;00m\n\u001b[0;32m----> 2\u001b[0m \u001b[43mdf\u001b[49m\u001b[38;5;241m.\u001b[39mto_sql(\u001b[38;5;124m'\u001b[39m\u001b[38;5;124mseoul_real_estate\u001b[39m\u001b[38;5;124m'\u001b[39m, con\u001b[38;5;241m=\u001b[39mengine, if_exists\u001b[38;5;241m=\u001b[39m\u001b[38;5;124m'\u001b[39m\u001b[38;5;124mreplace\u001b[39m\u001b[38;5;124m'\u001b[39m, index\u001b[38;5;241m=\u001b[39m\u001b[38;5;28;01mFalse\u001b[39;00m)\n\u001b[1;32m      4\u001b[0m \u001b[38;5;66;03m# check if data is inserted\u001b[39;00m\n\u001b[1;32m      5\u001b[0m sql \u001b[38;5;241m=\u001b[39m \u001b[38;5;124m\"\u001b[39m\u001b[38;5;124mSELECT * FROM seoul_real_estate LIMIT 5;\u001b[39m\u001b[38;5;124m\"\u001b[39m\n",
      "\u001b[0;31mNameError\u001b[0m: name 'df' is not defined"
     ]
    }
   ],
   "source": [
    "# insert df to mysql as table\n",
    "df.to_sql('seoul_real_estate', con=engine, if_exists='replace', index=False)\n",
    "\n",
    "# check if data is inserted\n",
    "sql = \"SELECT * FROM seoul_real_estate LIMIT 5;\"\n",
    "df = pd.read_sql(sql, engine)\n",
    "\n",
    "cur = engine.connect()\n",
    "cur.execute(sql)\n",
    "\n",
    "# clear engine queue\n",
    "engine.dispose()"
   ]
  },
  {
   "cell_type": "code",
   "execution_count": null,
   "metadata": {},
   "outputs": [],
   "source": []
  },
  {
   "cell_type": "code",
   "execution_count": null,
   "metadata": {},
   "outputs": [],
   "source": []
  },
  {
   "cell_type": "code",
   "execution_count": null,
   "metadata": {},
   "outputs": [],
   "source": [
    "import os\n",
    "\n",
    "# get file list in directory ./seoul_real_estate/indicator_data_per_region\n",
    "file_list = os.listdir('./seoul_real_estate/Indicator_data_per_region')\n",
    "\n",
    "for f in file_list:\n",
    "  # read file\n",
    "  df = pd.read_csv(f'./seoul_real_estate/Indicator_data_per_region/{f}', encoding='utf-8')\n",
    "  # rename Unnamed: 0 to 연도\n",
    "  df = df.rename(columns={'Unnamed: 0': '연도'})\n",
    "  # from column 1 to last column replace column name to {column_name}.split('_')[1]\n",
    "  df.columns = ['연도'] + [f'{col.split(\"_\")[1]}' for col in df.columns[1:]]\n",
    "  # make columns \"행정구\"\n",
    "  df['행정구'] = f.split('_')[1]\n",
    "\n",
    "  # insert df to mysql as table \"Indicator_data_per_region\", if table already exists, append data, if not, create table and use \"행정구\", \"연도\" as primary key\n",
    "  df.to_sql('Indicator_data_per_region', con=engine, if_exists='append', index=False)\n"
   ]
  },
  {
   "cell_type": "code",
   "execution_count": null,
   "metadata": {},
   "outputs": [],
   "source": [
    "df = pd.read_sql(sql, con=engine)\n",
    "\n",
    "display(df.head(5))"
   ]
  },
  {
   "cell_type": "markdown",
   "metadata": {},
   "source": [
    "## 컬럼 분석\n",
    "- 행정구 : 행정구를 나타내는 컬럼\n",
    "- 행정동 : 행정동을 나타내는 컬럼\n",
    "- 본번 : 번지 중 앞 번호\n",
    "- 부번 : 번지 중 뒷 번호(존재하지 않는 경우 0)\n",
    "- 도로명 : 도로명주소 중 도로명\n",
    "- 도로번호 : 도로명주소 중 도로번호\n",
    "- 단지명 : 아파트 단지명\n",
    "- 건축년도 : 아파트 건축년도\n",
    "- 동 : 아파트 동 번호\n",
    "- 층 : 아파트 층수\n",
    "- 전용면적(㎡) : 아파트 전용면적 (평방미터)\n",
    "- 계약형태 : 전세, 매매, 월세\n",
    "- 거래유형 : 아파트 거래 유형(중개, 직거래) <- 직거래일 시 특수관계인간 거래일 수 있음\n",
    "- 거래금액(만원) : 매매일 경우 거래금액(만원)\n",
    "- 보증금(만원) : 전월세일 경우 보증금(만원)\n",
    "- 월세금(만원) : 월세일 경우 월세금(만원)"
   ]
  },
  {
   "cell_type": "code",
   "execution_count": 2,
   "metadata": {},
   "outputs": [
    {
     "name": "stdout",
     "output_type": "stream",
     "text": [
      "<class 'pandas.core.frame.DataFrame'>\n",
      "Index: 2775194 entries, 0 to 92081\n",
      "Data columns (total 17 columns):\n",
      " #   Column    Dtype         \n",
      "---  ------    -----         \n",
      " 0   행정구       category      \n",
      " 1   행정동       category      \n",
      " 2   본번        int64         \n",
      " 3   부번        int64         \n",
      " 4   도로명       category      \n",
      " 5   도로번호      category      \n",
      " 6   단지명       category      \n",
      " 7   건축년도      int64         \n",
      " 8   동         category      \n",
      " 9   층         int64         \n",
      " 10  전용면적(㎡)   float64       \n",
      " 11  계약일       datetime64[ns]\n",
      " 12  계약형태      category      \n",
      " 13  거래유형      category      \n",
      " 14  거래금액(만원)  int64         \n",
      " 15  보증금(만원)   int64         \n",
      " 16  월세금(만원)   int64         \n",
      "dtypes: category(8), datetime64[ns](1), float64(1), int64(7)\n",
      "memory usage: 246.3 MB\n"
     ]
    }
   ],
   "source": [
    "##### If you have clean datafile(2014_2024.pkl), you can start from here #####\n",
    "import pandas as pd\n",
    "\n",
    "df = pd.read_pickle('./seoul_real_estate/2014_2024_cleaned.pkl')\n",
    "df.info()"
   ]
  },
  {
   "cell_type": "code",
   "execution_count": 3,
   "metadata": {},
   "outputs": [
    {
     "data": {
      "text/html": [
       "<div>\n",
       "<style scoped>\n",
       "    .dataframe tbody tr th:only-of-type {\n",
       "        vertical-align: middle;\n",
       "    }\n",
       "\n",
       "    .dataframe tbody tr th {\n",
       "        vertical-align: top;\n",
       "    }\n",
       "\n",
       "    .dataframe thead th {\n",
       "        text-align: right;\n",
       "    }\n",
       "</style>\n",
       "<table border=\"1\" class=\"dataframe\">\n",
       "  <thead>\n",
       "    <tr style=\"text-align: right;\">\n",
       "      <th></th>\n",
       "      <th>행정구</th>\n",
       "      <th>도로명</th>\n",
       "      <th>도로번호</th>\n",
       "    </tr>\n",
       "  </thead>\n",
       "  <tbody>\n",
       "    <tr>\n",
       "      <th>0</th>\n",
       "      <td>종로구</td>\n",
       "      <td>필운대로</td>\n",
       "      <td>69</td>\n",
       "    </tr>\n",
       "    <tr>\n",
       "      <th>1</th>\n",
       "      <td>종로구</td>\n",
       "      <td>사직로8길</td>\n",
       "      <td>4</td>\n",
       "    </tr>\n",
       "    <tr>\n",
       "      <th>31</th>\n",
       "      <td>종로구</td>\n",
       "      <td>경희궁길</td>\n",
       "      <td>57</td>\n",
       "    </tr>\n",
       "    <tr>\n",
       "      <th>46</th>\n",
       "      <td>종로구</td>\n",
       "      <td>새문안로3길</td>\n",
       "      <td>12</td>\n",
       "    </tr>\n",
       "    <tr>\n",
       "      <th>48</th>\n",
       "      <td>종로구</td>\n",
       "      <td>율곡로20길</td>\n",
       "      <td>24</td>\n",
       "    </tr>\n",
       "  </tbody>\n",
       "</table>\n",
       "</div>"
      ],
      "text/plain": [
       "    행정구     도로명 도로번호\n",
       "0   종로구    필운대로   69\n",
       "1   종로구   사직로8길    4\n",
       "31  종로구    경희궁길   57\n",
       "46  종로구  새문안로3길   12\n",
       "48  종로구  율곡로20길   24"
      ]
     },
     "metadata": {},
     "output_type": "display_data"
    },
    {
     "data": {
      "text/plain": [
       "10481"
      ]
     },
     "metadata": {},
     "output_type": "display_data"
    }
   ],
   "source": [
    "# get unique set of \"행정구\" \"도로명\" \"도로번호\"\n",
    "unique_set = df[['행정구', '도로명', '도로번호']].drop_duplicates()\n",
    "display(unique_set.head(5))\n",
    "display(len(unique_set))"
   ]
  },
  {
   "cell_type": "code",
   "execution_count": 4,
   "metadata": {},
   "outputs": [
    {
     "name": "stderr",
     "output_type": "stream",
     "text": [
      "  0%|          | 0/10481 [00:00<?, ?it/s]"
     ]
    },
    {
     "name": "stderr",
     "output_type": "stream",
     "text": [
      " 57%|█████▋    | 5995/10481 [08:46<05:41, 13.14it/s]"
     ]
    },
    {
     "name": "stdout",
     "output_type": "stream",
     "text": [
      "Error occured in ['종로구' '삼일대로' '428']\n",
      "Error occured in ['종로구' '성균관로17길' '35']\n"
     ]
    },
    {
     "name": "stderr",
     "output_type": "stream",
     "text": [
      " 57%|█████▋    | 6017/10481 [08:48<05:43, 13.00it/s]"
     ]
    },
    {
     "name": "stdout",
     "output_type": "stream",
     "text": [
      "Error occured in ['종로구' '종로56길' '42-8']\n"
     ]
    },
    {
     "name": "stderr",
     "output_type": "stream",
     "text": [
      " 57%|█████▋    | 6025/10481 [08:49<05:47, 12.82it/s]"
     ]
    },
    {
     "name": "stdout",
     "output_type": "stream",
     "text": [
      "Error occured in ['중구' '퇴계로8길' '101']\n"
     ]
    },
    {
     "name": "stderr",
     "output_type": "stream",
     "text": [
      " 58%|█████▊    | 6031/10481 [08:49<05:39, 13.12it/s]"
     ]
    },
    {
     "name": "stdout",
     "output_type": "stream",
     "text": [
      "Error occured in ['중구' '마른내로' '120']\n"
     ]
    },
    {
     "name": "stderr",
     "output_type": "stream",
     "text": [
      " 58%|█████▊    | 6033/10481 [08:49<05:30, 13.47it/s]"
     ]
    },
    {
     "name": "stdout",
     "output_type": "stream",
     "text": [
      "Error occured in ['중구' '다산로14길' '17']\n"
     ]
    },
    {
     "name": "stderr",
     "output_type": "stream",
     "text": [
      " 58%|█████▊    | 6037/10481 [08:49<05:36, 13.21it/s]"
     ]
    },
    {
     "name": "stdout",
     "output_type": "stream",
     "text": [
      "Error occured in ['중구' '다산로18길' '16']\n"
     ]
    },
    {
     "name": "stderr",
     "output_type": "stream",
     "text": [
      " 58%|█████▊    | 6057/10481 [08:51<05:03, 14.58it/s]"
     ]
    },
    {
     "name": "stdout",
     "output_type": "stream",
     "text": [
      "Error occured in ['중구' '마장로9길' '33']\n",
      "Error occured in ['중구' '난계로21길' '37']\n",
      "Error occured in ['중구' '난계로17길' '20-21']\n"
     ]
    },
    {
     "name": "stderr",
     "output_type": "stream",
     "text": [
      " 58%|█████▊    | 6061/10481 [08:51<04:47, 15.38it/s]"
     ]
    },
    {
     "name": "stdout",
     "output_type": "stream",
     "text": [
      "Error occured in ['중구' '중림로4길' '41']\n",
      "Error occured in ['중구' '서소문로6길' '21']\n",
      "Error occured in ['중구' '중림로' '21']\n"
     ]
    },
    {
     "name": "stderr",
     "output_type": "stream",
     "text": [
      " 58%|█████▊    | 6077/10481 [08:53<05:38, 13.03it/s]"
     ]
    },
    {
     "name": "stdout",
     "output_type": "stream",
     "text": [
      "Error occured in ['용산구' '새창로8길' '7']\n"
     ]
    },
    {
     "name": "stderr",
     "output_type": "stream",
     "text": [
      " 58%|█████▊    | 6085/10481 [08:53<05:06, 14.36it/s]"
     ]
    },
    {
     "name": "stdout",
     "output_type": "stream",
     "text": [
      "Error occured in ['용산구' '이촌로2가길' '36']\n",
      "Error occured in ['용산구' '이촌로14길' '16']\n",
      "Error occured in ['용산구' '이촌로' '34']\n"
     ]
    },
    {
     "name": "stderr",
     "output_type": "stream",
     "text": [
      " 58%|█████▊    | 6091/10481 [08:54<05:09, 14.20it/s]"
     ]
    },
    {
     "name": "stdout",
     "output_type": "stream",
     "text": [
      "Error occured in ['용산구' '독서당로34길' '22-22']\n"
     ]
    },
    {
     "name": "stderr",
     "output_type": "stream",
     "text": [
      " 58%|█████▊    | 6099/10481 [08:54<05:07, 14.23it/s]"
     ]
    },
    {
     "name": "stdout",
     "output_type": "stream",
     "text": [
      "Error occured in ['성동구' '청계천로' '474']\n",
      "Error occured in ['성동구' '왕십리로24가길' '5']\n",
      "Error occured in ['성동구' '마조로18길' '25']\n"
     ]
    },
    {
     "name": "stderr",
     "output_type": "stream",
     "text": [
      " 58%|█████▊    | 6103/10481 [08:54<04:49, 15.13it/s]"
     ]
    },
    {
     "name": "stdout",
     "output_type": "stream",
     "text": [
      "Error occured in ['성동구' '마조로15가길' '23']\n",
      "Error occured in ['성동구' '고산자로' '175']\n"
     ]
    },
    {
     "name": "stderr",
     "output_type": "stream",
     "text": [
      " 58%|█████▊    | 6107/10481 [08:55<04:49, 15.11it/s]"
     ]
    },
    {
     "name": "stdout",
     "output_type": "stream",
     "text": [
      "Error occured in ['성동구' '금호로' '102']\n",
      "Error occured in ['성동구' '행당로6길' '2']\n"
     ]
    },
    {
     "name": "stderr",
     "output_type": "stream",
     "text": [
      " 58%|█████▊    | 6111/10481 [08:55<05:03, 14.42it/s]"
     ]
    },
    {
     "name": "stdout",
     "output_type": "stream",
     "text": [
      "Error occured in ['성동구' '금호로' '111']\n",
      "Error occured in ['성동구' '금호로3길' '11']\n"
     ]
    },
    {
     "name": "stderr",
     "output_type": "stream",
     "text": [
      " 58%|█████▊    | 6115/10481 [08:55<05:00, 14.52it/s]"
     ]
    },
    {
     "name": "stdout",
     "output_type": "stream",
     "text": [
      "Error occured in ['성동구' '왕십리로' '80-1']\n",
      "Error occured in ['성동구' '뚝섬로' '312']\n"
     ]
    },
    {
     "name": "stderr",
     "output_type": "stream",
     "text": [
      " 58%|█████▊    | 6123/10481 [08:56<04:58, 14.58it/s]"
     ]
    },
    {
     "name": "stdout",
     "output_type": "stream",
     "text": [
      "Error occured in ['성동구' '천호대로' '298']\n",
      "Error occured in ['광진구' '능동로' '362']\n"
     ]
    },
    {
     "name": "stderr",
     "output_type": "stream",
     "text": [
      " 59%|█████▊    | 6133/10481 [08:57<05:29, 13.20it/s]"
     ]
    },
    {
     "name": "stdout",
     "output_type": "stream",
     "text": [
      "Error occured in ['광진구' '자양로' '325']\n"
     ]
    },
    {
     "name": "stderr",
     "output_type": "stream",
     "text": [
      " 59%|█████▊    | 6137/10481 [08:57<05:22, 13.48it/s]"
     ]
    },
    {
     "name": "stdout",
     "output_type": "stream",
     "text": [
      "Error occured in ['광진구' '구의강변로' '96']\n"
     ]
    },
    {
     "name": "stderr",
     "output_type": "stream",
     "text": [
      " 59%|█████▊    | 6145/10481 [08:57<05:17, 13.64it/s]"
     ]
    },
    {
     "name": "stdout",
     "output_type": "stream",
     "text": [
      "Error occured in ['광진구' '아차산로' '499']\n"
     ]
    },
    {
     "name": "stderr",
     "output_type": "stream",
     "text": [
      " 59%|█████▉    | 6163/10481 [08:59<04:55, 14.62it/s]"
     ]
    },
    {
     "name": "stdout",
     "output_type": "stream",
     "text": [
      "Error occured in ['동대문구' '무학로36길' '56']\n",
      "Error occured in ['동대문구' '왕산로19가길' '16']\n",
      "Error occured in ['동대문구' '고산자로29길' '18']\n"
     ]
    },
    {
     "name": "stderr",
     "output_type": "stream",
     "text": [
      " 59%|█████▉    | 6167/10481 [08:59<04:52, 14.75it/s]"
     ]
    },
    {
     "name": "stdout",
     "output_type": "stream",
     "text": [
      "Error occured in ['동대문구' '회기로8길' '20']\n",
      "Error occured in ['동대문구' '한천로' '235']\n",
      "Error occured in ['동대문구' '전농로' '190']\n"
     ]
    },
    {
     "name": "stderr",
     "output_type": "stream",
     "text": [
      " 59%|█████▉    | 6171/10481 [08:59<04:43, 15.18it/s]"
     ]
    },
    {
     "name": "stdout",
     "output_type": "stream",
     "text": [
      "Error occured in ['동대문구' '전농로10길' '111']\n",
      "Error occured in ['동대문구' '전농로10길' '132']\n"
     ]
    },
    {
     "name": "stderr",
     "output_type": "stream",
     "text": [
      " 59%|█████▉    | 6175/10481 [09:00<04:32, 15.81it/s]"
     ]
    },
    {
     "name": "stdout",
     "output_type": "stream",
     "text": [
      "Error occured in ['동대문구' '답십리로56길' '21-1']\n",
      "Error occured in ['동대문구' '답십리로57길' '53']\n",
      "Error occured in ['동대문구' '한천로33길' '11']\n",
      "Error occured in ['동대문구' '한천로11길' '10']\n"
     ]
    },
    {
     "name": "stderr",
     "output_type": "stream",
     "text": [
      " 59%|█████▉    | 6181/10481 [09:00<05:23, 13.31it/s]"
     ]
    },
    {
     "name": "stdout",
     "output_type": "stream",
     "text": [
      "Error occured in ['동대문구' '' '']\n"
     ]
    },
    {
     "name": "stderr",
     "output_type": "stream",
     "text": [
      " 59%|█████▉    | 6187/10481 [09:01<05:27, 13.12it/s]"
     ]
    },
    {
     "name": "stdout",
     "output_type": "stream",
     "text": [
      "Error occured in ['동대문구' '장한로23길' '11-9']\n"
     ]
    },
    {
     "name": "stderr",
     "output_type": "stream",
     "text": [
      " 59%|█████▉    | 6205/10481 [09:02<05:13, 13.62it/s]"
     ]
    },
    {
     "name": "stdout",
     "output_type": "stream",
     "text": [
      "Error occured in ['동대문구' '제기로26길' '26']\n",
      "Error occured in ['동대문구' '제기로' '129']\n",
      "Error occured in ['동대문구' '이문로1길' '33']\n"
     ]
    },
    {
     "name": "stderr",
     "output_type": "stream",
     "text": [
      " 59%|█████▉    | 6209/10481 [09:02<04:33, 15.60it/s]"
     ]
    },
    {
     "name": "stdout",
     "output_type": "stream",
     "text": [
      "Error occured in ['동대문구' '회기로25길' '17-9']\n",
      "Error occured in ['동대문구' '한천로58길' '75-45']\n",
      "Error occured in ['동대문구' '한천로58길' '135']\n"
     ]
    },
    {
     "name": "stderr",
     "output_type": "stream",
     "text": [
      " 59%|█████▉    | 6211/10481 [09:02<04:37, 15.36it/s]"
     ]
    },
    {
     "name": "stdout",
     "output_type": "stream",
     "text": [
      "Error occured in ['동대문구' '휘경로11길' '52']\n"
     ]
    },
    {
     "name": "stderr",
     "output_type": "stream",
     "text": [
      " 59%|█████▉    | 6213/10481 [09:03<08:00,  8.88it/s]"
     ]
    },
    {
     "name": "stdout",
     "output_type": "stream",
     "text": [
      "Error occured in ['동대문구' '이문로54길' '16']\n",
      "Error occured in ['중랑구' '용마산로' '228']\n"
     ]
    },
    {
     "name": "stderr",
     "output_type": "stream",
     "text": [
      " 59%|█████▉    | 6223/10481 [09:03<05:44, 12.35it/s]"
     ]
    },
    {
     "name": "stdout",
     "output_type": "stream",
     "text": [
      "Error occured in ['중랑구' '중랑천로' '72']\n"
     ]
    },
    {
     "name": "stderr",
     "output_type": "stream",
     "text": [
      " 59%|█████▉    | 6233/10481 [09:04<05:28, 12.94it/s]"
     ]
    },
    {
     "name": "stdout",
     "output_type": "stream",
     "text": [
      "Error occured in ['중랑구' '상봉로26길' '9']\n"
     ]
    },
    {
     "name": "stderr",
     "output_type": "stream",
     "text": [
      " 60%|█████▉    | 6239/10481 [09:05<05:23, 13.12it/s]"
     ]
    },
    {
     "name": "stdout",
     "output_type": "stream",
     "text": [
      "Error occured in ['중랑구' '신내로' '115']\n"
     ]
    },
    {
     "name": "stderr",
     "output_type": "stream",
     "text": [
      " 60%|█████▉    | 6245/10481 [09:05<05:12, 13.56it/s]"
     ]
    },
    {
     "name": "stdout",
     "output_type": "stream",
     "text": [
      "Error occured in ['성북구' '북악산로' '898']\n"
     ]
    },
    {
     "name": "stderr",
     "output_type": "stream",
     "text": [
      " 60%|█████▉    | 6251/10481 [09:06<05:12, 13.54it/s]"
     ]
    },
    {
     "name": "stdout",
     "output_type": "stream",
     "text": [
      "Error occured in ['성북구' '동소문로17길' '18']\n",
      "Error occured in ['성북구' '보문로29다길' '25-9']\n"
     ]
    },
    {
     "name": "stderr",
     "output_type": "stream",
     "text": [
      " 60%|█████▉    | 6257/10481 [09:06<05:13, 13.47it/s]"
     ]
    },
    {
     "name": "stdout",
     "output_type": "stream",
     "text": [
      "Error occured in ['성북구' '보문사길' '40']\n"
     ]
    },
    {
     "name": "stderr",
     "output_type": "stream",
     "text": [
      " 60%|█████▉    | 6259/10481 [09:06<05:05, 13.83it/s]"
     ]
    },
    {
     "name": "stdout",
     "output_type": "stream",
     "text": [
      "Error occured in ['성북구' '솔샘로25길' '11-14']\n"
     ]
    },
    {
     "name": "stderr",
     "output_type": "stream",
     "text": [
      " 60%|█████▉    | 6263/10481 [09:06<05:10, 13.60it/s]"
     ]
    },
    {
     "name": "stdout",
     "output_type": "stream",
     "text": [
      "Error occured in ['성북구' '회기로5길' '142']\n"
     ]
    },
    {
     "name": "stderr",
     "output_type": "stream",
     "text": [
      " 60%|█████▉    | 6267/10481 [09:07<04:57, 14.14it/s]"
     ]
    },
    {
     "name": "stdout",
     "output_type": "stream",
     "text": [
      "Error occured in ['성북구' '한천로101길' '54']\n",
      "Error occured in ['강북구' '삼양로' '246-14']\n"
     ]
    },
    {
     "name": "stderr",
     "output_type": "stream",
     "text": [
      " 60%|██████    | 6303/10481 [09:10<05:17, 13.14it/s]"
     ]
    },
    {
     "name": "stdout",
     "output_type": "stream",
     "text": [
      "Error occured in ['도봉구' '도봉로120길' '10']\n",
      "Error occured in ['도봉구' '도봉로110나길' '9']\n"
     ]
    },
    {
     "name": "stderr",
     "output_type": "stream",
     "text": [
      " 60%|██████    | 6315/10481 [09:10<04:44, 14.64it/s]"
     ]
    },
    {
     "name": "stdout",
     "output_type": "stream",
     "text": [
      "Error occured in ['도봉구' '도봉로180길' '6-119']\n",
      "Error occured in ['노원구' '' '']\n"
     ]
    },
    {
     "name": "stderr",
     "output_type": "stream",
     "text": [
      " 60%|██████    | 6319/10481 [09:11<04:46, 14.54it/s]"
     ]
    },
    {
     "name": "stdout",
     "output_type": "stream",
     "text": [
      "Error occured in ['노원구' '화랑로51길' '81']\n",
      "Error occured in ['노원구' '동일로174길' '36']\n",
      "Error occured in ['노원구' '공릉로46길' '18']\n"
     ]
    },
    {
     "name": "stderr",
     "output_type": "stream",
     "text": [
      " 60%|██████    | 6325/10481 [09:11<04:59, 13.88it/s]"
     ]
    },
    {
     "name": "stdout",
     "output_type": "stream",
     "text": [
      "Error occured in ['노원구' '화랑로' '425-13']\n"
     ]
    },
    {
     "name": "stderr",
     "output_type": "stream",
     "text": [
      " 60%|██████    | 6333/10481 [09:12<04:43, 14.62it/s]"
     ]
    },
    {
     "name": "stdout",
     "output_type": "stream",
     "text": [
      "Error occured in ['노원구' '한글비석로' '6']\n",
      "Error occured in ['노원구' '동일로227길' '26']\n"
     ]
    },
    {
     "name": "stderr",
     "output_type": "stream",
     "text": [
      " 60%|██████    | 6337/10481 [09:12<04:31, 15.24it/s]"
     ]
    },
    {
     "name": "stdout",
     "output_type": "stream",
     "text": [
      "Error occured in ['노원구' '덕릉로94가길' '41']\n",
      "Error occured in ['노원구' '덕릉로118길' '27']\n",
      "Error occured in ['노원구' '덕릉로131길' '21-11']\n"
     ]
    },
    {
     "name": "stderr",
     "output_type": "stream",
     "text": [
      " 61%|██████    | 6347/10481 [09:13<04:57, 13.88it/s]"
     ]
    },
    {
     "name": "stdout",
     "output_type": "stream",
     "text": [
      "Error occured in ['노원구' '동일로250길' '17']\n",
      "Error occured in ['노원구' '덕릉로112길' '13']\n"
     ]
    },
    {
     "name": "stderr",
     "output_type": "stream",
     "text": [
      " 61%|██████    | 6351/10481 [09:13<04:40, 14.71it/s]"
     ]
    },
    {
     "name": "stdout",
     "output_type": "stream",
     "text": [
      "Error occured in ['노원구' '노원로19길' '31']\n",
      "Error occured in ['노원구' '노원로' '331']\n",
      "Error occured in ['노원구' '덕릉로77길' '27']\n",
      "Error occured in ['노원구' '덕릉로73길' '31']\n"
     ]
    },
    {
     "name": "stderr",
     "output_type": "stream",
     "text": [
      " 61%|██████    | 6355/10481 [09:13<04:45, 14.44it/s]"
     ]
    },
    {
     "name": "stdout",
     "output_type": "stream",
     "text": [
      "Error occured in ['은평구' '은평터널로' '66']\n"
     ]
    },
    {
     "name": "stderr",
     "output_type": "stream",
     "text": [
      " 61%|██████    | 6365/10481 [09:14<04:59, 13.76it/s]"
     ]
    },
    {
     "name": "stdout",
     "output_type": "stream",
     "text": [
      "Error occured in ['은평구' '불광로2길' '27']\n",
      "Error occured in ['은평구' '불광로2길' '41']\n"
     ]
    },
    {
     "name": "stderr",
     "output_type": "stream",
     "text": [
      " 61%|██████    | 6369/10481 [09:14<04:51, 14.09it/s]"
     ]
    },
    {
     "name": "stdout",
     "output_type": "stream",
     "text": [
      "Error occured in ['은평구' '불광로2길' '46']\n",
      "Error occured in ['은평구' '불광로14길' '10-4']\n",
      "Error occured in ['은평구' '통일로' '792']\n"
     ]
    },
    {
     "name": "stderr",
     "output_type": "stream",
     "text": [
      " 61%|██████    | 6389/10481 [09:16<05:10, 13.20it/s]"
     ]
    },
    {
     "name": "stdout",
     "output_type": "stream",
     "text": [
      "Error occured in ['은평구' '통일로65길' '']\n"
     ]
    },
    {
     "name": "stderr",
     "output_type": "stream",
     "text": [
      " 61%|██████    | 6393/10481 [09:16<05:10, 13.15it/s]"
     ]
    },
    {
     "name": "stdout",
     "output_type": "stream",
     "text": [
      "Error occured in ['은평구' '통일로' '745-3']\n"
     ]
    },
    {
     "name": "stderr",
     "output_type": "stream",
     "text": [
      " 61%|██████    | 6397/10481 [09:16<05:02, 13.50it/s]"
     ]
    },
    {
     "name": "stdout",
     "output_type": "stream",
     "text": [
      "Error occured in ['은평구' '통일로77길' '4']\n"
     ]
    },
    {
     "name": "stderr",
     "output_type": "stream",
     "text": [
      " 61%|██████    | 6403/10481 [09:17<05:01, 13.53it/s]"
     ]
    },
    {
     "name": "stdout",
     "output_type": "stream",
     "text": [
      "Error occured in ['은평구' '통일로65길' '7-1']\n",
      "Error occured in ['은평구' '통일로65길' '13-2']\n"
     ]
    },
    {
     "name": "stderr",
     "output_type": "stream",
     "text": [
      " 61%|██████    | 6405/10481 [09:17<04:40, 14.54it/s]"
     ]
    },
    {
     "name": "stdout",
     "output_type": "stream",
     "text": [
      "Error occured in ['은평구' '통일로' '745-5']\n",
      "Error occured in ['은평구' '불광로' '25-1']\n",
      "Error occured in ['은평구' '통일로65길' '7']\n"
     ]
    },
    {
     "name": "stderr",
     "output_type": "stream",
     "text": [
      " 61%|██████    | 6415/10481 [09:18<04:52, 13.88it/s]"
     ]
    },
    {
     "name": "stdout",
     "output_type": "stream",
     "text": [
      "Error occured in ['은평구' '백련산로2길' '39']\n",
      "Error occured in ['은평구' '백련산로2길' '46']\n",
      "Error occured in ['은평구' '백련산로2길' '42']\n"
     ]
    },
    {
     "name": "stderr",
     "output_type": "stream",
     "text": [
      " 61%|██████    | 6417/10481 [09:18<04:58, 13.61it/s]"
     ]
    },
    {
     "name": "stdout",
     "output_type": "stream",
     "text": [
      "Error occured in ['은평구' '백련산로' '146-30']\n"
     ]
    },
    {
     "name": "stderr",
     "output_type": "stream",
     "text": [
      " 61%|██████▏   | 6423/10481 [09:18<05:11, 13.01it/s]"
     ]
    },
    {
     "name": "stdout",
     "output_type": "stream",
     "text": [
      "Error occured in ['은평구' '은평로' '236-3']\n"
     ]
    },
    {
     "name": "stderr",
     "output_type": "stream",
     "text": [
      " 61%|██████▏   | 6437/10481 [09:20<05:14, 12.86it/s]"
     ]
    },
    {
     "name": "stdout",
     "output_type": "stream",
     "text": [
      "Error occured in ['은평구' '증산로' '463']\n"
     ]
    },
    {
     "name": "stderr",
     "output_type": "stream",
     "text": [
      " 62%|██████▏   | 6463/10481 [09:22<04:51, 13.79it/s]"
     ]
    },
    {
     "name": "stdout",
     "output_type": "stream",
     "text": [
      "Error occured in ['은평구' '진관4로' '78-8']\n",
      "Error occured in ['은평구' '진관3로' '67']\n",
      "Error occured in ['은평구' '진관3로' '15-35']\n",
      "Error occured in ['은평구' '진관1로' '77-8']\n"
     ]
    },
    {
     "name": "stderr",
     "output_type": "stream",
     "text": [
      " 62%|██████▏   | 6465/10481 [09:22<04:57, 13.51it/s]"
     ]
    },
    {
     "name": "stdout",
     "output_type": "stream",
     "text": [
      "Error occured in ['은평구' '북한산로' '2']\n",
      "Error occured in ['서대문구' '성산로' '695']\n"
     ]
    },
    {
     "name": "stderr",
     "output_type": "stream",
     "text": [
      " 62%|██████▏   | 6473/10481 [09:22<04:53, 13.64it/s]"
     ]
    },
    {
     "name": "stdout",
     "output_type": "stream",
     "text": [
      "Error occured in ['서대문구' '통일로32길' '']\n"
     ]
    },
    {
     "name": "stderr",
     "output_type": "stream",
     "text": [
      " 62%|██████▏   | 6489/10481 [09:24<05:01, 13.25it/s]"
     ]
    },
    {
     "name": "stdout",
     "output_type": "stream",
     "text": [
      "Error occured in ['서대문구' '증가로' '54']\n",
      "Error occured in ['서대문구' '연희로31길' '14']\n"
     ]
    },
    {
     "name": "stderr",
     "output_type": "stream",
     "text": [
      " 62%|██████▏   | 6519/10481 [09:26<04:54, 13.47it/s]"
     ]
    },
    {
     "name": "stdout",
     "output_type": "stream",
     "text": [
      "Error occured in ['서대문구' '응암로' '32']\n",
      "Error occured in ['서대문구' '거북골로14길' '5']\n",
      "Error occured in ['서대문구' '거북골로16길' '36']\n"
     ]
    },
    {
     "name": "stderr",
     "output_type": "stream",
     "text": [
      " 62%|██████▏   | 6523/10481 [09:27<04:28, 14.74it/s]"
     ]
    },
    {
     "name": "stdout",
     "output_type": "stream",
     "text": [
      "Error occured in ['마포구' '만리재옛길' '101']\n",
      "Error occured in ['마포구' '백범로37길' '6']\n",
      "Error occured in ['마포구' '도화길' '32']\n"
     ]
    },
    {
     "name": "stderr",
     "output_type": "stream",
     "text": [
      " 62%|██████▏   | 6533/10481 [09:27<05:13, 12.60it/s]"
     ]
    },
    {
     "name": "stdout",
     "output_type": "stream",
     "text": [
      "Error occured in ['마포구' '토정로11길' '47-1']\n"
     ]
    },
    {
     "name": "stderr",
     "output_type": "stream",
     "text": [
      " 63%|██████▎   | 6555/10481 [09:29<05:18, 12.31it/s]"
     ]
    },
    {
     "name": "stdout",
     "output_type": "stream",
     "text": [
      "Error occured in ['마포구' '망원로' '88']\n"
     ]
    },
    {
     "name": "stderr",
     "output_type": "stream",
     "text": [
      " 63%|██████▎   | 6561/10481 [09:30<05:13, 12.50it/s]"
     ]
    },
    {
     "name": "stdout",
     "output_type": "stream",
     "text": [
      "Error occured in ['마포구' '성미산로' '21']\n",
      "Error occured in ['마포구' '월드컵로42길' '12']\n"
     ]
    },
    {
     "name": "stderr",
     "output_type": "stream",
     "text": [
      " 63%|██████▎   | 6565/10481 [09:30<05:09, 12.64it/s]"
     ]
    },
    {
     "name": "stdout",
     "output_type": "stream",
     "text": [
      "Error occured in ['마포구' '월드컵북로47길' '8']\n",
      "Error occured in ['양천구' '신정로14길' '1']\n"
     ]
    },
    {
     "name": "stderr",
     "output_type": "stream",
     "text": [
      " 63%|██████▎   | 6575/10481 [09:31<05:21, 12.16it/s]"
     ]
    },
    {
     "name": "stdout",
     "output_type": "stream",
     "text": [
      "Error occured in ['양천구' '목동남로4길' '6-46']\n"
     ]
    },
    {
     "name": "stderr",
     "output_type": "stream",
     "text": [
      " 63%|██████▎   | 6581/10481 [09:31<04:44, 13.71it/s]"
     ]
    },
    {
     "name": "stdout",
     "output_type": "stream",
     "text": [
      "Error occured in ['양천구' '신목로' '10']\n",
      "Error occured in ['양천구' '신목로' '5']\n",
      "Error occured in ['양천구' '목동로3길' '41']\n"
     ]
    },
    {
     "name": "stderr",
     "output_type": "stream",
     "text": [
      " 63%|██████▎   | 6585/10481 [09:32<05:01, 12.93it/s]"
     ]
    },
    {
     "name": "stdout",
     "output_type": "stream",
     "text": [
      "Error occured in ['양천구' '신정로13가길' '6']\n"
     ]
    },
    {
     "name": "stderr",
     "output_type": "stream",
     "text": [
      " 63%|██████▎   | 6587/10481 [09:32<04:51, 13.36it/s]"
     ]
    },
    {
     "name": "stdout",
     "output_type": "stream",
     "text": [
      "Error occured in ['양천구' '신정로7길' '70']\n",
      "Error occured in ['양천구' '신정로' '275']\n"
     ]
    },
    {
     "name": "stderr",
     "output_type": "stream",
     "text": [
      " 63%|██████▎   | 6593/10481 [09:32<05:02, 12.84it/s]"
     ]
    },
    {
     "name": "stdout",
     "output_type": "stream",
     "text": [
      "Error occured in ['양천구' '신정중앙로' '13']\n"
     ]
    },
    {
     "name": "stderr",
     "output_type": "stream",
     "text": [
      " 64%|██████▎   | 6663/10481 [09:38<05:07, 12.42it/s]"
     ]
    },
    {
     "name": "stdout",
     "output_type": "stream",
     "text": [
      "Error occured in ['강서구' '공항대로61길' '50']\n"
     ]
    },
    {
     "name": "stderr",
     "output_type": "stream",
     "text": [
      " 64%|██████▎   | 6679/10481 [09:39<04:52, 13.02it/s]"
     ]
    },
    {
     "name": "stdout",
     "output_type": "stream",
     "text": [
      "Error occured in ['강서구' '등촌로13아길' '30-13']\n",
      "Error occured in ['강서구' '강서로5나길' '64-1']\n"
     ]
    },
    {
     "name": "stderr",
     "output_type": "stream",
     "text": [
      " 64%|██████▍   | 6685/10481 [09:40<04:28, 14.16it/s]"
     ]
    },
    {
     "name": "stdout",
     "output_type": "stream",
     "text": [
      "Error occured in ['강서구' '까치산로11길' '12']\n",
      "Error occured in ['강서구' '까치산로11길' '26']\n"
     ]
    },
    {
     "name": "stderr",
     "output_type": "stream",
     "text": [
      " 64%|██████▍   | 6689/10481 [09:40<04:48, 13.13it/s]"
     ]
    },
    {
     "name": "stdout",
     "output_type": "stream",
     "text": [
      "Error occured in ['강서구' '까치산로11길' '20']\n"
     ]
    },
    {
     "name": "stderr",
     "output_type": "stream",
     "text": [
      " 64%|██████▍   | 6693/10481 [09:40<04:48, 13.14it/s]"
     ]
    },
    {
     "name": "stdout",
     "output_type": "stream",
     "text": [
      "Error occured in ['강서구' '까치산로11길' '16']\n",
      "Error occured in ['강서구' '월정로20길' '82-7']\n"
     ]
    },
    {
     "name": "stderr",
     "output_type": "stream",
     "text": [
      " 64%|██████▍   | 6697/10481 [09:41<04:41, 13.43it/s]"
     ]
    },
    {
     "name": "stdout",
     "output_type": "stream",
     "text": [
      "Error occured in ['강서구' '강서로7길' '97']\n"
     ]
    },
    {
     "name": "stderr",
     "output_type": "stream",
     "text": [
      " 64%|██████▍   | 6699/10481 [09:41<04:38, 13.59it/s]"
     ]
    },
    {
     "name": "stdout",
     "output_type": "stream",
     "text": [
      "Error occured in ['강서구' '강서로' '43-13']\n",
      "Error occured in ['강서구' '까치산로11길' '22']\n"
     ]
    },
    {
     "name": "stderr",
     "output_type": "stream",
     "text": [
      " 64%|██████▍   | 6709/10481 [09:42<04:44, 13.27it/s]"
     ]
    },
    {
     "name": "stdout",
     "output_type": "stream",
     "text": [
      "Error occured in ['강서구' '곰달래로' '125']\n"
     ]
    },
    {
     "name": "stderr",
     "output_type": "stream",
     "text": [
      " 64%|██████▍   | 6725/10481 [09:43<04:58, 12.59it/s]"
     ]
    },
    {
     "name": "stdout",
     "output_type": "stream",
     "text": [
      "Error occured in ['강서구' '화곡로42길' '19']\n"
     ]
    },
    {
     "name": "stderr",
     "output_type": "stream",
     "text": [
      " 64%|██████▍   | 6729/10481 [09:43<04:58, 12.55it/s]"
     ]
    },
    {
     "name": "stdout",
     "output_type": "stream",
     "text": [
      "Error occured in ['강서구' '곰달래로' '84-2']\n"
     ]
    },
    {
     "name": "stderr",
     "output_type": "stream",
     "text": [
      " 64%|██████▍   | 6735/10481 [09:44<04:30, 13.83it/s]"
     ]
    },
    {
     "name": "stdout",
     "output_type": "stream",
     "text": [
      "Error occured in ['강서구' '강서로7길' '69-6']\n",
      "Error occured in ['강서구' '강서로7길' '101']\n"
     ]
    },
    {
     "name": "stderr",
     "output_type": "stream",
     "text": [
      " 64%|██████▍   | 6743/10481 [09:44<04:45, 13.08it/s]"
     ]
    },
    {
     "name": "stdout",
     "output_type": "stream",
     "text": [
      "Error occured in ['강서구' '강서로29길' '42']\n",
      "Error occured in ['강서구' '우현로' '76']\n"
     ]
    },
    {
     "name": "stderr",
     "output_type": "stream",
     "text": [
      " 65%|██████▍   | 6785/10481 [09:48<04:52, 12.63it/s]"
     ]
    },
    {
     "name": "stdout",
     "output_type": "stream",
     "text": [
      "Error occured in ['강서구' '금낭화로23길' '25']\n",
      "Error occured in ['강서구' '개화동로21길' '49']\n"
     ]
    },
    {
     "name": "stderr",
     "output_type": "stream",
     "text": [
      " 65%|██████▍   | 6789/10481 [09:49<04:46, 12.88it/s]"
     ]
    },
    {
     "name": "stdout",
     "output_type": "stream",
     "text": [
      "Error occured in ['구로구' '가마산로26길' '']\n"
     ]
    },
    {
     "name": "stderr",
     "output_type": "stream",
     "text": [
      " 65%|██████▍   | 6797/10481 [09:49<04:24, 13.95it/s]"
     ]
    },
    {
     "name": "stdout",
     "output_type": "stream",
     "text": [
      "Error occured in ['구로구' '구로동로18길' '20-7']\n",
      "Error occured in ['구로구' '구로동로12길' '16-16']\n",
      "Error occured in ['구로구' '구로동로20길' '58-13']\n"
     ]
    },
    {
     "name": "stderr",
     "output_type": "stream",
     "text": [
      " 65%|██████▍   | 6801/10481 [09:49<04:12, 14.56it/s]"
     ]
    },
    {
     "name": "stdout",
     "output_type": "stream",
     "text": [
      "Error occured in ['구로구' '도림로10길' '4']\n",
      "Error occured in ['구로구' '구로동로22길' '55']\n"
     ]
    },
    {
     "name": "stderr",
     "output_type": "stream",
     "text": [
      " 65%|██████▍   | 6805/10481 [09:50<04:05, 14.98it/s]"
     ]
    },
    {
     "name": "stdout",
     "output_type": "stream",
     "text": [
      "Error occured in ['구로구' '구로동로8길' '17']\n",
      "Error occured in ['구로구' '구로동로18길' '62-16']\n"
     ]
    },
    {
     "name": "stderr",
     "output_type": "stream",
     "text": [
      " 65%|██████▌   | 6813/10481 [09:50<04:39, 13.14it/s]"
     ]
    },
    {
     "name": "stdout",
     "output_type": "stream",
     "text": [
      "Error occured in ['구로구' '구로동로18길' '38-4']\n"
     ]
    },
    {
     "name": "stderr",
     "output_type": "stream",
     "text": [
      " 65%|██████▌   | 6825/10481 [09:51<04:48, 12.67it/s]"
     ]
    },
    {
     "name": "stdout",
     "output_type": "stream",
     "text": [
      "Error occured in ['구로구' '도림로10길' '35']\n"
     ]
    },
    {
     "name": "stderr",
     "output_type": "stream",
     "text": [
      " 65%|██████▌   | 6843/10481 [09:53<04:42, 12.90it/s]"
     ]
    },
    {
     "name": "stdout",
     "output_type": "stream",
     "text": [
      "Error occured in ['구로구' '구로동로8길' '16']\n"
     ]
    },
    {
     "name": "stderr",
     "output_type": "stream",
     "text": [
      " 65%|██████▌   | 6851/10481 [09:53<04:29, 13.45it/s]"
     ]
    },
    {
     "name": "stdout",
     "output_type": "stream",
     "text": [
      "Error occured in ['구로구' '구로동로20길' '41-6']\n",
      "Error occured in ['구로구' '구로동로20길' '28-5']\n",
      "Error occured in ['구로구' '구로동로22길' '78-7']\n"
     ]
    },
    {
     "name": "stderr",
     "output_type": "stream",
     "text": [
      " 65%|██████▌   | 6855/10481 [09:54<04:16, 14.12it/s]"
     ]
    },
    {
     "name": "stdout",
     "output_type": "stream",
     "text": [
      "Error occured in ['구로구' '디지털로27라길' '33']\n",
      "Error occured in ['구로구' '도림로6길' '18-4']\n"
     ]
    },
    {
     "name": "stderr",
     "output_type": "stream",
     "text": [
      " 65%|██████▌   | 6865/10481 [09:54<04:30, 13.37it/s]"
     ]
    },
    {
     "name": "stdout",
     "output_type": "stream",
     "text": [
      "Error occured in ['구로구' '도림로8길' '22']\n"
     ]
    },
    {
     "name": "stderr",
     "output_type": "stream",
     "text": [
      " 66%|██████▌   | 6873/10481 [09:55<04:36, 13.06it/s]"
     ]
    },
    {
     "name": "stdout",
     "output_type": "stream",
     "text": [
      "Error occured in ['구로구' '도림로6길' '42']\n"
     ]
    },
    {
     "name": "stderr",
     "output_type": "stream",
     "text": [
      " 66%|██████▌   | 6877/10481 [09:55<04:36, 13.02it/s]"
     ]
    },
    {
     "name": "stdout",
     "output_type": "stream",
     "text": [
      "Error occured in ['구로구' '구로동로12길' '16-10']\n"
     ]
    },
    {
     "name": "stderr",
     "output_type": "stream",
     "text": [
      " 66%|██████▌   | 6885/10481 [09:56<04:32, 13.17it/s]"
     ]
    },
    {
     "name": "stdout",
     "output_type": "stream",
     "text": [
      "Error occured in ['구로구' '구로동로18길' '44-4']\n"
     ]
    },
    {
     "name": "stderr",
     "output_type": "stream",
     "text": [
      " 66%|██████▌   | 6889/10481 [09:56<04:37, 12.93it/s]"
     ]
    },
    {
     "name": "stdout",
     "output_type": "stream",
     "text": [
      "Error occured in ['구로구' '도림로6길' '39-6']\n"
     ]
    },
    {
     "name": "stderr",
     "output_type": "stream",
     "text": [
      " 66%|██████▌   | 6893/10481 [09:57<04:38, 12.89it/s]"
     ]
    },
    {
     "name": "stdout",
     "output_type": "stream",
     "text": [
      "Error occured in ['구로구' '구로동로12길' '4-5']\n"
     ]
    },
    {
     "name": "stderr",
     "output_type": "stream",
     "text": [
      " 66%|██████▌   | 6899/10481 [09:57<04:33, 13.09it/s]"
     ]
    },
    {
     "name": "stdout",
     "output_type": "stream",
     "text": [
      "Error occured in ['구로구' '디지털로27라길' '29-12']\n"
     ]
    },
    {
     "name": "stderr",
     "output_type": "stream",
     "text": [
      " 66%|██████▌   | 6903/10481 [09:57<04:36, 12.94it/s]"
     ]
    },
    {
     "name": "stdout",
     "output_type": "stream",
     "text": [
      "Error occured in ['구로구' '도림로8길' '5']\n",
      "Error occured in ['구로구' '중앙로' '85']\n"
     ]
    },
    {
     "name": "stderr",
     "output_type": "stream",
     "text": [
      " 66%|██████▌   | 6929/10481 [09:59<04:41, 12.63it/s]"
     ]
    },
    {
     "name": "stdout",
     "output_type": "stream",
     "text": [
      "Error occured in ['금천구' '문성로' '14']\n",
      "Error occured in ['금천구' '시흥대로102길' '33']\n"
     ]
    },
    {
     "name": "stderr",
     "output_type": "stream",
     "text": [
      " 66%|██████▋   | 6951/10481 [10:01<04:31, 12.98it/s]"
     ]
    },
    {
     "name": "stdout",
     "output_type": "stream",
     "text": [
      "Error occured in ['영등포구' '경인로114길' '42']\n",
      "Error occured in ['영등포구' '경인로114길' '16']\n",
      "Error occured in ['영등포구' '버드나루로7길' '11']\n"
     ]
    },
    {
     "name": "stderr",
     "output_type": "stream",
     "text": [
      " 66%|██████▋   | 6955/10481 [10:02<04:31, 13.00it/s]"
     ]
    },
    {
     "name": "stdout",
     "output_type": "stream",
     "text": [
      "Error occured in ['영등포구' '국회대로54길' '37-13']\n"
     ]
    },
    {
     "name": "stderr",
     "output_type": "stream",
     "text": [
      " 66%|██████▋   | 6959/10481 [10:02<04:24, 13.29it/s]"
     ]
    },
    {
     "name": "stdout",
     "output_type": "stream",
     "text": [
      "Error occured in ['영등포구' '영신로' '183']\n",
      "Error occured in ['영등포구' '버드나루로' '146']\n"
     ]
    },
    {
     "name": "stderr",
     "output_type": "stream",
     "text": [
      " 66%|██████▋   | 6963/10481 [10:02<04:21, 13.46it/s]"
     ]
    },
    {
     "name": "stdout",
     "output_type": "stream",
     "text": [
      "Error occured in ['영등포구' '버드나루로' '91']\n",
      "Error occured in ['영등포구' '버드나루로' '89']\n",
      "Error occured in ['영등포구' '버드나루로' '95']\n"
     ]
    },
    {
     "name": "stderr",
     "output_type": "stream",
     "text": [
      " 66%|██████▋   | 6967/10481 [10:02<04:18, 13.57it/s]"
     ]
    },
    {
     "name": "stdout",
     "output_type": "stream",
     "text": [
      "Error occured in ['영등포구' '버드나루로' '131']\n"
     ]
    },
    {
     "name": "stderr",
     "output_type": "stream",
     "text": [
      " 67%|██████▋   | 6979/10481 [10:03<04:39, 12.53it/s]"
     ]
    },
    {
     "name": "stdout",
     "output_type": "stream",
     "text": [
      "Error occured in ['영등포구' '신길로42길' '25']\n",
      "Error occured in ['영등포구' '영등포로' '363']\n"
     ]
    },
    {
     "name": "stderr",
     "output_type": "stream",
     "text": [
      " 67%|██████▋   | 6985/10481 [10:04<04:30, 12.93it/s]"
     ]
    },
    {
     "name": "stdout",
     "output_type": "stream",
     "text": [
      "Error occured in ['동작구' '장승배기로28길' '19']\n"
     ]
    },
    {
     "name": "stderr",
     "output_type": "stream",
     "text": [
      " 67%|██████▋   | 6993/10481 [10:05<04:33, 12.77it/s]"
     ]
    },
    {
     "name": "stdout",
     "output_type": "stream",
     "text": [
      "Error occured in ['동작구' '상도로53길' '70']\n"
     ]
    },
    {
     "name": "stderr",
     "output_type": "stream",
     "text": [
      " 67%|██████▋   | 7001/10481 [10:05<04:31, 12.80it/s]"
     ]
    },
    {
     "name": "stdout",
     "output_type": "stream",
     "text": [
      "Error occured in ['동작구' '상도로41다길' '23']\n"
     ]
    },
    {
     "name": "stderr",
     "output_type": "stream",
     "text": [
      " 67%|██████▋   | 7007/10481 [10:06<04:46, 12.11it/s]"
     ]
    },
    {
     "name": "stdout",
     "output_type": "stream",
     "text": [
      "Error occured in ['동작구' '노량진로22길' '60']\n"
     ]
    },
    {
     "name": "stderr",
     "output_type": "stream",
     "text": [
      " 67%|██████▋   | 7027/10481 [10:07<04:24, 13.08it/s]"
     ]
    },
    {
     "name": "stdout",
     "output_type": "stream",
     "text": [
      "Error occured in ['관악구' '봉천로33길' '8']\n",
      "Error occured in ['관악구' '관악로15길' '22']\n"
     ]
    },
    {
     "name": "stderr",
     "output_type": "stream",
     "text": [
      " 67%|██████▋   | 7031/10481 [10:08<04:20, 13.24it/s]"
     ]
    },
    {
     "name": "stdout",
     "output_type": "stream",
     "text": [
      "Error occured in ['관악구' '관악로' '115']\n",
      "Error occured in ['관악구' '구암길' '106']\n"
     ]
    },
    {
     "name": "stderr",
     "output_type": "stream",
     "text": [
      " 67%|██████▋   | 7033/10481 [10:08<03:59, 14.42it/s]"
     ]
    },
    {
     "name": "stdout",
     "output_type": "stream",
     "text": [
      "Error occured in ['관악구' '양녕로' '117']\n",
      "Error occured in ['관악구' '은천로' '391']\n"
     ]
    },
    {
     "name": "stderr",
     "output_type": "stream",
     "text": [
      " 67%|██████▋   | 7045/10481 [10:09<04:26, 12.89it/s]"
     ]
    },
    {
     "name": "stdout",
     "output_type": "stream",
     "text": [
      "Error occured in ['관악구' '청림5길' '28']\n"
     ]
    },
    {
     "name": "stderr",
     "output_type": "stream",
     "text": [
      " 67%|██████▋   | 7051/10481 [10:09<04:21, 13.12it/s]"
     ]
    },
    {
     "name": "stdout",
     "output_type": "stream",
     "text": [
      "Error occured in ['관악구' '관악로30길' '40']\n",
      "Error occured in ['관악구' '봉천로33길' '7']\n"
     ]
    },
    {
     "name": "stderr",
     "output_type": "stream",
     "text": [
      " 67%|██████▋   | 7055/10481 [10:09<04:26, 12.83it/s]"
     ]
    },
    {
     "name": "stdout",
     "output_type": "stream",
     "text": [
      "Error occured in ['관악구' '관악로37길' '20']\n"
     ]
    },
    {
     "name": "stderr",
     "output_type": "stream",
     "text": [
      " 67%|██████▋   | 7065/10481 [10:11<05:14, 10.86it/s]"
     ]
    },
    {
     "name": "stdout",
     "output_type": "stream",
     "text": [
      "Error occured in ['관악구' '양녕로' '31']\n"
     ]
    },
    {
     "name": "stderr",
     "output_type": "stream",
     "text": [
      " 67%|██████▋   | 7071/10481 [10:11<04:31, 12.56it/s]"
     ]
    },
    {
     "name": "stdout",
     "output_type": "stream",
     "text": [
      "Error occured in ['관악구' '난곡로' '80']\n"
     ]
    },
    {
     "name": "stderr",
     "output_type": "stream",
     "text": [
      " 68%|██████▊   | 7081/10481 [10:12<04:18, 13.17it/s]"
     ]
    },
    {
     "name": "stdout",
     "output_type": "stream",
     "text": [
      "Error occured in ['관악구' '신림로65길' '22-14']\n"
     ]
    },
    {
     "name": "stderr",
     "output_type": "stream",
     "text": [
      " 68%|██████▊   | 7085/10481 [10:12<04:03, 13.96it/s]"
     ]
    },
    {
     "name": "stdout",
     "output_type": "stream",
     "text": [
      "Error occured in ['관악구' '광신길' '86']\n",
      "Error occured in ['관악구' '봉천로14길' '17']\n"
     ]
    },
    {
     "name": "stderr",
     "output_type": "stream",
     "text": [
      " 68%|██████▊   | 7087/10481 [10:12<03:46, 14.96it/s]"
     ]
    },
    {
     "name": "stdout",
     "output_type": "stream",
     "text": [
      "Error occured in ['관악구' '신림동3길' '1']\n",
      "Error occured in ['관악구' '신림로65길' '22-8']\n"
     ]
    },
    {
     "name": "stderr",
     "output_type": "stream",
     "text": [
      " 68%|██████▊   | 7125/10481 [10:15<04:25, 12.63it/s]"
     ]
    },
    {
     "name": "stdout",
     "output_type": "stream",
     "text": [
      "Error occured in ['서초구' '동광로27길' '29-9']\n"
     ]
    },
    {
     "name": "stderr",
     "output_type": "stream",
     "text": [
      " 68%|██████▊   | 7153/10481 [10:18<04:15, 13.04it/s]"
     ]
    },
    {
     "name": "stdout",
     "output_type": "stream",
     "text": [
      "Error occured in ['서초구' '동광로3길' '113']\n"
     ]
    },
    {
     "name": "stderr",
     "output_type": "stream",
     "text": [
      " 68%|██████▊   | 7161/10481 [10:18<04:26, 12.46it/s]"
     ]
    },
    {
     "name": "stdout",
     "output_type": "stream",
     "text": [
      "Error occured in ['서초구' '매헌로16길' '40']\n",
      "Error occured in ['서초구' '바우뫼로18길' '20']\n"
     ]
    },
    {
     "name": "stderr",
     "output_type": "stream",
     "text": [
      " 68%|██████▊   | 7173/10481 [10:19<04:24, 12.51it/s]"
     ]
    },
    {
     "name": "stdout",
     "output_type": "stream",
     "text": [
      "Error occured in ['서초구' '강남대로12길' '19']\n"
     ]
    },
    {
     "name": "stderr",
     "output_type": "stream",
     "text": [
      " 69%|██████▊   | 7191/10481 [10:21<04:01, 13.60it/s]"
     ]
    },
    {
     "name": "stdout",
     "output_type": "stream",
     "text": [
      "Error occured in ['서초구' '태봉로2길' '5']\n",
      "Error occured in ['서초구' '양재대로2길' '34']\n",
      "Error occured in ['서초구' '바우뫼로7길' '11']\n"
     ]
    },
    {
     "name": "stderr",
     "output_type": "stream",
     "text": [
      " 69%|██████▊   | 7199/10481 [10:21<03:55, 13.95it/s]"
     ]
    },
    {
     "name": "stdout",
     "output_type": "stream",
     "text": [
      "Error occured in ['서초구' '잠원로' '205']\n",
      "Error occured in ['서초구' '신반포로' '']\n",
      "Error occured in ['서초구' '고무래로' '']\n"
     ]
    },
    {
     "name": "stderr",
     "output_type": "stream",
     "text": [
      " 69%|██████▉   | 7219/10481 [10:23<04:18, 12.61it/s]"
     ]
    },
    {
     "name": "stdout",
     "output_type": "stream",
     "text": [
      "Error occured in ['서초구' '사평대로20길' '99']\n"
     ]
    },
    {
     "name": "stderr",
     "output_type": "stream",
     "text": [
      " 69%|██████▉   | 7229/10481 [10:24<04:11, 12.90it/s]"
     ]
    },
    {
     "name": "stdout",
     "output_type": "stream",
     "text": [
      "Error occured in ['서초구' '명달로' '46']\n",
      "Error occured in ['서초구' '사임당로8길' '29']\n",
      "Error occured in ['서초구' '서운로' '211']\n"
     ]
    },
    {
     "name": "stderr",
     "output_type": "stream",
     "text": [
      " 69%|██████▉   | 7233/10481 [10:24<03:52, 13.96it/s]"
     ]
    },
    {
     "name": "stdout",
     "output_type": "stream",
     "text": [
      "Error occured in ['서초구' '남부순환로347길' '21-16']\n",
      "Error occured in ['서초구' '사임당로' '']\n"
     ]
    },
    {
     "name": "stderr",
     "output_type": "stream",
     "text": [
      " 69%|██████▉   | 7273/10481 [10:27<04:07, 12.96it/s]"
     ]
    },
    {
     "name": "stdout",
     "output_type": "stream",
     "text": [
      "Error occured in ['강남구' '언주로75길' '24']\n",
      "Error occured in ['강남구' '도곡로11길' '10']\n"
     ]
    },
    {
     "name": "stderr",
     "output_type": "stream",
     "text": [
      " 69%|██████▉   | 7277/10481 [10:28<04:06, 13.01it/s]"
     ]
    },
    {
     "name": "stdout",
     "output_type": "stream",
     "text": [
      "Error occured in ['강남구' '역삼로7길' '13']\n"
     ]
    },
    {
     "name": "stderr",
     "output_type": "stream",
     "text": [
      " 70%|██████▉   | 7297/10481 [10:29<04:12, 12.60it/s]"
     ]
    },
    {
     "name": "stdout",
     "output_type": "stream",
     "text": [
      "Error occured in ['강남구' '압구정로79길' '61-9']\n"
     ]
    },
    {
     "name": "stderr",
     "output_type": "stream",
     "text": [
      " 70%|███████   | 7337/10481 [10:33<04:15, 12.32it/s]"
     ]
    },
    {
     "name": "stdout",
     "output_type": "stream",
     "text": [
      "Error occured in ['강남구' '역삼로' '555']\n"
     ]
    },
    {
     "name": "stderr",
     "output_type": "stream",
     "text": [
      " 70%|███████   | 7357/10481 [10:35<04:21, 11.97it/s]"
     ]
    },
    {
     "name": "stdout",
     "output_type": "stream",
     "text": [
      "Error occured in ['강남구' '학동로17길' '13']\n"
     ]
    },
    {
     "name": "stderr",
     "output_type": "stream",
     "text": [
      " 70%|███████   | 7361/10481 [10:35<04:12, 12.37it/s]"
     ]
    },
    {
     "name": "stdout",
     "output_type": "stream",
     "text": [
      "Error occured in ['강남구' '논현로111길' '3']\n"
     ]
    },
    {
     "name": "stderr",
     "output_type": "stream",
     "text": [
      " 70%|███████   | 7377/10481 [10:36<04:04, 12.68it/s]"
     ]
    },
    {
     "name": "stdout",
     "output_type": "stream",
     "text": [
      "Error occured in ['강남구' '' '헌릉로590길']\n",
      "Error occured in ['강남구' '헌릉로590길' '88']\n"
     ]
    },
    {
     "name": "stderr",
     "output_type": "stream",
     "text": [
      " 70%|███████   | 7379/10481 [10:36<03:59, 12.93it/s]"
     ]
    },
    {
     "name": "stdout",
     "output_type": "stream",
     "text": [
      "Error occured in ['강남구' '자곡로3길' '22']\n"
     ]
    },
    {
     "name": "stderr",
     "output_type": "stream",
     "text": [
      " 70%|███████   | 7383/10481 [10:37<03:53, 13.27it/s]"
     ]
    },
    {
     "name": "stdout",
     "output_type": "stream",
     "text": [
      "Error occured in ['강남구' '영동대로4길' '17']\n",
      "Error occured in ['강남구' '영동대로4길' '10']\n"
     ]
    },
    {
     "name": "stderr",
     "output_type": "stream",
     "text": [
      " 70%|███████   | 7387/10481 [10:37<04:07, 12.49it/s]"
     ]
    },
    {
     "name": "stdout",
     "output_type": "stream",
     "text": [
      "Error occured in ['강남구' '도곡로2길' '46']\n",
      "Error occured in ['강남구' '강남대로48길' '15']\n"
     ]
    },
    {
     "name": "stderr",
     "output_type": "stream",
     "text": [
      " 71%|███████   | 7395/10481 [10:38<04:01, 12.78it/s]"
     ]
    },
    {
     "name": "stdout",
     "output_type": "stream",
     "text": [
      "Error occured in ['강남구' '남부순환로379길' '19']\n"
     ]
    },
    {
     "name": "stderr",
     "output_type": "stream",
     "text": [
      " 71%|███████   | 7401/10481 [10:38<03:49, 13.44it/s]"
     ]
    },
    {
     "name": "stdout",
     "output_type": "stream",
     "text": [
      "Error occured in ['송파구' '강동대로3길' '']\n",
      "Error occured in ['송파구' '강동대로3길' '20']\n"
     ]
    },
    {
     "name": "stderr",
     "output_type": "stream",
     "text": [
      " 71%|███████   | 7425/10481 [10:40<04:09, 12.26it/s]"
     ]
    },
    {
     "name": "stdout",
     "output_type": "stream",
     "text": [
      "Error occured in ['송파구' '송이로14길' '18']\n"
     ]
    },
    {
     "name": "stderr",
     "output_type": "stream",
     "text": [
      " 71%|███████   | 7461/10481 [10:43<04:04, 12.37it/s]"
     ]
    },
    {
     "name": "stdout",
     "output_type": "stream",
     "text": [
      "Error occured in ['송파구' '마천로' '193']\n"
     ]
    },
    {
     "name": "stderr",
     "output_type": "stream",
     "text": [
      " 71%|███████▏  | 7473/10481 [10:44<04:02, 12.39it/s]"
     ]
    },
    {
     "name": "stdout",
     "output_type": "stream",
     "text": [
      "Error occured in ['송파구' '양산로2길' '44']\n"
     ]
    },
    {
     "name": "stderr",
     "output_type": "stream",
     "text": [
      " 71%|███████▏  | 7481/10481 [10:45<04:03, 12.33it/s]"
     ]
    },
    {
     "name": "stdout",
     "output_type": "stream",
     "text": [
      "Error occured in ['강동구' '고덕로61길' '34']\n"
     ]
    },
    {
     "name": "stderr",
     "output_type": "stream",
     "text": [
      " 71%|███████▏  | 7483/10481 [10:45<03:59, 12.54it/s]"
     ]
    },
    {
     "name": "stdout",
     "output_type": "stream",
     "text": [
      "Error occured in ['강동구' '양재대로' '1500']\n"
     ]
    },
    {
     "name": "stderr",
     "output_type": "stream",
     "text": [
      " 71%|███████▏  | 7493/10481 [10:46<03:47, 13.16it/s]"
     ]
    },
    {
     "name": "stdout",
     "output_type": "stream",
     "text": [
      "Error occured in ['강동구' '양재대로113길' '51']\n",
      "Error occured in ['강동구' '양재대로114길' '25']\n"
     ]
    },
    {
     "name": "stderr",
     "output_type": "stream",
     "text": [
      " 72%|███████▏  | 7499/10481 [10:46<03:48, 13.04it/s]"
     ]
    },
    {
     "name": "stdout",
     "output_type": "stream",
     "text": [
      "Error occured in ['강동구' '진황도로' '107']\n"
     ]
    },
    {
     "name": "stderr",
     "output_type": "stream",
     "text": [
      " 72%|███████▏  | 7515/10481 [10:48<03:45, 13.17it/s]"
     ]
    },
    {
     "name": "stdout",
     "output_type": "stream",
     "text": [
      "Error occured in ['강동구' '상암로5길' '77']\n",
      "Error occured in ['강동구' '고덕로20마길' '35']\n"
     ]
    },
    {
     "name": "stderr",
     "output_type": "stream",
     "text": [
      " 72%|███████▏  | 7533/10481 [10:49<03:48, 12.91it/s]"
     ]
    },
    {
     "name": "stdout",
     "output_type": "stream",
     "text": [
      "Error occured in ['강동구' '풍성로54길' '48']\n"
     ]
    },
    {
     "name": "stderr",
     "output_type": "stream",
     "text": [
      " 72%|███████▏  | 7557/10481 [10:51<03:52, 12.57it/s]"
     ]
    },
    {
     "name": "stdout",
     "output_type": "stream",
     "text": [
      "Error occured in ['강동구' '상암로41길' '67']\n"
     ]
    },
    {
     "name": "stderr",
     "output_type": "stream",
     "text": [
      " 78%|███████▊  | 8129/10481 [11:39<02:51, 13.71it/s]"
     ]
    },
    {
     "name": "stdout",
     "output_type": "stream",
     "text": [
      "Error occured in ['성동구' '매봉길' '17']\n",
      "Error occured in ['성동구' '한림말길' '48']\n",
      "Error occured in ['성동구' '독서당로' '173']\n"
     ]
    },
    {
     "name": "stderr",
     "output_type": "stream",
     "text": [
      " 78%|███████▊  | 8133/10481 [11:40<03:01, 12.94it/s]"
     ]
    },
    {
     "name": "stdout",
     "output_type": "stream",
     "text": [
      "Error occured in ['종로구' '평창문화로' '170']\n"
     ]
    },
    {
     "name": "stderr",
     "output_type": "stream",
     "text": [
      " 78%|███████▊  | 8141/10481 [11:40<03:09, 12.36it/s]"
     ]
    },
    {
     "name": "stdout",
     "output_type": "stream",
     "text": [
      "Error occured in ['중구' '동호로11바길' '30-8']\n"
     ]
    },
    {
     "name": "stderr",
     "output_type": "stream",
     "text": [
      " 78%|███████▊  | 8149/10481 [11:41<02:51, 13.60it/s]"
     ]
    },
    {
     "name": "stdout",
     "output_type": "stream",
     "text": [
      "Error occured in ['용산구' '이촌로14길' '11-6']\n",
      "Error occured in ['용산구' '이촌로81길' '34']\n",
      "Error occured in ['용산구' '이촌로' '319']\n"
     ]
    },
    {
     "name": "stderr",
     "output_type": "stream",
     "text": [
      " 78%|███████▊  | 8153/10481 [11:41<02:38, 14.68it/s]"
     ]
    },
    {
     "name": "stdout",
     "output_type": "stream",
     "text": [
      "Error occured in ['용산구' '이촌로81길' '14']\n",
      "Error occured in ['용산구' '이촌로' '264']\n",
      "Error occured in ['용산구' '이촌로84길' '9-12']\n"
     ]
    },
    {
     "name": "stderr",
     "output_type": "stream",
     "text": [
      " 78%|███████▊  | 8169/10481 [11:42<02:35, 14.91it/s]"
     ]
    },
    {
     "name": "stdout",
     "output_type": "stream",
     "text": [
      "Error occured in ['광진구' '아차산로' '503']\n",
      "Error occured in ['광진구' '아차산로70길' '17-17']\n",
      "Error occured in ['광진구' '아차산로' '635']\n",
      "Error occured in ['광진구' '아차산로' '530']\n"
     ]
    },
    {
     "name": "stderr",
     "output_type": "stream",
     "text": [
      " 78%|███████▊  | 8171/10481 [11:42<02:27, 15.68it/s]"
     ]
    },
    {
     "name": "stdout",
     "output_type": "stream",
     "text": [
      "Error occured in ['광진구' '아차산로76길' '27']\n",
      "Error occured in ['광진구' '아차산로66길' '31']\n"
     ]
    },
    {
     "name": "stderr",
     "output_type": "stream",
     "text": [
      " 78%|███████▊  | 8179/10481 [11:43<02:54, 13.17it/s]"
     ]
    },
    {
     "name": "stdout",
     "output_type": "stream",
     "text": [
      "Error occured in ['동대문구' '전농로' '217-15']\n"
     ]
    },
    {
     "name": "stderr",
     "output_type": "stream",
     "text": [
      " 78%|███████▊  | 8183/10481 [11:43<02:56, 13.02it/s]"
     ]
    },
    {
     "name": "stdout",
     "output_type": "stream",
     "text": [
      "Error occured in ['중랑구' '사가정로42길' '70']\n"
     ]
    },
    {
     "name": "stderr",
     "output_type": "stream",
     "text": [
      " 78%|███████▊  | 8189/10481 [11:44<02:40, 14.32it/s]"
     ]
    },
    {
     "name": "stdout",
     "output_type": "stream",
     "text": [
      "Error occured in ['중랑구' '봉화산로' '153']\n",
      "Error occured in ['중랑구' '신내로' '277']\n",
      "Error occured in ['중랑구' '양원역로' '61']\n"
     ]
    },
    {
     "name": "stderr",
     "output_type": "stream",
     "text": [
      " 78%|███████▊  | 8191/10481 [11:44<02:44, 13.93it/s]"
     ]
    },
    {
     "name": "stdout",
     "output_type": "stream",
     "text": [
      "Error occured in ['중랑구' '신내로16길' '33']\n"
     ]
    },
    {
     "name": "stderr",
     "output_type": "stream",
     "text": [
      " 78%|███████▊  | 8197/10481 [11:44<02:41, 14.16it/s]"
     ]
    },
    {
     "name": "stdout",
     "output_type": "stream",
     "text": [
      "Error occured in ['성북구' '동소문로29길' '60-12']\n",
      "Error occured in ['성북구' '동소문로' '89']\n",
      "Error occured in ['성북구' '동소문로26마길' '20']\n"
     ]
    },
    {
     "name": "stderr",
     "output_type": "stream",
     "text": [
      " 78%|███████▊  | 8201/10481 [11:45<02:44, 13.82it/s]"
     ]
    },
    {
     "name": "stdout",
     "output_type": "stream",
     "text": [
      "Error occured in ['성북구' '' '16']\n",
      "Error occured in ['성북구' '' '33']\n"
     ]
    },
    {
     "name": "stderr",
     "output_type": "stream",
     "text": [
      " 78%|███████▊  | 8203/10481 [11:45<02:36, 14.59it/s]"
     ]
    },
    {
     "name": "stdout",
     "output_type": "stream",
     "text": [
      "Error occured in ['강북구' '' '']\n",
      "Error occured in ['강북구' '삼양로139가길' '63']\n"
     ]
    },
    {
     "name": "stderr",
     "output_type": "stream",
     "text": [
      " 78%|███████▊  | 8209/10481 [11:45<02:23, 15.83it/s]"
     ]
    },
    {
     "name": "stdout",
     "output_type": "stream",
     "text": [
      "Error occured in ['도봉구' '도봉로180길' '6-81']\n",
      "Error occured in ['도봉구' '마들로' '684-9']\n",
      "Error occured in ['도봉구' '도봉로180길' '6-25']\n",
      "Error occured in ['도봉구' '도봉로169라길' '111-6']\n"
     ]
    },
    {
     "name": "stderr",
     "output_type": "stream",
     "text": [
      " 78%|███████▊  | 8211/10481 [11:45<02:29, 15.16it/s]"
     ]
    },
    {
     "name": "stdout",
     "output_type": "stream",
     "text": [
      "Error occured in ['도봉구' '도봉로180나길' '16']\n",
      "Error occured in ['노원구' '초안산로' '89']\n"
     ]
    },
    {
     "name": "stderr",
     "output_type": "stream",
     "text": [
      " 78%|███████▊  | 8215/10481 [11:46<02:30, 15.07it/s]"
     ]
    },
    {
     "name": "stdout",
     "output_type": "stream",
     "text": [
      "Error occured in ['노원구' '월계로' '372']\n",
      "Error occured in ['노원구' '화랑로' '415-9']\n",
      "Error occured in ['노원구' '한글비석로' '456']\n"
     ]
    },
    {
     "name": "stderr",
     "output_type": "stream",
     "text": [
      " 78%|███████▊  | 8219/10481 [11:46<02:19, 16.19it/s]"
     ]
    },
    {
     "name": "stdout",
     "output_type": "stream",
     "text": [
      "Error occured in ['노원구' '동일로230길' '39']\n",
      "Error occured in ['노원구' '동일로237길' '37']\n",
      "Error occured in ['노원구' '노원로' '547']\n",
      "Error occured in ['노원구' '동일로231길' '62']\n"
     ]
    },
    {
     "name": "stderr",
     "output_type": "stream",
     "text": [
      " 79%|███████▊  | 8229/10481 [11:47<02:51, 13.16it/s]"
     ]
    },
    {
     "name": "stdout",
     "output_type": "stream",
     "text": [
      "Error occured in ['은평구' '통일로67길' '10']\n"
     ]
    },
    {
     "name": "stderr",
     "output_type": "stream",
     "text": [
      " 79%|███████▊  | 8243/10481 [11:48<02:42, 13.76it/s]"
     ]
    },
    {
     "name": "stdout",
     "output_type": "stream",
     "text": [
      "Error occured in ['서대문구' '독립문로14길' '64-6']\n",
      "Error occured in ['서대문구' '독립문로' '12']\n",
      "Error occured in ['서대문구' '' '17']\n"
     ]
    },
    {
     "name": "stderr",
     "output_type": "stream",
     "text": [
      " 79%|███████▊  | 8249/10481 [11:48<02:39, 14.02it/s]"
     ]
    },
    {
     "name": "stdout",
     "output_type": "stream",
     "text": [
      "Error occured in ['서대문구' '통일로34길' '48']\n",
      "Error occured in ['서대문구' '통일로26길' '28']\n"
     ]
    },
    {
     "name": "stderr",
     "output_type": "stream",
     "text": [
      " 79%|███████▉  | 8257/10481 [11:49<02:57, 12.50it/s]"
     ]
    },
    {
     "name": "stdout",
     "output_type": "stream",
     "text": [
      "Error occured in ['서대문구' '모래내로' '352-7']\n"
     ]
    },
    {
     "name": "stderr",
     "output_type": "stream",
     "text": [
      " 79%|███████▉  | 8263/10481 [11:49<02:39, 13.94it/s]"
     ]
    },
    {
     "name": "stdout",
     "output_type": "stream",
     "text": [
      "Error occured in ['마포구' '마포대로26길' '22']\n",
      "Error occured in ['마포구' '숭문길' '58']\n",
      "Error occured in ['마포구' '신촌로' '140']\n",
      "Error occured in ['마포구' '신수로' '105']\n"
     ]
    },
    {
     "name": "stderr",
     "output_type": "stream",
     "text": [
      " 79%|███████▉  | 8265/10481 [11:49<02:37, 14.07it/s]"
     ]
    },
    {
     "name": "stdout",
     "output_type": "stream",
     "text": [
      "Error occured in ['마포구' '신수로3길' '19']\n"
     ]
    },
    {
     "name": "stderr",
     "output_type": "stream",
     "text": [
      " 79%|███████▉  | 8269/10481 [11:50<02:46, 13.32it/s]"
     ]
    },
    {
     "name": "stdout",
     "output_type": "stream",
     "text": [
      "Error occured in ['마포구' '월드컵로29길' '76']\n"
     ]
    },
    {
     "name": "stderr",
     "output_type": "stream",
     "text": [
      " 79%|███████▉  | 8271/10481 [11:50<02:45, 13.38it/s]"
     ]
    },
    {
     "name": "stdout",
     "output_type": "stream",
     "text": [
      "Error occured in ['마포구' '월드컵로30길' '12']\n"
     ]
    },
    {
     "name": "stderr",
     "output_type": "stream",
     "text": [
      " 79%|███████▉  | 8277/10481 [11:50<02:38, 13.94it/s]"
     ]
    },
    {
     "name": "stdout",
     "output_type": "stream",
     "text": [
      "Error occured in ['양천구' '신목로16길' '30']\n",
      "Error occured in ['양천구' '목동로3길' '57']\n",
      "Error occured in ['양천구' '' '100']\n"
     ]
    },
    {
     "name": "stderr",
     "output_type": "stream",
     "text": [
      " 79%|███████▉  | 8283/10481 [11:51<02:42, 13.49it/s]"
     ]
    },
    {
     "name": "stdout",
     "output_type": "stream",
     "text": [
      "Error occured in ['양천구' '목동동로12길' '59']\n"
     ]
    },
    {
     "name": "stderr",
     "output_type": "stream",
     "text": [
      " 79%|███████▉  | 8297/10481 [11:52<02:26, 14.93it/s]"
     ]
    },
    {
     "name": "stdout",
     "output_type": "stream",
     "text": [
      "Error occured in ['강서구' '공항대로' '359']\n",
      "Error occured in ['강서구' '곰달래로' '121']\n",
      "Error occured in ['강서구' '곰달래로' '62']\n",
      "Error occured in ['강서구' '화곡로' '176-17']\n"
     ]
    },
    {
     "name": "stderr",
     "output_type": "stream",
     "text": [
      " 79%|███████▉  | 8301/10481 [11:52<02:44, 13.29it/s]"
     ]
    },
    {
     "name": "stdout",
     "output_type": "stream",
     "text": [
      "Error occured in ['강서구' '월정로20길' '68-10']\n"
     ]
    },
    {
     "name": "stderr",
     "output_type": "stream",
     "text": [
      " 79%|███████▉  | 8307/10481 [11:53<02:37, 13.83it/s]"
     ]
    },
    {
     "name": "stdout",
     "output_type": "stream",
     "text": [
      "Error occured in ['강서구' '월정로20길' '32']\n",
      "Error occured in ['강서구' '양천로57길' '37']\n"
     ]
    },
    {
     "name": "stderr",
     "output_type": "stream",
     "text": [
      " 79%|███████▉  | 8309/10481 [11:53<02:44, 13.21it/s]"
     ]
    },
    {
     "name": "stdout",
     "output_type": "stream",
     "text": [
      "Error occured in ['강서구' '허준로' '176']\n"
     ]
    },
    {
     "name": "stderr",
     "output_type": "stream",
     "text": [
      " 79%|███████▉  | 8313/10481 [11:53<03:27, 10.43it/s]"
     ]
    },
    {
     "name": "stdout",
     "output_type": "stream",
     "text": [
      "Error occured in ['강서구' '금낭화로15길' '16']\n",
      "Error occured in ['강서구' '개화동로21길' '4']\n",
      "Error occured in ['구로구' '경인로67길' '33']\n",
      "Error occured in ['구로구' '경인로61길' '21']\n"
     ]
    },
    {
     "name": "stderr",
     "output_type": "stream",
     "text": [
      " 79%|███████▉  | 8317/10481 [11:54<02:56, 12.24it/s]"
     ]
    },
    {
     "name": "stdout",
     "output_type": "stream",
     "text": [
      "Error occured in ['구로구' '구로동로12길' '33']\n"
     ]
    },
    {
     "name": "stderr",
     "output_type": "stream",
     "text": [
      " 79%|███████▉  | 8323/10481 [11:54<02:53, 12.46it/s]"
     ]
    },
    {
     "name": "stdout",
     "output_type": "stream",
     "text": [
      "Error occured in ['구로구' '구로동로20길' '70']\n"
     ]
    },
    {
     "name": "stderr",
     "output_type": "stream",
     "text": [
      " 79%|███████▉  | 8325/10481 [11:54<02:46, 12.91it/s]"
     ]
    },
    {
     "name": "stdout",
     "output_type": "stream",
     "text": [
      "Error occured in ['구로구' '구로동로18길' '53-3']\n"
     ]
    },
    {
     "name": "stderr",
     "output_type": "stream",
     "text": [
      " 79%|███████▉  | 8331/10481 [11:55<02:31, 14.22it/s]"
     ]
    },
    {
     "name": "stdout",
     "output_type": "stream",
     "text": [
      "Error occured in ['구로구' '도림로' '33-8']\n",
      "Error occured in ['구로구' '도림로6길' '37']\n",
      "Error occured in ['구로구' '구로동로20길' '71']\n"
     ]
    },
    {
     "name": "stderr",
     "output_type": "stream",
     "text": [
      " 80%|███████▉  | 8333/10481 [11:55<02:35, 13.82it/s]"
     ]
    },
    {
     "name": "stdout",
     "output_type": "stream",
     "text": [
      "Error occured in ['구로구' '도림로8길' '20']\n"
     ]
    },
    {
     "name": "stderr",
     "output_type": "stream",
     "text": [
      " 80%|███████▉  | 8343/10481 [11:56<02:42, 13.17it/s]"
     ]
    },
    {
     "name": "stdout",
     "output_type": "stream",
     "text": [
      "Error occured in ['구로구' '도림로12길' '11-7']\n"
     ]
    },
    {
     "name": "stderr",
     "output_type": "stream",
     "text": [
      " 80%|███████▉  | 8365/10481 [11:57<02:44, 12.84it/s]"
     ]
    },
    {
     "name": "stdout",
     "output_type": "stream",
     "text": [
      "Error occured in ['구로구' '구로동로18길' '62-10']\n"
     ]
    },
    {
     "name": "stderr",
     "output_type": "stream",
     "text": [
      " 80%|███████▉  | 8369/10481 [11:58<02:40, 13.18it/s]"
     ]
    },
    {
     "name": "stdout",
     "output_type": "stream",
     "text": [
      "Error occured in ['구로구' '구로동로22길' '88-8']\n"
     ]
    },
    {
     "name": "stderr",
     "output_type": "stream",
     "text": [
      " 80%|███████▉  | 8373/10481 [11:58<02:36, 13.45it/s]"
     ]
    },
    {
     "name": "stdout",
     "output_type": "stream",
     "text": [
      "Error occured in ['구로구' '오리로20길' '28']\n"
     ]
    },
    {
     "name": "stderr",
     "output_type": "stream",
     "text": [
      " 80%|███████▉  | 8379/10481 [11:58<02:35, 13.53it/s]"
     ]
    },
    {
     "name": "stdout",
     "output_type": "stream",
     "text": [
      "Error occured in ['영등포구' '영신로57길' '1']\n",
      "Error occured in ['영등포구' '당산로41길' '17']\n"
     ]
    },
    {
     "name": "stderr",
     "output_type": "stream",
     "text": [
      " 80%|███████▉  | 8383/10481 [11:59<02:29, 14.06it/s]"
     ]
    },
    {
     "name": "stdout",
     "output_type": "stream",
     "text": [
      "Error occured in ['영등포구' '여의대방로61길' '5-11']\n",
      "Error occured in ['영등포구' '도신로' '68-1']\n",
      "Error occured in ['영등포구' '가마산로79길' '5']\n"
     ]
    },
    {
     "name": "stderr",
     "output_type": "stream",
     "text": [
      " 80%|████████  | 8389/10481 [11:59<02:29, 13.97it/s]"
     ]
    },
    {
     "name": "stdout",
     "output_type": "stream",
     "text": [
      "Error occured in ['동작구' '동작대로1길' '45-1']\n",
      "Error occured in ['동작구' '사당로17길' '8']\n"
     ]
    },
    {
     "name": "stderr",
     "output_type": "stream",
     "text": [
      " 80%|████████  | 8395/10481 [12:00<02:36, 13.29it/s]"
     ]
    },
    {
     "name": "stdout",
     "output_type": "stream",
     "text": [
      "Error occured in ['관악구' '행운1나길' '29']\n"
     ]
    },
    {
     "name": "stderr",
     "output_type": "stream",
     "text": [
      " 80%|████████  | 8399/10481 [12:00<02:28, 14.01it/s]"
     ]
    },
    {
     "name": "stdout",
     "output_type": "stream",
     "text": [
      "Error occured in ['관악구' '관악로6길' '54']\n",
      "Error occured in ['관악구' '난곡로' '195']\n",
      "Error occured in ['관악구' '신림로65길' '15-2']\n"
     ]
    },
    {
     "name": "stderr",
     "output_type": "stream",
     "text": [
      " 80%|████████  | 8409/10481 [12:01<02:23, 14.46it/s]"
     ]
    },
    {
     "name": "stdout",
     "output_type": "stream",
     "text": [
      "Error occured in ['서초구' '과천대로' '946']\n",
      "Error occured in ['서초구' '방배로32길' '84']\n",
      "Error occured in ['서초구' '과천대로' '908']\n"
     ]
    },
    {
     "name": "stderr",
     "output_type": "stream",
     "text": [
      " 80%|████████  | 8423/10481 [12:02<02:32, 13.52it/s]"
     ]
    },
    {
     "name": "stdout",
     "output_type": "stream",
     "text": [
      "Error occured in ['서초구' '명달로' '48']\n",
      "Error occured in ['서초구' '청계산로9길' '1-1']\n"
     ]
    },
    {
     "name": "stderr",
     "output_type": "stream",
     "text": [
      " 80%|████████  | 8427/10481 [12:02<02:32, 13.49it/s]"
     ]
    },
    {
     "name": "stdout",
     "output_type": "stream",
     "text": [
      "Error occured in ['강남구' '논현로71길' '46']\n"
     ]
    },
    {
     "name": "stderr",
     "output_type": "stream",
     "text": [
      " 81%|████████  | 8443/10481 [12:03<02:37, 12.97it/s]"
     ]
    },
    {
     "name": "stdout",
     "output_type": "stream",
     "text": [
      "Error occured in ['강남구' '남부순환로' '2914']\n"
     ]
    },
    {
     "name": "stderr",
     "output_type": "stream",
     "text": [
      " 81%|████████  | 8451/10481 [12:04<02:29, 13.56it/s]"
     ]
    },
    {
     "name": "stdout",
     "output_type": "stream",
     "text": [
      "Error occured in ['강남구' '광평로9길' '34']\n",
      "Error occured in ['강남구' '논현로58길' '20']\n",
      "Error occured in ['강남구' '남부순환로' '2804']\n"
     ]
    },
    {
     "name": "stderr",
     "output_type": "stream",
     "text": [
      " 81%|████████  | 8453/10481 [12:04<02:22, 14.23it/s]"
     ]
    },
    {
     "name": "stdout",
     "output_type": "stream",
     "text": [
      "Error occured in ['송파구' '' '135']\n",
      "Error occured in ['송파구' '송이로14길' '16']\n"
     ]
    },
    {
     "name": "stderr",
     "output_type": "stream",
     "text": [
      " 81%|████████  | 8469/10481 [12:05<02:38, 12.66it/s]"
     ]
    },
    {
     "name": "stdout",
     "output_type": "stream",
     "text": [
      "Error occured in ['송파구' '양산로2길' '38']\n"
     ]
    },
    {
     "name": "stderr",
     "output_type": "stream",
     "text": [
      " 81%|████████  | 8473/10481 [12:06<02:40, 12.54it/s]"
     ]
    },
    {
     "name": "stdout",
     "output_type": "stream",
     "text": [
      "Error occured in ['강동구' '천호대로173길' '37']\n"
     ]
    },
    {
     "name": "stderr",
     "output_type": "stream",
     "text": [
      " 81%|████████  | 8479/10481 [12:06<02:52, 11.64it/s]"
     ]
    },
    {
     "name": "stdout",
     "output_type": "stream",
     "text": [
      "Error occured in ['강동구' '고덕로97길' '100']\n"
     ]
    },
    {
     "name": "stderr",
     "output_type": "stream",
     "text": [
      " 83%|████████▎ | 8659/10481 [12:22<02:13, 13.61it/s]"
     ]
    },
    {
     "name": "stdout",
     "output_type": "stream",
     "text": [
      "Error occured in ['종로구' '삼일대로' '446-66']\n",
      "Error occured in ['종로구' '삼일대로' '446-56']\n",
      "Error occured in ['종로구' '청계천로' '307']\n"
     ]
    },
    {
     "name": "stderr",
     "output_type": "stream",
     "text": [
      " 83%|████████▎ | 8661/10481 [12:22<02:07, 14.26it/s]"
     ]
    },
    {
     "name": "stdout",
     "output_type": "stream",
     "text": [
      "Error occured in ['종로구' '평창문화로' '102-15']\n",
      "Error occured in ['중구' '다산로' '114-12']\n"
     ]
    },
    {
     "name": "stderr",
     "output_type": "stream",
     "text": [
      " 83%|████████▎ | 8667/10481 [12:22<02:01, 14.98it/s]"
     ]
    },
    {
     "name": "stdout",
     "output_type": "stream",
     "text": [
      "Error occured in ['중구' '난계로11길' '36']\n",
      "Error occured in ['용산구' '' '70']\n"
     ]
    },
    {
     "name": "stderr",
     "output_type": "stream",
     "text": [
      " 83%|████████▎ | 8677/10481 [12:23<02:17, 13.16it/s]"
     ]
    },
    {
     "name": "stdout",
     "output_type": "stream",
     "text": [
      "Error occured in ['중랑구' '면목로96길' '34']\n",
      "Error occured in ['중랑구' '중랑천로12길' '42']\n",
      "Error occured in ['중랑구' '' '127']\n"
     ]
    },
    {
     "name": "stderr",
     "output_type": "stream",
     "text": [
      " 83%|████████▎ | 8685/10481 [12:24<02:03, 14.54it/s]"
     ]
    },
    {
     "name": "stdout",
     "output_type": "stream",
     "text": [
      "Error occured in ['성북구' '' '119']\n",
      "Error occured in ['성북구' '' '39']\n",
      "Error occured in ['성북구' '' '118']\n"
     ]
    },
    {
     "name": "stderr",
     "output_type": "stream",
     "text": [
      " 83%|████████▎ | 8689/10481 [12:24<02:12, 13.51it/s]"
     ]
    },
    {
     "name": "stdout",
     "output_type": "stream",
     "text": [
      "Error occured in ['도봉구' '' '231']\n",
      "Error occured in ['도봉구' '도봉로' '441']\n"
     ]
    },
    {
     "name": "stderr",
     "output_type": "stream",
     "text": [
      " 83%|████████▎ | 8693/10481 [12:24<02:02, 14.59it/s]"
     ]
    },
    {
     "name": "stdout",
     "output_type": "stream",
     "text": [
      "Error occured in ['노원구' '월계로55길' '16']\n",
      "Error occured in ['노원구' '화랑로' '409']\n",
      "Error occured in ['노원구' '섬밭로' '2']\n"
     ]
    },
    {
     "name": "stderr",
     "output_type": "stream",
     "text": [
      " 83%|████████▎ | 8707/10481 [12:25<02:19, 12.74it/s]"
     ]
    },
    {
     "name": "stdout",
     "output_type": "stream",
     "text": [
      "Error occured in ['서대문구' '모래내로24길' '58']\n",
      "Error occured in ['서대문구' '명지길' '66']\n"
     ]
    },
    {
     "name": "stderr",
     "output_type": "stream",
     "text": [
      " 83%|████████▎ | 8715/10481 [12:26<02:22, 12.41it/s]"
     ]
    },
    {
     "name": "stdout",
     "output_type": "stream",
     "text": [
      "Error occured in ['마포구' '월드컵로30길' '15']\n"
     ]
    },
    {
     "name": "stderr",
     "output_type": "stream",
     "text": [
      " 83%|████████▎ | 8719/10481 [12:26<02:04, 14.14it/s]"
     ]
    },
    {
     "name": "stdout",
     "output_type": "stream",
     "text": [
      "Error occured in ['양천구' '목동중앙북로7가길' '42']\n",
      "Error occured in ['양천구' '' '61']\n",
      "Error occured in ['강서구' '' '163']\n",
      "Error occured in ['강서구' '까치산로15길' '3']\n"
     ]
    },
    {
     "name": "stderr",
     "output_type": "stream",
     "text": [
      " 83%|████████▎ | 8725/10481 [12:27<02:11, 13.36it/s]"
     ]
    },
    {
     "name": "stdout",
     "output_type": "stream",
     "text": [
      "Error occured in ['강서구' '강서로7길' '20-29']\n"
     ]
    },
    {
     "name": "stderr",
     "output_type": "stream",
     "text": [
      " 83%|████████▎ | 8729/10481 [12:27<02:07, 13.79it/s]"
     ]
    },
    {
     "name": "stdout",
     "output_type": "stream",
     "text": [
      "Error occured in ['강서구' '허준로' '224']\n",
      "Error occured in ['구로구' '도림로6길' '7']\n"
     ]
    },
    {
     "name": "stderr",
     "output_type": "stream",
     "text": [
      " 83%|████████▎ | 8741/10481 [12:28<02:03, 14.08it/s]"
     ]
    },
    {
     "name": "stdout",
     "output_type": "stream",
     "text": [
      "Error occured in ['구로구' '구로동로18길' '29']\n",
      "Error occured in ['구로구' '구로동로8길' '70-13']\n",
      "Error occured in ['구로구' '' '20']\n"
     ]
    },
    {
     "name": "stderr",
     "output_type": "stream",
     "text": [
      " 84%|████████▎ | 8755/10481 [12:29<02:07, 13.52it/s]"
     ]
    },
    {
     "name": "stdout",
     "output_type": "stream",
     "text": [
      "Error occured in ['구로구' '디지털로27길' '96']\n"
     ]
    },
    {
     "name": "stderr",
     "output_type": "stream",
     "text": [
      " 84%|████████▎ | 8757/10481 [12:29<02:08, 13.43it/s]"
     ]
    },
    {
     "name": "stdout",
     "output_type": "stream",
     "text": [
      "Error occured in ['구로구' '디지털로27길' '124-47']\n"
     ]
    },
    {
     "name": "stderr",
     "output_type": "stream",
     "text": [
      " 84%|████████▎ | 8765/10481 [12:30<02:06, 13.51it/s]"
     ]
    },
    {
     "name": "stdout",
     "output_type": "stream",
     "text": [
      "Error occured in ['구로구' '' '']\n"
     ]
    },
    {
     "name": "stderr",
     "output_type": "stream",
     "text": [
      " 84%|████████▎ | 8769/10481 [12:30<02:11, 12.99it/s]"
     ]
    },
    {
     "name": "stdout",
     "output_type": "stream",
     "text": [
      "Error occured in ['금천구' '' '']\n",
      "Error occured in ['금천구' '가산로' '5']\n"
     ]
    },
    {
     "name": "stderr",
     "output_type": "stream",
     "text": [
      " 84%|████████▎ | 8773/10481 [12:30<02:09, 13.16it/s]"
     ]
    },
    {
     "name": "stdout",
     "output_type": "stream",
     "text": [
      "Error occured in ['영등포구' '국회대로56길' '4']\n",
      "Error occured in ['영등포구' '버드나루로' '103']\n",
      "Error occured in ['영등포구' '' '66']\n"
     ]
    },
    {
     "name": "stderr",
     "output_type": "stream",
     "text": [
      " 84%|████████▍ | 8779/10481 [12:31<02:07, 13.33it/s]"
     ]
    },
    {
     "name": "stdout",
     "output_type": "stream",
     "text": [
      "Error occured in ['동작구' '' '57']\n",
      "Error occured in ['동작구' '남부순환로' '2009']\n",
      "Error occured in ['관악구' '남부순환로' '1817']\n"
     ]
    },
    {
     "name": "stderr",
     "output_type": "stream",
     "text": [
      " 84%|████████▍ | 8785/10481 [12:31<01:59, 14.22it/s]"
     ]
    },
    {
     "name": "stdout",
     "output_type": "stream",
     "text": [
      "Error occured in ['관악구' '조원로' '137-2']\n",
      "Error occured in ['관악구' '봉천로12길' '65']\n"
     ]
    },
    {
     "name": "stderr",
     "output_type": "stream",
     "text": [
      " 84%|████████▍ | 8797/10481 [12:32<02:02, 13.72it/s]"
     ]
    },
    {
     "name": "stdout",
     "output_type": "stream",
     "text": [
      "Error occured in ['서초구' '청계산로9길' '1-3']\n",
      "Error occured in ['강남구' '역삼로10길' '13']\n",
      "Error occured in ['강남구' '언주로' '408']\n"
     ]
    },
    {
     "name": "stderr",
     "output_type": "stream",
     "text": [
      " 84%|████████▍ | 8801/10481 [12:32<02:05, 13.39it/s]"
     ]
    },
    {
     "name": "stdout",
     "output_type": "stream",
     "text": [
      "Error occured in ['강남구' '역삼로81길' '15']\n"
     ]
    },
    {
     "name": "stderr",
     "output_type": "stream",
     "text": [
      " 84%|████████▍ | 8805/10481 [12:33<02:11, 12.75it/s]"
     ]
    },
    {
     "name": "stdout",
     "output_type": "stream",
     "text": [
      "Error occured in ['강남구' '광평로60길' '32']\n"
     ]
    },
    {
     "name": "stderr",
     "output_type": "stream",
     "text": [
      " 84%|████████▍ | 8807/10481 [12:33<02:14, 12.45it/s]"
     ]
    },
    {
     "name": "stdout",
     "output_type": "stream",
     "text": [
      "Error occured in ['송파구' '백제고분로33길' '29-5']\n"
     ]
    },
    {
     "name": "stderr",
     "output_type": "stream",
     "text": [
      " 84%|████████▍ | 8817/10481 [12:34<02:11, 12.62it/s]"
     ]
    },
    {
     "name": "stdout",
     "output_type": "stream",
     "text": [
      "Error occured in ['강동구' '성안로27길' '63-20']\n"
     ]
    },
    {
     "name": "stderr",
     "output_type": "stream",
     "text": [
      " 86%|████████▌ | 8971/10481 [12:47<01:51, 13.56it/s]"
     ]
    },
    {
     "name": "stdout",
     "output_type": "stream",
     "text": [
      "Error occured in ['성동구' '' '15']\n",
      "Error occured in ['성동구' '' '175']\n",
      "Error occured in ['성동구' '' '218']\n"
     ]
    },
    {
     "name": "stderr",
     "output_type": "stream",
     "text": [
      " 86%|████████▌ | 8973/10481 [12:47<01:50, 13.65it/s]"
     ]
    },
    {
     "name": "stdout",
     "output_type": "stream",
     "text": [
      "Error occured in ['종로구' '청계천로' '331']\n"
     ]
    },
    {
     "name": "stderr",
     "output_type": "stream",
     "text": [
      " 86%|████████▌ | 8977/10481 [12:48<01:48, 13.91it/s]"
     ]
    },
    {
     "name": "stdout",
     "output_type": "stream",
     "text": [
      "Error occured in ['중구' '' '23']\n"
     ]
    },
    {
     "name": "stderr",
     "output_type": "stream",
     "text": [
      " 86%|████████▌ | 8983/10481 [12:48<01:37, 15.40it/s]"
     ]
    },
    {
     "name": "stdout",
     "output_type": "stream",
     "text": [
      "Error occured in ['중구' '' '10']\n",
      "Error occured in ['용산구' '한강대로77길' '15']\n",
      "Error occured in ['용산구' '' '12']\n"
     ]
    },
    {
     "name": "stderr",
     "output_type": "stream",
     "text": [
      " 86%|████████▌ | 8987/10481 [12:48<01:31, 16.38it/s]"
     ]
    },
    {
     "name": "stdout",
     "output_type": "stream",
     "text": [
      "Error occured in ['용산구' '' '341']\n",
      "Error occured in ['용산구' '' '26']\n",
      "Error occured in ['용산구' '' '100-8']\n",
      "Error occured in ['용산구' '' '310']\n"
     ]
    },
    {
     "name": "stderr",
     "output_type": "stream",
     "text": [
      " 86%|████████▌ | 8991/10481 [12:48<01:33, 15.91it/s]"
     ]
    },
    {
     "name": "stdout",
     "output_type": "stream",
     "text": [
      "Error occured in ['용산구' '' '122']\n",
      "Error occured in ['용산구' '' '14']\n",
      "Error occured in ['용산구' '' '286']\n"
     ]
    },
    {
     "name": "stderr",
     "output_type": "stream",
     "text": [
      " 86%|████████▌ | 8995/10481 [12:49<01:41, 14.67it/s]"
     ]
    },
    {
     "name": "stdout",
     "output_type": "stream",
     "text": [
      "Error occured in ['용산구' '' '347']\n",
      "Error occured in ['성동구' '왕십리로' '373']\n"
     ]
    },
    {
     "name": "stderr",
     "output_type": "stream",
     "text": [
      " 86%|████████▌ | 8997/10481 [12:49<01:36, 15.40it/s]"
     ]
    },
    {
     "name": "stdout",
     "output_type": "stream",
     "text": [
      "Error occured in ['성동구' '' '20']\n",
      "Error occured in ['성동구' '왕십리로24나길' '10']\n"
     ]
    },
    {
     "name": "stderr",
     "output_type": "stream",
     "text": [
      " 86%|████████▌ | 9003/10481 [12:49<01:40, 14.70it/s]"
     ]
    },
    {
     "name": "stdout",
     "output_type": "stream",
     "text": [
      "Error occured in ['성동구' '' '16']\n",
      "Error occured in ['성동구' '살곶이길' '148']\n",
      "Error occured in ['성동구' '' '107']\n"
     ]
    },
    {
     "name": "stderr",
     "output_type": "stream",
     "text": [
      " 86%|████████▌ | 9005/10481 [12:49<01:38, 14.99it/s]"
     ]
    },
    {
     "name": "stdout",
     "output_type": "stream",
     "text": [
      "Error occured in ['성동구' '' '63']\n",
      "Error occured in ['성동구' '' '7']\n",
      "Error occured in ['광진구' '' '55']\n"
     ]
    },
    {
     "name": "stderr",
     "output_type": "stream",
     "text": [
      " 86%|████████▌ | 9013/10481 [12:50<01:38, 14.93it/s]"
     ]
    },
    {
     "name": "stdout",
     "output_type": "stream",
     "text": [
      "Error occured in ['광진구' '' '58-1']\n",
      "Error occured in ['광진구' '' '29']\n",
      "Error occured in ['광진구' '' '503-23']\n"
     ]
    },
    {
     "name": "stderr",
     "output_type": "stream",
     "text": [
      " 86%|████████▌ | 9017/10481 [12:50<01:31, 15.95it/s]"
     ]
    },
    {
     "name": "stdout",
     "output_type": "stream",
     "text": [
      "Error occured in ['광진구' '' '61']\n",
      "Error occured in ['광진구' '' '549']\n",
      "Error occured in ['광진구' '' '16-9']\n",
      "Error occured in ['광진구' '' '9']\n"
     ]
    },
    {
     "name": "stderr",
     "output_type": "stream",
     "text": [
      " 86%|████████▌ | 9021/10481 [12:50<01:26, 16.80it/s]"
     ]
    },
    {
     "name": "stdout",
     "output_type": "stream",
     "text": [
      "Error occured in ['광진구' '' '20']\n",
      "Error occured in ['광진구' '' '569']\n",
      "Error occured in ['광진구' '' '262']\n"
     ]
    },
    {
     "name": "stderr",
     "output_type": "stream",
     "text": [
      " 86%|████████▌ | 9025/10481 [12:51<01:31, 15.85it/s]"
     ]
    },
    {
     "name": "stdout",
     "output_type": "stream",
     "text": [
      "Error occured in ['광진구' '' '35']\n",
      "Error occured in ['동대문구' '' '471']\n"
     ]
    },
    {
     "name": "stderr",
     "output_type": "stream",
     "text": [
      " 86%|████████▌ | 9029/10481 [12:51<01:28, 16.50it/s]"
     ]
    },
    {
     "name": "stdout",
     "output_type": "stream",
     "text": [
      "Error occured in ['동대문구' '' '190']\n",
      "Error occured in ['동대문구' '' '75']\n",
      "Error occured in ['동대문구' '' '65']\n",
      "Error occured in ['동대문구' '' '33']\n"
     ]
    },
    {
     "name": "stderr",
     "output_type": "stream",
     "text": [
      " 86%|████████▌ | 9033/10481 [12:51<01:29, 16.09it/s]"
     ]
    },
    {
     "name": "stdout",
     "output_type": "stream",
     "text": [
      "Error occured in ['동대문구' '' '130']\n",
      "Error occured in ['동대문구' '' '53']\n",
      "Error occured in ['동대문구' '이문로' '19']\n"
     ]
    },
    {
     "name": "stderr",
     "output_type": "stream",
     "text": [
      " 86%|████████▌ | 9039/10481 [12:51<01:21, 17.59it/s]"
     ]
    },
    {
     "name": "stdout",
     "output_type": "stream",
     "text": [
      "Error occured in ['동대문구' '' '62']\n",
      "Error occured in ['동대문구' '' '24']\n",
      "Error occured in ['동대문구' '신이문로' '39-9']\n",
      "Error occured in ['동대문구' '' '17']\n"
     ]
    },
    {
     "name": "stderr",
     "output_type": "stream",
     "text": [
      " 86%|████████▋ | 9043/10481 [12:52<01:19, 18.04it/s]"
     ]
    },
    {
     "name": "stdout",
     "output_type": "stream",
     "text": [
      "Error occured in ['중랑구' '면목로66길' '11']\n",
      "Error occured in ['중랑구' '' '73']\n",
      "Error occured in ['중랑구' '' '19']\n",
      "Error occured in ['중랑구' '면목로92라길' '15-2']\n"
     ]
    },
    {
     "name": "stderr",
     "output_type": "stream",
     "text": [
      " 86%|████████▋ | 9047/10481 [12:52<01:25, 16.79it/s]"
     ]
    },
    {
     "name": "stdout",
     "output_type": "stream",
     "text": [
      "Error occured in ['중랑구' '' '203']\n",
      "Error occured in ['중랑구' '' '752']\n",
      "Error occured in ['중랑구' '' '15']\n",
      "Error occured in ['중랑구' '공릉로2가길' '21']\n"
     ]
    },
    {
     "name": "stderr",
     "output_type": "stream",
     "text": [
      " 86%|████████▋ | 9051/10481 [12:52<01:27, 16.39it/s]"
     ]
    },
    {
     "name": "stdout",
     "output_type": "stream",
     "text": [
      "Error occured in ['중랑구' '숙선옹주로' '5-3']\n",
      "Error occured in ['중랑구' '' '42']\n"
     ]
    },
    {
     "name": "stderr",
     "output_type": "stream",
     "text": [
      " 86%|████████▋ | 9055/10481 [12:52<01:23, 17.14it/s]"
     ]
    },
    {
     "name": "stdout",
     "output_type": "stream",
     "text": [
      "Error occured in ['중랑구' '' '20']\n",
      "Error occured in ['중랑구' '' '193']\n",
      "Error occured in ['성북구' '' '402']\n"
     ]
    },
    {
     "name": "stderr",
     "output_type": "stream",
     "text": [
      " 86%|████████▋ | 9063/10481 [12:53<01:23, 17.04it/s]"
     ]
    },
    {
     "name": "stdout",
     "output_type": "stream",
     "text": [
      "Error occured in ['성북구' '' '28']\n",
      "Error occured in ['성북구' '' '120']\n",
      "Error occured in ['성북구' '' '183']\n",
      "Error occured in ['성북구' '' '71']\n"
     ]
    },
    {
     "name": "stderr",
     "output_type": "stream",
     "text": [
      " 86%|████████▋ | 9065/10481 [12:53<01:21, 17.37it/s]"
     ]
    },
    {
     "name": "stdout",
     "output_type": "stream",
     "text": [
      "Error occured in ['성북구' '' '46']\n",
      "Error occured in ['성북구' '' '18']\n",
      "Error occured in ['성북구' '' '210-26']\n"
     ]
    },
    {
     "name": "stderr",
     "output_type": "stream",
     "text": [
      " 87%|████████▋ | 9071/10481 [12:53<01:29, 15.83it/s]"
     ]
    },
    {
     "name": "stdout",
     "output_type": "stream",
     "text": [
      "Error occured in ['강북구' '' '25']\n",
      "Error occured in ['강북구' '' '174']\n",
      "Error occured in ['도봉구' '' '67']\n"
     ]
    },
    {
     "name": "stderr",
     "output_type": "stream",
     "text": [
      " 87%|████████▋ | 9075/10481 [12:54<01:22, 16.97it/s]"
     ]
    },
    {
     "name": "stdout",
     "output_type": "stream",
     "text": [
      "Error occured in ['도봉구' '' '36']\n",
      "Error occured in ['도봉구' '도봉로' '496']\n",
      "Error occured in ['도봉구' '' '44']\n",
      "Error occured in ['도봉구' '' '50']\n"
     ]
    },
    {
     "name": "stderr",
     "output_type": "stream",
     "text": [
      " 87%|████████▋ | 9083/10481 [12:54<01:22, 16.94it/s]"
     ]
    },
    {
     "name": "stdout",
     "output_type": "stream",
     "text": [
      "Error occured in ['도봉구' '' '54']\n",
      "Error occured in ['노원구' '초안산로1길' '15']\n",
      "Error occured in ['노원구' '' '31']\n"
     ]
    },
    {
     "name": "stderr",
     "output_type": "stream",
     "text": [
      " 87%|████████▋ | 9085/10481 [12:54<01:27, 15.92it/s]"
     ]
    },
    {
     "name": "stdout",
     "output_type": "stream",
     "text": [
      "Error occured in ['노원구' '' '49']\n"
     ]
    },
    {
     "name": "stderr",
     "output_type": "stream",
     "text": [
      " 87%|████████▋ | 9089/10481 [12:55<01:28, 15.81it/s]"
     ]
    },
    {
     "name": "stdout",
     "output_type": "stream",
     "text": [
      "Error occured in ['노원구' '' '30']\n",
      "Error occured in ['노원구' '' '14']\n"
     ]
    },
    {
     "name": "stderr",
     "output_type": "stream",
     "text": [
      " 87%|████████▋ | 9093/10481 [12:55<01:31, 15.13it/s]"
     ]
    },
    {
     "name": "stdout",
     "output_type": "stream",
     "text": [
      "Error occured in ['노원구' '' '18']\n",
      "Error occured in ['노원구' '' '24']\n"
     ]
    },
    {
     "name": "stderr",
     "output_type": "stream",
     "text": [
      " 87%|████████▋ | 9097/10481 [12:55<01:23, 16.56it/s]"
     ]
    },
    {
     "name": "stdout",
     "output_type": "stream",
     "text": [
      "Error occured in ['노원구' '' '62']\n",
      "Error occured in ['노원구' '' '32']\n",
      "Error occured in ['노원구' '' '33-5']\n",
      "Error occured in ['노원구' '' '196']\n"
     ]
    },
    {
     "name": "stderr",
     "output_type": "stream",
     "text": [
      " 87%|████████▋ | 9101/10481 [12:55<01:27, 15.70it/s]"
     ]
    },
    {
     "name": "stdout",
     "output_type": "stream",
     "text": [
      "Error occured in ['노원구' '한글비석로' '97']\n",
      "Error occured in ['노원구' '' '23']\n"
     ]
    },
    {
     "name": "stderr",
     "output_type": "stream",
     "text": [
      " 87%|████████▋ | 9107/10481 [12:56<01:21, 16.88it/s]"
     ]
    },
    {
     "name": "stdout",
     "output_type": "stream",
     "text": [
      "Error occured in ['노원구' '' '21']\n",
      "Error occured in ['노원구' '' '174']\n",
      "Error occured in ['노원구' '' '508']\n",
      "Error occured in ['노원구' '' '532']\n"
     ]
    },
    {
     "name": "stderr",
     "output_type": "stream",
     "text": [
      " 87%|████████▋ | 9111/10481 [12:56<01:21, 16.72it/s]"
     ]
    },
    {
     "name": "stdout",
     "output_type": "stream",
     "text": [
      "Error occured in ['노원구' '' '530']\n",
      "Error occured in ['노원구' '' '92']\n",
      "Error occured in ['노원구' '' '86']\n"
     ]
    },
    {
     "name": "stderr",
     "output_type": "stream",
     "text": [
      " 87%|████████▋ | 9115/10481 [12:56<01:20, 17.02it/s]"
     ]
    },
    {
     "name": "stdout",
     "output_type": "stream",
     "text": [
      "Error occured in ['노원구' '' '780']\n",
      "Error occured in ['노원구' '' '29']\n",
      "Error occured in ['노원구' '' '34']\n"
     ]
    },
    {
     "name": "stderr",
     "output_type": "stream",
     "text": [
      " 87%|████████▋ | 9119/10481 [12:56<01:28, 15.34it/s]"
     ]
    },
    {
     "name": "stdout",
     "output_type": "stream",
     "text": [
      "Error occured in ['노원구' '' '8']\n"
     ]
    },
    {
     "name": "stderr",
     "output_type": "stream",
     "text": [
      " 87%|████████▋ | 9123/10481 [12:57<01:21, 16.59it/s]"
     ]
    },
    {
     "name": "stdout",
     "output_type": "stream",
     "text": [
      "Error occured in ['은평구' '' '33']\n",
      "Error occured in ['은평구' '' '780']\n",
      "Error occured in ['은평구' '' '792']\n",
      "Error occured in ['은평구' '통일로78길' '11-7']\n"
     ]
    },
    {
     "name": "stderr",
     "output_type": "stream",
     "text": [
      " 87%|████████▋ | 9127/10481 [12:57<01:22, 16.31it/s]"
     ]
    },
    {
     "name": "stdout",
     "output_type": "stream",
     "text": [
      "Error occured in ['은평구' '' '18']\n",
      "Error occured in ['은평구' '' '9']\n",
      "Error occured in ['은평구' '' '46']\n"
     ]
    },
    {
     "name": "stderr",
     "output_type": "stream",
     "text": [
      " 87%|████████▋ | 9129/10481 [12:57<01:21, 16.61it/s]"
     ]
    },
    {
     "name": "stdout",
     "output_type": "stream",
     "text": [
      "Error occured in ['은평구' '연서로28길' '21']\n",
      "Error occured in ['은평구' '' '17-1']\n"
     ]
    },
    {
     "name": "stderr",
     "output_type": "stream",
     "text": [
      " 87%|████████▋ | 9135/10481 [12:57<01:23, 16.09it/s]"
     ]
    },
    {
     "name": "stdout",
     "output_type": "stream",
     "text": [
      "Error occured in ['은평구' '' '36']\n",
      "Error occured in ['은평구' '' '29']\n",
      "Error occured in ['은평구' '' '48-8']\n",
      "Error occured in ['은평구' '' '17']\n"
     ]
    },
    {
     "name": "stderr",
     "output_type": "stream",
     "text": [
      " 87%|████████▋ | 9139/10481 [12:58<01:20, 16.73it/s]"
     ]
    },
    {
     "name": "stdout",
     "output_type": "stream",
     "text": [
      "Error occured in ['은평구' '' '87']\n",
      "Error occured in ['서대문구' '' '74']\n",
      "Error occured in ['서대문구' '' '43']\n",
      "Error occured in ['서대문구' '' '25-1']\n"
     ]
    },
    {
     "name": "stderr",
     "output_type": "stream",
     "text": [
      " 87%|████████▋ | 9143/10481 [12:58<01:21, 16.40it/s]"
     ]
    },
    {
     "name": "stdout",
     "output_type": "stream",
     "text": [
      "Error occured in ['서대문구' '' '6-24']\n",
      "Error occured in ['서대문구' '' '54']\n"
     ]
    },
    {
     "name": "stderr",
     "output_type": "stream",
     "text": [
      " 87%|████████▋ | 9147/10481 [12:58<01:23, 16.00it/s]"
     ]
    },
    {
     "name": "stdout",
     "output_type": "stream",
     "text": [
      "Error occured in ['서대문구' '' '37']\n",
      "Error occured in ['서대문구' '' '530']\n",
      "Error occured in ['서대문구' '' '28']\n",
      "Error occured in ['서대문구' '' '154']\n"
     ]
    },
    {
     "name": "stderr",
     "output_type": "stream",
     "text": [
      " 87%|████████▋ | 9153/10481 [12:58<01:16, 17.45it/s]"
     ]
    },
    {
     "name": "stdout",
     "output_type": "stream",
     "text": [
      "Error occured in ['서대문구' '' '2']\n",
      "Error occured in ['마포구' '마포대로28가길' '21-3']\n",
      "Error occured in ['마포구' '' '73']\n",
      "Error occured in ['마포구' '' '230']\n"
     ]
    },
    {
     "name": "stderr",
     "output_type": "stream",
     "text": [
      " 87%|████████▋ | 9155/10481 [12:59<01:17, 17.07it/s]"
     ]
    },
    {
     "name": "stdout",
     "output_type": "stream",
     "text": [
      "Error occured in ['마포구' '' '46']\n",
      "Error occured in ['마포구' '' '72']\n"
     ]
    },
    {
     "name": "stderr",
     "output_type": "stream",
     "text": [
      " 87%|████████▋ | 9161/10481 [12:59<01:17, 17.01it/s]"
     ]
    },
    {
     "name": "stdout",
     "output_type": "stream",
     "text": [
      "Error occured in ['마포구' '' '24']\n",
      "Error occured in ['마포구' '' '28']\n",
      "Error occured in ['마포구' '' '6']\n",
      "Error occured in ['마포구' '' '90']\n"
     ]
    },
    {
     "name": "stderr",
     "output_type": "stream",
     "text": [
      " 87%|████████▋ | 9167/10481 [12:59<01:18, 16.67it/s]"
     ]
    },
    {
     "name": "stdout",
     "output_type": "stream",
     "text": [
      "Error occured in ['마포구' '' '45']\n",
      "Error occured in ['마포구' '' '22']\n",
      "Error occured in ['마포구' '' '235']\n"
     ]
    },
    {
     "name": "stderr",
     "output_type": "stream",
     "text": [
      " 88%|████████▊ | 9173/10481 [13:00<01:17, 16.87it/s]"
     ]
    },
    {
     "name": "stdout",
     "output_type": "stream",
     "text": [
      "Error occured in ['양천구' '오목로' '149-1']\n",
      "Error occured in ['양천구' '' '77']\n",
      "Error occured in ['양천구' '' '9']\n",
      "Error occured in ['양천구' '' '50']\n"
     ]
    },
    {
     "name": "stderr",
     "output_type": "stream",
     "text": [
      " 88%|████████▊ | 9179/10481 [13:00<01:16, 17.02it/s]"
     ]
    },
    {
     "name": "stdout",
     "output_type": "stream",
     "text": [
      "Error occured in ['양천구' '' '170']\n",
      "Error occured in ['양천구' '' '99']\n",
      "Error occured in ['양천구' '목동중앙서로9길' '5']\n",
      "Error occured in ['양천구' '목동중앙북로7나길' '41']\n"
     ]
    },
    {
     "name": "stderr",
     "output_type": "stream",
     "text": [
      " 88%|████████▊ | 9183/10481 [13:00<01:17, 16.84it/s]"
     ]
    },
    {
     "name": "stdout",
     "output_type": "stream",
     "text": [
      "Error occured in ['양천구' '' '38']\n",
      "Error occured in ['양천구' '' '15']\n",
      "Error occured in ['양천구' '' '51-18']\n"
     ]
    },
    {
     "name": "stderr",
     "output_type": "stream",
     "text": [
      " 88%|████████▊ | 9189/10481 [13:01<01:18, 16.54it/s]"
     ]
    },
    {
     "name": "stdout",
     "output_type": "stream",
     "text": [
      "Error occured in ['양천구' '목동중앙남로16나길' '38-10']\n",
      "Error occured in ['양천구' '' '70']\n"
     ]
    },
    {
     "name": "stderr",
     "output_type": "stream",
     "text": [
      " 88%|████████▊ | 9193/10481 [13:01<01:17, 16.57it/s]"
     ]
    },
    {
     "name": "stdout",
     "output_type": "stream",
     "text": [
      "Error occured in ['양천구' '가로공원로71길' '7']\n",
      "Error occured in ['강서구' '' '68-6']\n"
     ]
    },
    {
     "name": "stderr",
     "output_type": "stream",
     "text": [
      " 88%|████████▊ | 9197/10481 [13:01<01:17, 16.47it/s]"
     ]
    },
    {
     "name": "stdout",
     "output_type": "stream",
     "text": [
      "Error occured in ['강서구' '' '74']\n",
      "Error occured in ['강서구' '' '24']\n",
      "Error occured in ['강서구' '' '36']\n",
      "Error occured in ['강서구' '' '39']\n"
     ]
    },
    {
     "name": "stderr",
     "output_type": "stream",
     "text": [
      " 88%|████████▊ | 9199/10481 [13:01<01:23, 15.44it/s]"
     ]
    },
    {
     "name": "stdout",
     "output_type": "stream",
     "text": [
      "Error occured in ['강서구' '화곡로' '146']\n"
     ]
    },
    {
     "name": "stderr",
     "output_type": "stream",
     "text": [
      " 88%|████████▊ | 9203/10481 [13:02<01:26, 14.74it/s]"
     ]
    },
    {
     "name": "stdout",
     "output_type": "stream",
     "text": [
      "Error occured in ['강서구' '' '67']\n",
      "Error occured in ['강서구' '' '30-27']\n",
      "Error occured in ['강서구' '' '139']\n"
     ]
    },
    {
     "name": "stderr",
     "output_type": "stream",
     "text": [
      " 88%|████████▊ | 9207/10481 [13:02<01:20, 15.92it/s]"
     ]
    },
    {
     "name": "stdout",
     "output_type": "stream",
     "text": [
      "Error occured in ['강서구' '' '175']\n",
      "Error occured in ['강서구' '' '76']\n",
      "Error occured in ['강서구' '' '71']\n"
     ]
    },
    {
     "name": "stderr",
     "output_type": "stream",
     "text": [
      " 88%|████████▊ | 9209/10481 [13:02<01:15, 16.74it/s]"
     ]
    },
    {
     "name": "stdout",
     "output_type": "stream",
     "text": [
      "Error occured in ['강서구' '' '77']\n"
     ]
    },
    {
     "name": "stderr",
     "output_type": "stream",
     "text": [
      " 88%|████████▊ | 9213/10481 [13:03<02:06, 10.02it/s]"
     ]
    },
    {
     "name": "stdout",
     "output_type": "stream",
     "text": [
      "Error occured in ['강서구' '' '133']\n",
      "Error occured in ['강서구' '' '348']\n",
      "Error occured in ['강서구' '' '8']\n",
      "Error occured in ['강서구' '양천로11길' '57']\n"
     ]
    },
    {
     "name": "stderr",
     "output_type": "stream",
     "text": [
      " 88%|████████▊ | 9215/10481 [13:03<01:51, 11.38it/s]"
     ]
    },
    {
     "name": "stdout",
     "output_type": "stream",
     "text": [
      "Error occured in ['강서구' '' '55']\n",
      "Error occured in ['강서구' '' '125']\n"
     ]
    },
    {
     "name": "stderr",
     "output_type": "stream",
     "text": [
      " 88%|████████▊ | 9221/10481 [13:03<01:32, 13.64it/s]"
     ]
    },
    {
     "name": "stdout",
     "output_type": "stream",
     "text": [
      "Error occured in ['구로구' '' '662']\n",
      "Error occured in ['구로구' '' '56-13']\n",
      "Error occured in ['구로구' '' '110']\n"
     ]
    },
    {
     "name": "stderr",
     "output_type": "stream",
     "text": [
      " 88%|████████▊ | 9227/10481 [13:03<01:29, 14.05it/s]"
     ]
    },
    {
     "name": "stdout",
     "output_type": "stream",
     "text": [
      "Error occured in ['구로구' '디지털로27라길' '29-11']\n",
      "Error occured in ['구로구' '' '59']\n",
      "Error occured in ['구로구' '' '65']\n"
     ]
    },
    {
     "name": "stderr",
     "output_type": "stream",
     "text": [
      " 88%|████████▊ | 9231/10481 [13:04<01:17, 16.05it/s]"
     ]
    },
    {
     "name": "stdout",
     "output_type": "stream",
     "text": [
      "Error occured in ['구로구' '' '134']\n",
      "Error occured in ['구로구' '' '53']\n",
      "Error occured in ['구로구' '' '46']\n",
      "Error occured in ['구로구' '' '107']\n"
     ]
    },
    {
     "name": "stderr",
     "output_type": "stream",
     "text": [
      " 88%|████████▊ | 9235/10481 [13:04<01:23, 14.94it/s]"
     ]
    },
    {
     "name": "stdout",
     "output_type": "stream",
     "text": [
      "Error occured in ['구로구' '' '8']\n"
     ]
    },
    {
     "name": "stderr",
     "output_type": "stream",
     "text": [
      " 88%|████████▊ | 9239/10481 [13:04<01:17, 16.04it/s]"
     ]
    },
    {
     "name": "stdout",
     "output_type": "stream",
     "text": [
      "Error occured in ['구로구' '' '47']\n",
      "Error occured in ['구로구' '' '128']\n",
      "Error occured in ['구로구' '' '6']\n"
     ]
    },
    {
     "name": "stderr",
     "output_type": "stream",
     "text": [
      " 88%|████████▊ | 9243/10481 [13:04<01:17, 15.95it/s]"
     ]
    },
    {
     "name": "stdout",
     "output_type": "stream",
     "text": [
      "Error occured in ['구로구' '' '54']\n",
      "Error occured in ['구로구' '경인로20가길' '68']\n",
      "Error occured in ['구로구' '천왕로' '50']\n"
     ]
    },
    {
     "name": "stderr",
     "output_type": "stream",
     "text": [
      " 88%|████████▊ | 9247/10481 [13:05<01:12, 17.11it/s]"
     ]
    },
    {
     "name": "stdout",
     "output_type": "stream",
     "text": [
      "Error occured in ['구로구' '오류로' '36-13']\n",
      "Error occured in ['구로구' '' '29']\n",
      "Error occured in ['금천구' '' '7']\n"
     ]
    },
    {
     "name": "stderr",
     "output_type": "stream",
     "text": [
      " 88%|████████▊ | 9255/10481 [13:05<01:14, 16.41it/s]"
     ]
    },
    {
     "name": "stdout",
     "output_type": "stream",
     "text": [
      "Error occured in ['금천구' '' '43']\n",
      "Error occured in ['금천구' '' '793']\n",
      "Error occured in ['금천구' '' '165']\n",
      "Error occured in ['금천구' '금하로' '796']\n"
     ]
    },
    {
     "name": "stderr",
     "output_type": "stream",
     "text": [
      " 88%|████████▊ | 9259/10481 [13:05<01:09, 17.63it/s]"
     ]
    },
    {
     "name": "stdout",
     "output_type": "stream",
     "text": [
      "Error occured in ['금천구' '' '816']\n",
      "Error occured in ['영등포구' '' '28']\n",
      "Error occured in ['영등포구' '' '9']\n",
      "Error occured in ['영등포구' '경인로112길' '25']\n"
     ]
    },
    {
     "name": "stderr",
     "output_type": "stream",
     "text": [
      " 88%|████████▊ | 9263/10481 [13:06<01:10, 17.17it/s]"
     ]
    },
    {
     "name": "stdout",
     "output_type": "stream",
     "text": [
      "Error occured in ['영등포구' '경인로112길' '7']\n",
      "Error occured in ['영등포구' '국회대로56길' '58']\n",
      "Error occured in ['영등포구' '국회대로56길' '46']\n",
      "Error occured in ['영등포구' '영중로14길' '35']\n"
     ]
    },
    {
     "name": "stderr",
     "output_type": "stream",
     "text": [
      " 88%|████████▊ | 9267/10481 [13:06<01:11, 16.91it/s]"
     ]
    },
    {
     "name": "stdout",
     "output_type": "stream",
     "text": [
      "Error occured in ['영등포구' '영등포로49길' '9-14']\n",
      "Error occured in ['영등포구' '국회대로56길' '37']\n",
      "Error occured in ['영등포구' '영중로38길' '6']\n",
      "Error occured in ['영등포구' '' '7']\n"
     ]
    },
    {
     "name": "stderr",
     "output_type": "stream",
     "text": [
      " 88%|████████▊ | 9271/10481 [13:06<01:10, 17.15it/s]"
     ]
    },
    {
     "name": "stdout",
     "output_type": "stream",
     "text": [
      "Error occured in ['영등포구' '' '45']\n",
      "Error occured in ['영등포구' '' '68']\n",
      "Error occured in ['영등포구' '' '32']\n"
     ]
    },
    {
     "name": "stderr",
     "output_type": "stream",
     "text": [
      " 88%|████████▊ | 9275/10481 [13:06<01:08, 17.66it/s]"
     ]
    },
    {
     "name": "stdout",
     "output_type": "stream",
     "text": [
      "Error occured in ['영등포구' '' '13']\n",
      "Error occured in ['영등포구' '' '222']\n",
      "Error occured in ['영등포구' '' '21']\n"
     ]
    },
    {
     "name": "stderr",
     "output_type": "stream",
     "text": [
      " 89%|████████▊ | 9281/10481 [13:07<01:10, 17.06it/s]"
     ]
    },
    {
     "name": "stdout",
     "output_type": "stream",
     "text": [
      "Error occured in ['영등포구' '' '31']\n",
      "Error occured in ['송파구' '' '192']\n",
      "Error occured in ['영등포구' '' '5']\n"
     ]
    },
    {
     "name": "stderr",
     "output_type": "stream",
     "text": [
      " 89%|████████▊ | 9285/10481 [13:07<01:09, 17.10it/s]"
     ]
    },
    {
     "name": "stdout",
     "output_type": "stream",
     "text": [
      "Error occured in ['영등포구' '' '313']\n",
      "Error occured in ['영등포구' '' '575']\n"
     ]
    },
    {
     "name": "stderr",
     "output_type": "stream",
     "text": [
      " 89%|████████▊ | 9289/10481 [13:07<01:10, 16.98it/s]"
     ]
    },
    {
     "name": "stdout",
     "output_type": "stream",
     "text": [
      "Error occured in ['영등포구' '' '312']\n",
      "Error occured in ['영등포구' '' '187']\n",
      "Error occured in ['동작구' '' '50']\n"
     ]
    },
    {
     "name": "stderr",
     "output_type": "stream",
     "text": [
      " 89%|████████▊ | 9295/10481 [13:08<01:09, 17.06it/s]"
     ]
    },
    {
     "name": "stdout",
     "output_type": "stream",
     "text": [
      "Error occured in ['동작구' '' '11']\n",
      "Error occured in ['동작구' '' '19']\n",
      "Error occured in ['동작구' '' '37']\n"
     ]
    },
    {
     "name": "stderr",
     "output_type": "stream",
     "text": [
      " 89%|████████▊ | 9299/10481 [13:08<01:19, 14.84it/s]"
     ]
    },
    {
     "name": "stdout",
     "output_type": "stream",
     "text": [
      "Error occured in ['동작구' '' '156']\n",
      "Error occured in ['동작구' '' '23']\n"
     ]
    },
    {
     "name": "stderr",
     "output_type": "stream",
     "text": [
      " 89%|████████▉ | 9305/10481 [13:08<01:12, 16.31it/s]"
     ]
    },
    {
     "name": "stdout",
     "output_type": "stream",
     "text": [
      "Error occured in ['동작구' '' '115']\n",
      "Error occured in ['동작구' '' '119']\n",
      "Error occured in ['동작구' '' '130']\n"
     ]
    },
    {
     "name": "stderr",
     "output_type": "stream",
     "text": [
      " 89%|████████▉ | 9309/10481 [13:08<01:08, 17.07it/s]"
     ]
    },
    {
     "name": "stdout",
     "output_type": "stream",
     "text": [
      "Error occured in ['동작구' '' '188']\n",
      "Error occured in ['동작구' '상도로' '59']\n",
      "Error occured in ['동작구' '' '70']\n"
     ]
    },
    {
     "name": "stderr",
     "output_type": "stream",
     "text": [
      " 89%|████████▉ | 9313/10481 [13:09<01:06, 17.48it/s]"
     ]
    },
    {
     "name": "stdout",
     "output_type": "stream",
     "text": [
      "Error occured in ['관악구' '청룡3길' '3']\n",
      "Error occured in ['관악구' '쑥고개로13길' '18']\n",
      "Error occured in ['관악구' '' '80']\n",
      "Error occured in ['관악구' '관악로13길' '20']\n"
     ]
    },
    {
     "name": "stderr",
     "output_type": "stream",
     "text": [
      " 89%|████████▉ | 9317/10481 [13:09<01:04, 18.06it/s]"
     ]
    },
    {
     "name": "stdout",
     "output_type": "stream",
     "text": [
      "Error occured in ['관악구' '관악로25길' '5-8']\n",
      "Error occured in ['관악구' '관악로' '110']\n",
      "Error occured in ['관악구' '' '46-1']\n",
      "Error occured in ['관악구' '청룡7길' '29']\n"
     ]
    },
    {
     "name": "stderr",
     "output_type": "stream",
     "text": [
      " 89%|████████▉ | 9321/10481 [13:09<01:05, 17.63it/s]"
     ]
    },
    {
     "name": "stdout",
     "output_type": "stream",
     "text": [
      "Error occured in ['관악구' '행운1마길' '4']\n",
      "Error occured in ['관악구' '양녕로' '5']\n"
     ]
    },
    {
     "name": "stderr",
     "output_type": "stream",
     "text": [
      " 89%|████████▉ | 9325/10481 [13:09<01:10, 16.34it/s]"
     ]
    },
    {
     "name": "stdout",
     "output_type": "stream",
     "text": [
      "Error occured in ['관악구' '신림로64길' '46']\n",
      "Error occured in ['관악구' '신림로65길' '16-5']\n",
      "Error occured in ['관악구' '신림동5나길' '8']\n"
     ]
    },
    {
     "name": "stderr",
     "output_type": "stream",
     "text": [
      " 89%|████████▉ | 9331/10481 [13:10<01:08, 16.75it/s]"
     ]
    },
    {
     "name": "stdout",
     "output_type": "stream",
     "text": [
      "Error occured in ['관악구' '' '1430']\n",
      "Error occured in ['관악구' '' '541']\n",
      "Error occured in ['관악구' '' '8']\n"
     ]
    },
    {
     "name": "stderr",
     "output_type": "stream",
     "text": [
      " 89%|████████▉ | 9335/10481 [13:10<01:13, 15.61it/s]"
     ]
    },
    {
     "name": "stdout",
     "output_type": "stream",
     "text": [
      "Error occured in ['관악구' '' '40']\n",
      "Error occured in ['서초구' '' '30']\n",
      "Error occured in ['서초구' '' '40']\n"
     ]
    },
    {
     "name": "stderr",
     "output_type": "stream",
     "text": [
      " 89%|████████▉ | 9339/10481 [13:10<01:10, 16.22it/s]"
     ]
    },
    {
     "name": "stdout",
     "output_type": "stream",
     "text": [
      "Error occured in ['서초구' '' '90']\n",
      "Error occured in ['서초구' '' '33']\n",
      "Error occured in ['서초구' '' '8']\n"
     ]
    },
    {
     "name": "stderr",
     "output_type": "stream",
     "text": [
      " 89%|████████▉ | 9343/10481 [13:10<01:13, 15.55it/s]"
     ]
    },
    {
     "name": "stdout",
     "output_type": "stream",
     "text": [
      "Error occured in ['서초구' '' '37-48']\n",
      "Error occured in ['서초구' '' '6']\n"
     ]
    },
    {
     "name": "stderr",
     "output_type": "stream",
     "text": [
      " 89%|████████▉ | 9345/10481 [13:11<01:12, 15.73it/s]"
     ]
    },
    {
     "name": "stdout",
     "output_type": "stream",
     "text": [
      "Error occured in ['서초구' '' '270']\n",
      "Error occured in ['서초구' '' '28']\n"
     ]
    },
    {
     "name": "stderr",
     "output_type": "stream",
     "text": [
      " 89%|████████▉ | 9349/10481 [13:11<01:11, 15.81it/s]"
     ]
    },
    {
     "name": "stdout",
     "output_type": "stream",
     "text": [
      "Error occured in ['서초구' '명달로11길' '17-2']\n",
      "Error occured in ['서초구' '명달로' '44']\n"
     ]
    },
    {
     "name": "stderr",
     "output_type": "stream",
     "text": [
      " 89%|████████▉ | 9355/10481 [13:11<01:07, 16.57it/s]"
     ]
    },
    {
     "name": "stdout",
     "output_type": "stream",
     "text": [
      "Error occured in ['서초구' '' '197']\n",
      "Error occured in ['서초구' '' '11']\n",
      "Error occured in ['서초구' '' '18']\n",
      "Error occured in ['서초구' '' '200']\n"
     ]
    },
    {
     "name": "stderr",
     "output_type": "stream",
     "text": [
      " 89%|████████▉ | 9359/10481 [13:11<01:09, 16.17it/s]"
     ]
    },
    {
     "name": "stdout",
     "output_type": "stream",
     "text": [
      "Error occured in ['서초구' '' '56']\n",
      "Error occured in ['강남구' '' '21']\n",
      "Error occured in ['강남구' '' '307']\n"
     ]
    },
    {
     "name": "stderr",
     "output_type": "stream",
     "text": [
      " 89%|████████▉ | 9365/10481 [13:12<01:05, 16.98it/s]"
     ]
    },
    {
     "name": "stdout",
     "output_type": "stream",
     "text": [
      "Error occured in ['강남구' '' '9']\n",
      "Error occured in ['강남구' '' '516']\n",
      "Error occured in ['강남구' '' '17']\n",
      "Error occured in ['강남구' '' '310']\n"
     ]
    },
    {
     "name": "stderr",
     "output_type": "stream",
     "text": [
      " 89%|████████▉ | 9369/10481 [13:12<01:04, 17.23it/s]"
     ]
    },
    {
     "name": "stdout",
     "output_type": "stream",
     "text": [
      "Error occured in ['강남구' '' '110']\n",
      "Error occured in ['강남구' '' '29']\n",
      "Error occured in ['강남구' '' '12']\n"
     ]
    },
    {
     "name": "stderr",
     "output_type": "stream",
     "text": [
      " 89%|████████▉ | 9371/10481 [13:12<01:06, 16.65it/s]"
     ]
    },
    {
     "name": "stdout",
     "output_type": "stream",
     "text": [
      "Error occured in ['강남구' '' '39']\n"
     ]
    },
    {
     "name": "stderr",
     "output_type": "stream",
     "text": [
      " 89%|████████▉ | 9375/10481 [13:12<01:09, 15.91it/s]"
     ]
    },
    {
     "name": "stdout",
     "output_type": "stream",
     "text": [
      "Error occured in ['강남구' '' '8']\n",
      "Error occured in ['강남구' '' '14']\n",
      "Error occured in ['강남구' '' '212']\n"
     ]
    },
    {
     "name": "stderr",
     "output_type": "stream",
     "text": [
      " 89%|████████▉ | 9379/10481 [13:13<01:05, 16.78it/s]"
     ]
    },
    {
     "name": "stdout",
     "output_type": "stream",
     "text": [
      "Error occured in ['강남구' '' '25']\n",
      "Error occured in ['강남구' '' '35']\n",
      "Error occured in ['강남구' '봉은사로49길' '13']\n",
      "Error occured in ['강남구' '논현로118길' '17']\n"
     ]
    },
    {
     "name": "stderr",
     "output_type": "stream",
     "text": [
      " 90%|████████▉ | 9383/10481 [13:13<01:02, 17.49it/s]"
     ]
    },
    {
     "name": "stdout",
     "output_type": "stream",
     "text": [
      "Error occured in ['강남구' '' '201']\n",
      "Error occured in ['강남구' '' '151']\n",
      "Error occured in ['강남구' '' '45']\n"
     ]
    },
    {
     "name": "stderr",
     "output_type": "stream",
     "text": [
      " 90%|████████▉ | 9391/10481 [13:13<01:05, 16.75it/s]"
     ]
    },
    {
     "name": "stdout",
     "output_type": "stream",
     "text": [
      "Error occured in ['강남구' '' '2803']\n",
      "Error occured in ['송파구' '' '62']\n",
      "Error occured in ['송파구' '' '567']\n"
     ]
    },
    {
     "name": "stderr",
     "output_type": "stream",
     "text": [
      " 90%|████████▉ | 9395/10481 [13:14<01:05, 16.62it/s]"
     ]
    },
    {
     "name": "stdout",
     "output_type": "stream",
     "text": [
      "Error occured in ['송파구' '' '88']\n",
      "Error occured in ['송파구' '' '99']\n",
      "Error occured in ['송파구' '' '42']\n"
     ]
    },
    {
     "name": "stderr",
     "output_type": "stream",
     "text": [
      " 90%|████████▉ | 9399/10481 [13:14<01:05, 16.54it/s]"
     ]
    },
    {
     "name": "stdout",
     "output_type": "stream",
     "text": [
      "Error occured in ['송파구' '' '104']\n",
      "Error occured in ['송파구' '' '11']\n"
     ]
    },
    {
     "name": "stderr",
     "output_type": "stream",
     "text": [
      " 90%|████████▉ | 9403/10481 [13:14<01:03, 17.04it/s]"
     ]
    },
    {
     "name": "stdout",
     "output_type": "stream",
     "text": [
      "Error occured in ['송파구' '가락로11길' '8-16']\n",
      "Error occured in ['송파구' '백제고분로21길' '7']\n",
      "Error occured in ['송파구' '' '33']\n",
      "Error occured in ['송파구' '' '8']\n"
     ]
    },
    {
     "name": "stderr",
     "output_type": "stream",
     "text": [
      " 90%|████████▉ | 9409/10481 [13:14<01:04, 16.67it/s]"
     ]
    },
    {
     "name": "stdout",
     "output_type": "stream",
     "text": [
      "Error occured in ['송파구' '' '10']\n",
      "Error occured in ['송파구' '' '12']\n",
      "Error occured in ['송파구' '' '56']\n"
     ]
    },
    {
     "name": "stderr",
     "output_type": "stream",
     "text": [
      " 90%|████████▉ | 9413/10481 [13:15<01:06, 16.08it/s]"
     ]
    },
    {
     "name": "stdout",
     "output_type": "stream",
     "text": [
      "Error occured in ['송파구' '위례순환로' '477']\n",
      "Error occured in ['송파구' '' '121']\n"
     ]
    },
    {
     "name": "stderr",
     "output_type": "stream",
     "text": [
      " 90%|████████▉ | 9415/10481 [13:15<01:10, 15.08it/s]"
     ]
    },
    {
     "name": "stdout",
     "output_type": "stream",
     "text": [
      "Error occured in ['송파구' '' '27']\n"
     ]
    },
    {
     "name": "stderr",
     "output_type": "stream",
     "text": [
      " 90%|████████▉ | 9421/10481 [13:15<01:04, 16.48it/s]"
     ]
    },
    {
     "name": "stdout",
     "output_type": "stream",
     "text": [
      "Error occured in ['강동구' '' '240']\n",
      "Error occured in ['강동구' '' '251']\n",
      "Error occured in ['강동구' '' '26']\n",
      "Error occured in ['강동구' '구천면로' '650-650']\n"
     ]
    },
    {
     "name": "stderr",
     "output_type": "stream",
     "text": [
      " 90%|████████▉ | 9425/10481 [13:15<01:01, 17.06it/s]"
     ]
    },
    {
     "name": "stdout",
     "output_type": "stream",
     "text": [
      "Error occured in ['강동구' '' '53']\n",
      "Error occured in ['강동구' '' '56']\n",
      "Error occured in ['강동구' '' '1240']\n",
      "Error occured in ['강동구' '' '21']\n"
     ]
    },
    {
     "name": "stderr",
     "output_type": "stream",
     "text": [
      " 90%|████████▉ | 9429/10481 [13:16<01:02, 16.83it/s]"
     ]
    },
    {
     "name": "stdout",
     "output_type": "stream",
     "text": [
      "Error occured in ['강동구' '' '113']\n",
      "Error occured in ['강동구' '' '47']\n",
      "Error occured in ['강동구' '' '130']\n"
     ]
    },
    {
     "name": "stderr",
     "output_type": "stream",
     "text": [
      " 90%|█████████ | 9433/10481 [13:16<01:03, 16.57it/s]"
     ]
    },
    {
     "name": "stdout",
     "output_type": "stream",
     "text": [
      "Error occured in ['강동구' '' '77']\n",
      "Error occured in ['강동구' '' '98']\n"
     ]
    },
    {
     "name": "stderr",
     "output_type": "stream",
     "text": [
      " 90%|█████████ | 9437/10481 [13:16<01:04, 16.11it/s]"
     ]
    },
    {
     "name": "stdout",
     "output_type": "stream",
     "text": [
      "Error occured in ['강동구' '' '12']\n",
      "Error occured in ['강동구' '' '15']\n",
      "Error occured in ['강동구' '성안로27길' '51-14']\n"
     ]
    },
    {
     "name": "stderr",
     "output_type": "stream",
     "text": [
      " 90%|█████████ | 9443/10481 [13:17<01:01, 16.76it/s]"
     ]
    },
    {
     "name": "stdout",
     "output_type": "stream",
     "text": [
      "Error occured in ['강동구' '성안로25길' '64']\n",
      "Error occured in ['강동구' '' '19']\n"
     ]
    },
    {
     "name": "stderr",
     "output_type": "stream",
     "text": [
      " 91%|█████████ | 9543/10481 [13:25<01:17, 12.13it/s]"
     ]
    },
    {
     "name": "stdout",
     "output_type": "stream",
     "text": [
      "Error occured in ['종로구' '청계천로' '295']\n"
     ]
    },
    {
     "name": "stderr",
     "output_type": "stream",
     "text": [
      " 91%|█████████ | 9547/10481 [13:26<01:12, 12.88it/s]"
     ]
    },
    {
     "name": "stdout",
     "output_type": "stream",
     "text": [
      "Error occured in ['중구' '난계로21길' '25-5']\n",
      "Error occured in ['중구' '난계로17길' '58-1']\n"
     ]
    },
    {
     "name": "stderr",
     "output_type": "stream",
     "text": [
      " 91%|█████████ | 9553/10481 [13:26<01:10, 13.24it/s]"
     ]
    },
    {
     "name": "stdout",
     "output_type": "stream",
     "text": [
      "Error occured in ['성동구' '사근동길' '47']\n"
     ]
    },
    {
     "name": "stderr",
     "output_type": "stream",
     "text": [
      " 91%|█████████ | 9559/10481 [13:27<01:13, 12.47it/s]"
     ]
    },
    {
     "name": "stdout",
     "output_type": "stream",
     "text": [
      "Error occured in ['광진구' '자양로' '154-11']\n"
     ]
    },
    {
     "name": "stderr",
     "output_type": "stream",
     "text": [
      " 91%|█████████▏| 9565/10481 [13:27<01:08, 13.45it/s]"
     ]
    },
    {
     "name": "stdout",
     "output_type": "stream",
     "text": [
      "Error occured in ['동대문구' '한빛로' '29']\n",
      "Error occured in ['동대문구' '천호대로39길' '56']\n"
     ]
    },
    {
     "name": "stderr",
     "output_type": "stream",
     "text": [
      " 91%|█████████▏| 9569/10481 [13:27<01:06, 13.78it/s]"
     ]
    },
    {
     "name": "stdout",
     "output_type": "stream",
     "text": [
      "Error occured in ['동대문구' '답십리로26길' '26']\n",
      "Error occured in ['동대문구' '전농로38가길' '15-3']\n"
     ]
    },
    {
     "name": "stderr",
     "output_type": "stream",
     "text": [
      " 91%|█████████▏| 9573/10481 [13:28<01:09, 13.02it/s]"
     ]
    },
    {
     "name": "stdout",
     "output_type": "stream",
     "text": [
      "Error occured in ['동대문구' '장한로27길' '11']\n"
     ]
    },
    {
     "name": "stderr",
     "output_type": "stream",
     "text": [
      " 91%|█████████▏| 9577/10481 [13:28<01:07, 13.41it/s]"
     ]
    },
    {
     "name": "stdout",
     "output_type": "stream",
     "text": [
      "Error occured in ['성북구' '동소문로' '84']\n"
     ]
    },
    {
     "name": "stderr",
     "output_type": "stream",
     "text": [
      " 91%|█████████▏| 9581/10481 [13:28<01:10, 12.70it/s]"
     ]
    },
    {
     "name": "stdout",
     "output_type": "stream",
     "text": [
      "Error occured in ['강북구' '한천로' '988']\n"
     ]
    },
    {
     "name": "stderr",
     "output_type": "stream",
     "text": [
      " 91%|█████████▏| 9585/10481 [13:28<01:08, 13.03it/s]"
     ]
    },
    {
     "name": "stdout",
     "output_type": "stream",
     "text": [
      "Error occured in ['도봉구' '도봉로165길' '18']\n"
     ]
    },
    {
     "name": "stderr",
     "output_type": "stream",
     "text": [
      " 91%|█████████▏| 9589/10481 [13:29<01:10, 12.66it/s]"
     ]
    },
    {
     "name": "stdout",
     "output_type": "stream",
     "text": [
      "Error occured in ['은평구' '통일로' '708-1']\n",
      "Error occured in ['은평구' '통일로' '925']\n"
     ]
    },
    {
     "name": "stderr",
     "output_type": "stream",
     "text": [
      " 92%|█████████▏| 9599/10481 [13:30<01:04, 13.75it/s]"
     ]
    },
    {
     "name": "stdout",
     "output_type": "stream",
     "text": [
      "Error occured in ['서대문구' '이화여대1길' '30']\n",
      "Error occured in ['서대문구' '이화여대3길' '16']\n",
      "Error occured in ['서대문구' '명지길' '109']\n"
     ]
    },
    {
     "name": "stderr",
     "output_type": "stream",
     "text": [
      " 92%|█████████▏| 9603/10481 [13:30<01:04, 13.64it/s]"
     ]
    },
    {
     "name": "stdout",
     "output_type": "stream",
     "text": [
      "Error occured in ['마포구' '' '18']\n",
      "Error occured in ['마포구' '동교로5길' '23']\n"
     ]
    },
    {
     "name": "stderr",
     "output_type": "stream",
     "text": [
      " 92%|█████████▏| 9607/10481 [13:30<01:03, 13.76it/s]"
     ]
    },
    {
     "name": "stdout",
     "output_type": "stream",
     "text": [
      "Error occured in ['양천구' '목동중앙북로7가길' '38']\n",
      "Error occured in ['양천구' '목동중앙북로1길' '46']\n",
      "Error occured in ['양천구' '목동중앙북로' '120-8']\n"
     ]
    },
    {
     "name": "stderr",
     "output_type": "stream",
     "text": [
      " 92%|█████████▏| 9613/10481 [13:31<00:56, 15.49it/s]"
     ]
    },
    {
     "name": "stdout",
     "output_type": "stream",
     "text": [
      "Error occured in ['강서구' '공항대로69길' '17']\n",
      "Error occured in ['강서구' '양천로' '516']\n",
      "Error occured in ['강서구' '곰달래로16길' '15']\n",
      "Error occured in ['강서구' '곰달래로' '84']\n"
     ]
    },
    {
     "name": "stderr",
     "output_type": "stream",
     "text": [
      " 92%|█████████▏| 9617/10481 [13:31<00:57, 15.02it/s]"
     ]
    },
    {
     "name": "stdout",
     "output_type": "stream",
     "text": [
      "Error occured in ['강서구' '까치산로' '182']\n",
      "Error occured in ['강서구' '강서로7길' '20-20']\n"
     ]
    },
    {
     "name": "stderr",
     "output_type": "stream",
     "text": [
      " 92%|█████████▏| 9621/10481 [13:31<00:58, 14.70it/s]"
     ]
    },
    {
     "name": "stdout",
     "output_type": "stream",
     "text": [
      "Error occured in ['구로구' '구로동로18길' '35-1']\n"
     ]
    },
    {
     "name": "stderr",
     "output_type": "stream",
     "text": [
      " 92%|█████████▏| 9629/10481 [13:32<00:57, 14.86it/s]"
     ]
    },
    {
     "name": "stdout",
     "output_type": "stream",
     "text": [
      "Error occured in ['구로구' '고척로52나길' '25']\n",
      "Error occured in ['구로구' '경인로' '302-1']\n"
     ]
    },
    {
     "name": "stderr",
     "output_type": "stream",
     "text": [
      " 92%|█████████▏| 9633/10481 [13:32<00:54, 15.62it/s]"
     ]
    },
    {
     "name": "stdout",
     "output_type": "stream",
     "text": [
      "Error occured in ['구로구' '서해안로' '2036']\n",
      "Error occured in ['금천구' '벚꽃로' '316']\n"
     ]
    },
    {
     "name": "stderr",
     "output_type": "stream",
     "text": [
      " 92%|█████████▏| 9639/10481 [13:32<00:54, 15.43it/s]"
     ]
    },
    {
     "name": "stdout",
     "output_type": "stream",
     "text": [
      "Error occured in ['금천구' '시흥대로54길' '41']\n",
      "Error occured in ['금천구' '시흥대로' '224']\n",
      "Error occured in ['영등포구' '버드나루로11길' '11']\n"
     ]
    },
    {
     "name": "stderr",
     "output_type": "stream",
     "text": [
      " 92%|█████████▏| 9641/10481 [13:32<00:53, 15.71it/s]"
     ]
    },
    {
     "name": "stdout",
     "output_type": "stream",
     "text": [
      "Error occured in ['영등포구' '국회대로55길' '18-1']\n",
      "Error occured in ['송파구' '오금로32길' '35']\n"
     ]
    },
    {
     "name": "stderr",
     "output_type": "stream",
     "text": [
      " 92%|█████████▏| 9653/10481 [13:33<00:55, 15.03it/s]"
     ]
    },
    {
     "name": "stdout",
     "output_type": "stream",
     "text": [
      "Error occured in ['관악구' '중앙길' '15-1']\n",
      "Error occured in ['관악구' '관악로25길' '5-5']\n",
      "Error occured in ['관악구' '은천로' '126']\n",
      "Error occured in ['관악구' '신림동7길' '33']\n"
     ]
    },
    {
     "name": "stderr",
     "output_type": "stream",
     "text": [
      " 92%|█████████▏| 9657/10481 [13:34<01:01, 13.36it/s]"
     ]
    },
    {
     "name": "stdout",
     "output_type": "stream",
     "text": [
      "Error occured in ['서초구' '서초대로3길' '6']\n"
     ]
    },
    {
     "name": "stderr",
     "output_type": "stream",
     "text": [
      " 92%|█████████▏| 9659/10481 [13:34<00:58, 14.08it/s]"
     ]
    },
    {
     "name": "stdout",
     "output_type": "stream",
     "text": [
      "Error occured in ['서초구' '사임당로' '115']\n",
      "Error occured in ['강남구' '테헤란로27길' '8-14']\n"
     ]
    },
    {
     "name": "stderr",
     "output_type": "stream",
     "text": [
      " 92%|█████████▏| 9669/10481 [13:35<01:00, 13.34it/s]"
     ]
    },
    {
     "name": "stdout",
     "output_type": "stream",
     "text": [
      "Error occured in ['강동구' '고덕로80길' '123']\n",
      "Error occured in ['강동구' '고덕로27길' '7']\n"
     ]
    },
    {
     "name": "stderr",
     "output_type": "stream",
     "text": [
      " 92%|█████████▏| 9671/10481 [13:35<00:57, 14.09it/s]"
     ]
    },
    {
     "name": "stdout",
     "output_type": "stream",
     "text": [
      "Error occured in ['강동구' '올림픽로62길' '9-6']\n"
     ]
    },
    {
     "name": "stderr",
     "output_type": "stream",
     "text": [
      " 93%|█████████▎| 9777/10481 [13:44<00:55, 12.68it/s]"
     ]
    },
    {
     "name": "stdout",
     "output_type": "stream",
     "text": [
      "Error occured in ['중랑구' '면목로' '490']\n"
     ]
    },
    {
     "name": "stderr",
     "output_type": "stream",
     "text": [
      " 93%|█████████▎| 9779/10481 [13:44<00:50, 14.04it/s]"
     ]
    },
    {
     "name": "stdout",
     "output_type": "stream",
     "text": [
      "Error occured in ['중랑구' '신내로' '208']\n",
      "Error occured in ['성북구' '' '60']\n"
     ]
    },
    {
     "name": "stderr",
     "output_type": "stream",
     "text": [
      " 93%|█████████▎| 9785/10481 [13:44<00:49, 14.14it/s]"
     ]
    },
    {
     "name": "stdout",
     "output_type": "stream",
     "text": [
      "Error occured in ['노원구' '화랑로' '425-1']\n",
      "Error occured in ['노원구' '화랑로' '425-7']\n",
      "Error occured in ['노원구' '공릉로62가길' '14']\n"
     ]
    },
    {
     "name": "stderr",
     "output_type": "stream",
     "text": [
      " 93%|█████████▎| 9797/10481 [13:45<00:53, 12.71it/s]"
     ]
    },
    {
     "name": "stdout",
     "output_type": "stream",
     "text": [
      "Error occured in ['서대문구' '연희로41길' '53-1']\n"
     ]
    },
    {
     "name": "stderr",
     "output_type": "stream",
     "text": [
      " 94%|█████████▎| 9805/10481 [13:46<00:49, 13.52it/s]"
     ]
    },
    {
     "name": "stdout",
     "output_type": "stream",
     "text": [
      "Error occured in ['양천구' '신정로7길' '75']\n",
      "Error occured in ['양천구' '신월로' '310']\n",
      "Error occured in ['강서구' '공항대로' '593']\n"
     ]
    },
    {
     "name": "stderr",
     "output_type": "stream",
     "text": [
      " 94%|█████████▎| 9809/10481 [13:46<00:44, 15.01it/s]"
     ]
    },
    {
     "name": "stdout",
     "output_type": "stream",
     "text": [
      "Error occured in ['강서구' '강서로' '43-1']\n",
      "Error occured in ['강서구' '초록마을로32길' '7-5']\n",
      "Error occured in ['강서구' '강서로7길' '73']\n"
     ]
    },
    {
     "name": "stderr",
     "output_type": "stream",
     "text": [
      " 94%|█████████▎| 9815/10481 [13:47<00:46, 14.31it/s]"
     ]
    },
    {
     "name": "stdout",
     "output_type": "stream",
     "text": [
      "Error occured in ['구로구' '디지털로27라길' '39-12']\n",
      "Error occured in ['구로구' '구로동로8길' '62-4']\n"
     ]
    },
    {
     "name": "stderr",
     "output_type": "stream",
     "text": [
      " 94%|█████████▎| 9819/10481 [13:47<00:45, 14.58it/s]"
     ]
    },
    {
     "name": "stdout",
     "output_type": "stream",
     "text": [
      "Error occured in ['영등포구' '양평로' '4']\n",
      "Error occured in ['영등포구' '도영로' '65']\n"
     ]
    },
    {
     "name": "stderr",
     "output_type": "stream",
     "text": [
      " 94%|█████████▍| 9829/10481 [13:48<00:47, 13.65it/s]"
     ]
    },
    {
     "name": "stdout",
     "output_type": "stream",
     "text": [
      "Error occured in ['관악구' '남부순환로218길' '27']\n",
      "Error occured in ['서초구' '서초대로16길' '9']\n"
     ]
    },
    {
     "name": "stderr",
     "output_type": "stream",
     "text": [
      " 94%|█████████▍| 9839/10481 [13:49<00:49, 13.10it/s]"
     ]
    },
    {
     "name": "stdout",
     "output_type": "stream",
     "text": [
      "Error occured in ['강남구' '영동대로' '325']\n"
     ]
    },
    {
     "name": "stderr",
     "output_type": "stream",
     "text": [
      " 94%|█████████▍| 9845/10481 [13:49<00:49, 12.80it/s]"
     ]
    },
    {
     "name": "stdout",
     "output_type": "stream",
     "text": [
      "Error occured in ['강동구' '양재대로' '1419']\n"
     ]
    },
    {
     "name": "stderr",
     "output_type": "stream",
     "text": [
      " 95%|█████████▍| 9947/10481 [13:57<00:38, 14.02it/s]"
     ]
    },
    {
     "name": "stdout",
     "output_type": "stream",
     "text": [
      "Error occured in ['종로구' '청계천로' '319']\n",
      "Error occured in ['종로구' '난계로29길' '55']\n",
      "Error occured in ['종로구' '통일로' '246-11']\n"
     ]
    },
    {
     "name": "stderr",
     "output_type": "stream",
     "text": [
      " 95%|█████████▍| 9953/10481 [13:58<00:36, 14.48it/s]"
     ]
    },
    {
     "name": "stdout",
     "output_type": "stream",
     "text": [
      "Error occured in ['성동구' '천호대로' '416']\n",
      "Error occured in ['광진구' '구의강변로' '53']\n"
     ]
    },
    {
     "name": "stderr",
     "output_type": "stream",
     "text": [
      " 95%|█████████▌| 9959/10481 [13:58<00:36, 14.13it/s]"
     ]
    },
    {
     "name": "stdout",
     "output_type": "stream",
     "text": [
      "Error occured in ['동대문구' '답십리로' '314']\n",
      "Error occured in ['중랑구' '봉우재로' '130']\n"
     ]
    },
    {
     "name": "stderr",
     "output_type": "stream",
     "text": [
      " 95%|█████████▌| 9965/10481 [13:59<00:35, 14.53it/s]"
     ]
    },
    {
     "name": "stdout",
     "output_type": "stream",
     "text": [
      "Error occured in ['중랑구' '망우로' '400']\n",
      "Error occured in ['성북구' '화랑로' '265']\n",
      "Error occured in ['강북구' '도봉로73길' '41']\n"
     ]
    },
    {
     "name": "stderr",
     "output_type": "stream",
     "text": [
      " 95%|█████████▌| 9969/10481 [13:59<00:33, 15.44it/s]"
     ]
    },
    {
     "name": "stdout",
     "output_type": "stream",
     "text": [
      "Error occured in ['도봉구' '도봉로' '445']\n",
      "Error occured in ['도봉구' '' '노해로']\n"
     ]
    },
    {
     "name": "stderr",
     "output_type": "stream",
     "text": [
      " 95%|█████████▌| 9973/10481 [13:59<00:33, 15.02it/s]"
     ]
    },
    {
     "name": "stdout",
     "output_type": "stream",
     "text": [
      "Error occured in ['은평구' '서오릉로' '6']\n",
      "Error occured in ['은평구' '연서로26길' '3-1']\n"
     ]
    },
    {
     "name": "stderr",
     "output_type": "stream",
     "text": [
      " 95%|█████████▌| 9985/10481 [14:00<00:35, 13.94it/s]"
     ]
    },
    {
     "name": "stdout",
     "output_type": "stream",
     "text": [
      "Error occured in ['마포구' '양화로' '72']\n",
      "Error occured in ['양천구' '신목로' '59']\n"
     ]
    },
    {
     "name": "stderr",
     "output_type": "stream",
     "text": [
      " 95%|█████████▌| 9991/10481 [14:01<00:33, 14.58it/s]"
     ]
    },
    {
     "name": "stdout",
     "output_type": "stream",
     "text": [
      "Error occured in ['양천구' '중앙로53길' '14']\n",
      "Error occured in ['강서구' '공항대로59가길' '14']\n"
     ]
    },
    {
     "name": "stderr",
     "output_type": "stream",
     "text": [
      " 95%|█████████▌| 9995/10481 [14:01<00:31, 15.52it/s]"
     ]
    },
    {
     "name": "stdout",
     "output_type": "stream",
     "text": [
      "Error occured in ['강서구' '월정로20길' '58']\n",
      "Error occured in ['강서구' '곰달래로18길' '13']\n",
      "Error occured in ['강서구' '월정로20길' '56']\n"
     ]
    },
    {
     "name": "stderr",
     "output_type": "stream",
     "text": [
      " 95%|█████████▌| 9999/10481 [14:01<00:35, 13.52it/s]"
     ]
    },
    {
     "name": "stdout",
     "output_type": "stream",
     "text": [
      "Error occured in ['강서구' '강서로' '145']\n"
     ]
    },
    {
     "name": "stderr",
     "output_type": "stream",
     "text": [
      " 95%|█████████▌| 10003/10481 [14:01<00:32, 14.50it/s]"
     ]
    },
    {
     "name": "stdout",
     "output_type": "stream",
     "text": [
      "Error occured in ['구로구' '중앙로5길' '59']\n",
      "Error occured in ['구로구' '경인로43길' '49']\n"
     ]
    },
    {
     "name": "stderr",
     "output_type": "stream",
     "text": [
      " 95%|█████████▌| 10007/10481 [14:02<00:35, 13.41it/s]"
     ]
    },
    {
     "name": "stdout",
     "output_type": "stream",
     "text": [
      "Error occured in ['영등포구' '버드나루로10길' '7-1']\n"
     ]
    },
    {
     "name": "stderr",
     "output_type": "stream",
     "text": [
      " 96%|█████████▌| 10011/10481 [14:02<00:36, 12.98it/s]"
     ]
    },
    {
     "name": "stdout",
     "output_type": "stream",
     "text": [
      "Error occured in ['동작구' '노량진로8길' '55']\n"
     ]
    },
    {
     "name": "stderr",
     "output_type": "stream",
     "text": [
      " 96%|█████████▌| 10017/10481 [14:02<00:33, 14.05it/s]"
     ]
    },
    {
     "name": "stdout",
     "output_type": "stream",
     "text": [
      "Error occured in ['관악구' '남부순환로226길' '28']\n",
      "Error occured in ['관악구' '남부순환로' '1987']\n",
      "Error occured in ['관악구' '봉천로12길' '59']\n"
     ]
    },
    {
     "name": "stderr",
     "output_type": "stream",
     "text": [
      " 96%|█████████▌| 10019/10481 [14:03<00:31, 14.58it/s]"
     ]
    },
    {
     "name": "stdout",
     "output_type": "stream",
     "text": [
      "Error occured in ['서초구' '명달로' '97-1']\n"
     ]
    },
    {
     "name": "stderr",
     "output_type": "stream",
     "text": [
      " 96%|█████████▌| 10029/10481 [14:03<00:32, 14.01it/s]"
     ]
    },
    {
     "name": "stdout",
     "output_type": "stream",
     "text": [
      "Error occured in ['강남구' '남부순환로351길' '4']\n",
      "Error occured in ['송파구' '오금로11길' '47-1']\n",
      "Error occured in ['송파구' '오금로11길' '43-1']\n"
     ]
    },
    {
     "name": "stderr",
     "output_type": "stream",
     "text": [
      " 96%|█████████▌| 10033/10481 [14:04<00:31, 14.37it/s]"
     ]
    },
    {
     "name": "stdout",
     "output_type": "stream",
     "text": [
      "Error occured in ['송파구' '위례북로4길' '12']\n",
      "Error occured in ['강동구' '양재대로' '1568']\n"
     ]
    },
    {
     "name": "stderr",
     "output_type": "stream",
     "text": [
      " 96%|█████████▌| 10037/10481 [14:04<00:32, 13.54it/s]"
     ]
    },
    {
     "name": "stdout",
     "output_type": "stream",
     "text": [
      "Error occured in ['강동구' '고덕로98길' '160']\n"
     ]
    },
    {
     "name": "stderr",
     "output_type": "stream",
     "text": [
      " 96%|█████████▌| 10041/10481 [14:04<00:33, 13.10it/s]"
     ]
    },
    {
     "name": "stdout",
     "output_type": "stream",
     "text": [
      "Error occured in ['강동구' '천호대로161길' '21']\n"
     ]
    },
    {
     "name": "stderr",
     "output_type": "stream",
     "text": [
      " 96%|█████████▌| 10043/10481 [14:04<00:31, 14.06it/s]"
     ]
    },
    {
     "name": "stdout",
     "output_type": "stream",
     "text": [
      "Error occured in ['강동구' '아리수로93가길' '77']\n",
      "Error occured in ['강동구' '아리수로93가길' '70']\n",
      "Error occured in ['강동구' '고덕로98길' '29']\n"
     ]
    },
    {
     "name": "stderr",
     "output_type": "stream",
     "text": [
      " 96%|█████████▋| 10107/10481 [14:10<00:28, 13.01it/s]"
     ]
    },
    {
     "name": "stdout",
     "output_type": "stream",
     "text": [
      "Error occured in ['용산구' '회나무로13가길' '16']\n"
     ]
    },
    {
     "name": "stderr",
     "output_type": "stream",
     "text": [
      " 97%|█████████▋| 10115/10481 [14:10<00:26, 13.82it/s]"
     ]
    },
    {
     "name": "stdout",
     "output_type": "stream",
     "text": [
      "Error occured in ['동대문구' '천호대로83길' '10']\n"
     ]
    },
    {
     "name": "stderr",
     "output_type": "stream",
     "text": [
      " 97%|█████████▋| 10125/10481 [14:11<00:24, 14.43it/s]"
     ]
    },
    {
     "name": "stdout",
     "output_type": "stream",
     "text": [
      "Error occured in ['중랑구' '봉화산로' '301']\n",
      "Error occured in ['성북구' '보문로' '29']\n"
     ]
    },
    {
     "name": "stderr",
     "output_type": "stream",
     "text": [
      " 97%|█████████▋| 10129/10481 [14:11<00:23, 14.67it/s]"
     ]
    },
    {
     "name": "stdout",
     "output_type": "stream",
     "text": [
      "Error occured in ['강북구' '솔샘로67길' '20']\n",
      "Error occured in ['강북구' '오패산로77길' '16']\n",
      "Error occured in ['도봉구' '노해로' '144']\n"
     ]
    },
    {
     "name": "stderr",
     "output_type": "stream",
     "text": [
      " 97%|█████████▋| 10137/10481 [14:12<00:24, 13.87it/s]"
     ]
    },
    {
     "name": "stdout",
     "output_type": "stream",
     "text": [
      "Error occured in ['노원구' '화랑로' '425-17']\n"
     ]
    },
    {
     "name": "stderr",
     "output_type": "stream",
     "text": [
      " 97%|█████████▋| 10143/10481 [14:13<00:25, 13.40it/s]"
     ]
    },
    {
     "name": "stdout",
     "output_type": "stream",
     "text": [
      "Error occured in ['은평구' '통일로' '742']\n"
     ]
    },
    {
     "name": "stderr",
     "output_type": "stream",
     "text": [
      " 97%|█████████▋| 10149/10481 [14:13<00:25, 12.91it/s]"
     ]
    },
    {
     "name": "stdout",
     "output_type": "stream",
     "text": [
      "Error occured in ['은평구' '통일로65길' '1']\n"
     ]
    },
    {
     "name": "stderr",
     "output_type": "stream",
     "text": [
      " 97%|█████████▋| 10157/10481 [14:14<00:25, 12.70it/s]"
     ]
    },
    {
     "name": "stdout",
     "output_type": "stream",
     "text": [
      "Error occured in ['서대문구' '포방터8길' '30']\n"
     ]
    },
    {
     "name": "stderr",
     "output_type": "stream",
     "text": [
      " 97%|█████████▋| 10165/10481 [14:14<00:22, 14.36it/s]"
     ]
    },
    {
     "name": "stdout",
     "output_type": "stream",
     "text": [
      "Error occured in ['강서구' '강서로56길' '44']\n",
      "Error occured in ['강서구' '강서로29길' '76']\n",
      "Error occured in ['강서구' '곰달래로18길' '33-21']\n"
     ]
    },
    {
     "name": "stderr",
     "output_type": "stream",
     "text": [
      " 97%|█████████▋| 10169/10481 [14:14<00:19, 15.87it/s]"
     ]
    },
    {
     "name": "stdout",
     "output_type": "stream",
     "text": [
      "Error occured in ['강서구' '강서로' '231']\n",
      "Error occured in ['강서구' '까치산로' '86']\n",
      "Error occured in ['강서구' '강서로7길' '52-12']\n",
      "Error occured in ['강서구' '초원로16길' '3-11']\n"
     ]
    },
    {
     "name": "stderr",
     "output_type": "stream",
     "text": [
      " 97%|█████████▋| 10171/10481 [14:15<00:20, 15.09it/s]"
     ]
    },
    {
     "name": "stdout",
     "output_type": "stream",
     "text": [
      "Error occured in ['강서구' '초원로16길' '3-1']\n"
     ]
    },
    {
     "name": "stderr",
     "output_type": "stream",
     "text": [
      " 97%|█████████▋| 10177/10481 [14:15<00:20, 15.10it/s]"
     ]
    },
    {
     "name": "stdout",
     "output_type": "stream",
     "text": [
      "Error occured in ['금천구' '디지털로' '209']\n",
      "Error occured in ['금천구' '시흥대로61길' '16']\n"
     ]
    },
    {
     "name": "stderr",
     "output_type": "stream",
     "text": [
      " 97%|█████████▋| 10181/10481 [14:15<00:19, 15.36it/s]"
     ]
    },
    {
     "name": "stdout",
     "output_type": "stream",
     "text": [
      "Error occured in ['금천구' '시흥대로54길' '47']\n",
      "Error occured in ['영등포구' '양산로' '155']\n"
     ]
    },
    {
     "name": "stderr",
     "output_type": "stream",
     "text": [
      " 97%|█████████▋| 10187/10481 [14:16<00:19, 14.80it/s]"
     ]
    },
    {
     "name": "stdout",
     "output_type": "stream",
     "text": [
      "Error occured in ['동작구' '동작대로45길' '10']\n",
      "Error occured in ['동작구' '동작대로35길' '46']\n"
     ]
    },
    {
     "name": "stderr",
     "output_type": "stream",
     "text": [
      " 97%|█████████▋| 10191/10481 [14:16<00:19, 14.55it/s]"
     ]
    },
    {
     "name": "stdout",
     "output_type": "stream",
     "text": [
      "Error occured in ['서초구' '동광로46길' '13-14']\n",
      "Error occured in ['서초구' '사임당로20길' '5']\n"
     ]
    },
    {
     "name": "stderr",
     "output_type": "stream",
     "text": [
      " 97%|█████████▋| 10195/10481 [14:16<00:18, 15.09it/s]"
     ]
    },
    {
     "name": "stdout",
     "output_type": "stream",
     "text": [
      "Error occured in ['강남구' '언주로' '557']\n",
      "Error occured in ['강남구' '도산대로99길' '68']\n"
     ]
    },
    {
     "name": "stderr",
     "output_type": "stream",
     "text": [
      " 97%|█████████▋| 10199/10481 [14:16<00:18, 14.86it/s]"
     ]
    },
    {
     "name": "stdout",
     "output_type": "stream",
     "text": [
      "Error occured in ['강남구' '압구정로75길' '27']\n",
      "Error occured in ['강남구' '영동대로' '646']\n"
     ]
    },
    {
     "name": "stderr",
     "output_type": "stream",
     "text": [
      " 97%|█████████▋| 10203/10481 [14:17<00:17, 15.62it/s]"
     ]
    },
    {
     "name": "stdout",
     "output_type": "stream",
     "text": [
      "Error occured in ['강남구' '밤고개로' '165']\n",
      "Error occured in ['송파구' '송파대로' '473']\n"
     ]
    },
    {
     "name": "stderr",
     "output_type": "stream",
     "text": [
      " 97%|█████████▋| 10207/10481 [14:17<00:20, 13.57it/s]"
     ]
    },
    {
     "name": "stdout",
     "output_type": "stream",
     "text": [
      "Error occured in ['송파구' '동남로' '240-1']\n"
     ]
    },
    {
     "name": "stderr",
     "output_type": "stream",
     "text": [
      " 97%|█████████▋| 10209/10481 [14:17<00:19, 14.31it/s]"
     ]
    },
    {
     "name": "stdout",
     "output_type": "stream",
     "text": [
      "Error occured in ['송파구' '위례송파로' '123']\n",
      "Error occured in ['송파구' '위례송파로' '89']\n"
     ]
    },
    {
     "name": "stderr",
     "output_type": "stream",
     "text": [
      " 97%|█████████▋| 10217/10481 [14:18<00:17, 14.84it/s]"
     ]
    },
    {
     "name": "stdout",
     "output_type": "stream",
     "text": [
      "Error occured in ['강동구' '천호대로173길' '39']\n",
      "Error occured in ['강동구' '성안로' '84']\n",
      "Error occured in ['강동구' '양재대로91가길' '62-1']\n"
     ]
    },
    {
     "name": "stderr",
     "output_type": "stream",
     "text": [
      " 98%|█████████▊| 10223/10481 [14:18<00:19, 13.50it/s]"
     ]
    },
    {
     "name": "stdout",
     "output_type": "stream",
     "text": [
      "Error occured in ['강남구' '선릉로107길' '16']\n"
     ]
    },
    {
     "name": "stderr",
     "output_type": "stream",
     "text": [
      " 98%|█████████▊| 10257/10481 [14:21<00:16, 13.73it/s]"
     ]
    },
    {
     "name": "stdout",
     "output_type": "stream",
     "text": [
      "Error occured in ['종로구' '율곡로' '236']\n",
      "Error occured in ['중구' '난계로17길' '40-1']\n"
     ]
    },
    {
     "name": "stderr",
     "output_type": "stream",
     "text": [
      " 98%|█████████▊| 10261/10481 [14:21<00:15, 14.61it/s]"
     ]
    },
    {
     "name": "stdout",
     "output_type": "stream",
     "text": [
      "Error occured in ['용산구' '원효로' '111']\n",
      "Error occured in ['성동구' '성덕정15길' '12']\n"
     ]
    },
    {
     "name": "stderr",
     "output_type": "stream",
     "text": [
      " 98%|█████████▊| 10267/10481 [14:22<00:14, 14.86it/s]"
     ]
    },
    {
     "name": "stdout",
     "output_type": "stream",
     "text": [
      "Error occured in ['광진구' '능동로36길' '101']\n",
      "Error occured in ['동대문구' '회기로' '111-1']\n"
     ]
    },
    {
     "name": "stderr",
     "output_type": "stream",
     "text": [
      " 98%|█████████▊| 10273/10481 [14:22<00:13, 15.29it/s]"
     ]
    },
    {
     "name": "stdout",
     "output_type": "stream",
     "text": [
      "Error occured in ['중랑구' '겸재로' '201']\n",
      "Error occured in ['중랑구' '양원역로10길' '47']\n",
      "Error occured in ['중랑구' '상봉로' '134']\n"
     ]
    },
    {
     "name": "stderr",
     "output_type": "stream",
     "text": [
      " 98%|█████████▊| 10281/10481 [14:23<00:13, 14.78it/s]"
     ]
    },
    {
     "name": "stdout",
     "output_type": "stream",
     "text": [
      "Error occured in ['도봉구' '우이천로48길' '83']\n"
     ]
    },
    {
     "name": "stderr",
     "output_type": "stream",
     "text": [
      " 98%|█████████▊| 10287/10481 [14:23<00:13, 14.64it/s]"
     ]
    },
    {
     "name": "stdout",
     "output_type": "stream",
     "text": [
      "Error occured in ['은평구' '서오릉로' '174']\n"
     ]
    },
    {
     "name": "stderr",
     "output_type": "stream",
     "text": [
      " 98%|█████████▊| 10291/10481 [14:23<00:13, 14.29it/s]"
     ]
    },
    {
     "name": "stdout",
     "output_type": "stream",
     "text": [
      "Error occured in ['서대문구' '통일로' '505']\n"
     ]
    },
    {
     "name": "stderr",
     "output_type": "stream",
     "text": [
      " 98%|█████████▊| 10297/10481 [14:24<00:11, 15.37it/s]"
     ]
    },
    {
     "name": "stdout",
     "output_type": "stream",
     "text": [
      "Error occured in ['마포구' '신촌로' '252']\n",
      "Error occured in ['마포구' '신촌로28길' '8']\n",
      "Error occured in ['강서구' '강서로' '43-4']\n"
     ]
    },
    {
     "name": "stderr",
     "output_type": "stream",
     "text": [
      " 98%|█████████▊| 10303/10481 [14:24<00:11, 14.89it/s]"
     ]
    },
    {
     "name": "stdout",
     "output_type": "stream",
     "text": [
      "Error occured in ['강서구' '강서로47길' '60']\n"
     ]
    },
    {
     "name": "stderr",
     "output_type": "stream",
     "text": [
      " 98%|█████████▊| 10305/10481 [14:24<00:11, 15.30it/s]"
     ]
    },
    {
     "name": "stdout",
     "output_type": "stream",
     "text": [
      "Error occured in ['구로구' '구로동로12길' '59-15']\n",
      "Error occured in ['금천구' '독산로54길' '303']\n"
     ]
    },
    {
     "name": "stderr",
     "output_type": "stream",
     "text": [
      " 98%|█████████▊| 10315/10481 [14:25<00:12, 13.50it/s]"
     ]
    },
    {
     "name": "stdout",
     "output_type": "stream",
     "text": [
      "Error occured in ['영등포구' '도신로' '59']\n"
     ]
    },
    {
     "name": "stderr",
     "output_type": "stream",
     "text": [
      " 98%|█████████▊| 10319/10481 [14:25<00:11, 14.57it/s]"
     ]
    },
    {
     "name": "stdout",
     "output_type": "stream",
     "text": [
      "Error occured in ['관악구' '장군봉13길' '14']\n",
      "Error occured in ['관악구' '남부순환로181길' '33']\n"
     ]
    },
    {
     "name": "stderr",
     "output_type": "stream",
     "text": [
      " 98%|█████████▊| 10323/10481 [14:25<00:09, 15.89it/s]"
     ]
    },
    {
     "name": "stdout",
     "output_type": "stream",
     "text": [
      "Error occured in ['서초구' '효령로' '71']\n",
      "Error occured in ['서초구' '남부순환로350길' '19-11']\n",
      "Error occured in ['서초구' '강남대로' '589']\n"
     ]
    },
    {
     "name": "stderr",
     "output_type": "stream",
     "text": [
      " 99%|█████████▊| 10329/10481 [14:26<00:10, 14.79it/s]"
     ]
    },
    {
     "name": "stdout",
     "output_type": "stream",
     "text": [
      "Error occured in ['서초구' '남부순환로323길' '33']\n",
      "Error occured in ['강남구' '언주로107길' '11']\n"
     ]
    },
    {
     "name": "stderr",
     "output_type": "stream",
     "text": [
      " 99%|█████████▊| 10333/10481 [14:26<00:10, 13.82it/s]"
     ]
    },
    {
     "name": "stdout",
     "output_type": "stream",
     "text": [
      "Error occured in ['강남구' '영동대로122길' '2']\n"
     ]
    },
    {
     "name": "stderr",
     "output_type": "stream",
     "text": [
      " 99%|█████████▊| 10337/10481 [14:26<00:09, 14.86it/s]"
     ]
    },
    {
     "name": "stdout",
     "output_type": "stream",
     "text": [
      "Error occured in ['강남구' '역삼로' '409']\n",
      "Error occured in ['강남구' '논현로131길' '44']\n"
     ]
    },
    {
     "name": "stderr",
     "output_type": "stream",
     "text": [
      " 99%|█████████▊| 10341/10481 [14:27<00:09, 15.20it/s]"
     ]
    },
    {
     "name": "stdout",
     "output_type": "stream",
     "text": [
      "Error occured in ['강남구' '영동대로' '16']\n",
      "Error occured in ['강남구' '도곡로' '128']\n"
     ]
    },
    {
     "name": "stderr",
     "output_type": "stream",
     "text": [
      " 99%|█████████▊| 10345/10481 [14:27<00:08, 15.95it/s]"
     ]
    },
    {
     "name": "stdout",
     "output_type": "stream",
     "text": [
      "Error occured in ['송파구' '위례성대로6길' '30-11']\n",
      "Error occured in ['강동구' '고덕로98길' '161']\n",
      "Error occured in ['강동구' '양재대로111길' '27']\n"
     ]
    },
    {
     "name": "stderr",
     "output_type": "stream",
     "text": [
      " 99%|█████████▉| 10379/10481 [14:30<00:07, 14.20it/s]"
     ]
    },
    {
     "name": "stdout",
     "output_type": "stream",
     "text": [
      "Error occured in ['종로구' '종로58길' '44']\n",
      "Error occured in ['종로구' '난계로27길' '44-6']\n",
      "Error occured in ['종로구' '종로66길' '35']\n",
      "Error occured in ['중구' '퇴계로46길' '26']\n"
     ]
    },
    {
     "name": "stderr",
     "output_type": "stream",
     "text": [
      " 99%|█████████▉| 10387/10481 [14:30<00:06, 15.55it/s]"
     ]
    },
    {
     "name": "stdout",
     "output_type": "stream",
     "text": [
      "Error occured in ['동대문구' '고산자로34길' '70']\n",
      "Error occured in ['동대문구' '고산자로32길' '78']\n",
      "Error occured in ['동대문구' '답십리로' '27']\n"
     ]
    },
    {
     "name": "stderr",
     "output_type": "stream",
     "text": [
      " 99%|█████████▉| 10391/10481 [14:31<00:05, 16.31it/s]"
     ]
    },
    {
     "name": "stdout",
     "output_type": "stream",
     "text": [
      "Error occured in ['동대문구' '천호대로' '437']\n",
      "Error occured in ['중랑구' '망우로32길' '37']\n",
      "Error occured in ['중랑구' '망우로50길' '24']\n",
      "Error occured in ['중랑구' '용마산로' '670']\n"
     ]
    },
    {
     "name": "stderr",
     "output_type": "stream",
     "text": [
      " 99%|█████████▉| 10399/10481 [14:31<00:05, 15.32it/s]"
     ]
    },
    {
     "name": "stdout",
     "output_type": "stream",
     "text": [
      "Error occured in ['노원구' '덕릉로' '753']\n",
      "Error occured in ['은평구' '수색로' '322']\n",
      "Error occured in ['은평구' '은평터널로' '15']\n"
     ]
    },
    {
     "name": "stderr",
     "output_type": "stream",
     "text": [
      " 99%|█████████▉| 10403/10481 [14:31<00:05, 15.59it/s]"
     ]
    },
    {
     "name": "stdout",
     "output_type": "stream",
     "text": [
      "Error occured in ['서대문구' '신촌로37길' '22']\n",
      "Error occured in ['마포구' '마포대로' '231']\n"
     ]
    },
    {
     "name": "stderr",
     "output_type": "stream",
     "text": [
      " 99%|█████████▉| 10409/10481 [14:32<00:04, 15.95it/s]"
     ]
    },
    {
     "name": "stdout",
     "output_type": "stream",
     "text": [
      "Error occured in ['마포구' '월드컵북로' '127']\n",
      "Error occured in ['양천구' '오목로' '55']\n",
      "Error occured in ['양천구' '신월로' '123']\n"
     ]
    },
    {
     "name": "stderr",
     "output_type": "stream",
     "text": [
      " 99%|█████████▉| 10413/10481 [14:32<00:04, 14.92it/s]"
     ]
    },
    {
     "name": "stdout",
     "output_type": "stream",
     "text": [
      "Error occured in ['강서구' '양천로' '620']\n"
     ]
    },
    {
     "name": "stderr",
     "output_type": "stream",
     "text": [
      " 99%|█████████▉| 10421/10481 [14:33<00:03, 16.33it/s]"
     ]
    },
    {
     "name": "stdout",
     "output_type": "stream",
     "text": [
      "Error occured in ['영등포구' '국제금융로' '39']\n",
      "Error occured in ['송파구' '백제고분로46길' '31-21']\n",
      "Error occured in ['영등포구' '영등포로62길' '5']\n"
     ]
    },
    {
     "name": "stderr",
     "output_type": "stream",
     "text": [
      " 99%|█████████▉| 10423/10481 [14:33<00:03, 15.56it/s]"
     ]
    },
    {
     "name": "stdout",
     "output_type": "stream",
     "text": [
      "Error occured in ['영등포구' '대림로' '235']\n",
      "Error occured in ['관악구' '관악로' '242-11']\n"
     ]
    },
    {
     "name": "stderr",
     "output_type": "stream",
     "text": [
      "100%|█████████▉| 10431/10481 [14:33<00:03, 15.58it/s]"
     ]
    },
    {
     "name": "stdout",
     "output_type": "stream",
     "text": [
      "Error occured in ['서초구' '남부순환로' '2341']\n",
      "Error occured in ['강남구' '언주로' '563']\n"
     ]
    },
    {
     "name": "stderr",
     "output_type": "stream",
     "text": [
      "100%|█████████▉| 10437/10481 [14:34<00:02, 15.80it/s]"
     ]
    },
    {
     "name": "stdout",
     "output_type": "stream",
     "text": [
      "Error occured in ['강남구' '도산대로' '208']\n",
      "Error occured in ['강남구' '자곡로11길' '11']\n",
      "Error occured in ['강남구' '도곡로18길' '59']\n"
     ]
    },
    {
     "name": "stderr",
     "output_type": "stream",
     "text": [
      "100%|█████████▉| 10443/10481 [14:34<00:02, 16.79it/s]"
     ]
    },
    {
     "name": "stdout",
     "output_type": "stream",
     "text": [
      "Error occured in ['송파구' '오금로27길' '50']\n",
      "Error occured in ['송파구' '거마로3길' '7']\n",
      "Error occured in ['강동구' '아리수로' '375']\n",
      "Error occured in ['강동구' '천중로40길' '22']\n"
     ]
    },
    {
     "name": "stderr",
     "output_type": "stream",
     "text": [
      "100%|█████████▉| 10445/10481 [14:34<00:02, 16.45it/s]"
     ]
    },
    {
     "name": "stdout",
     "output_type": "stream",
     "text": [
      "Error occured in ['강동구' '진황도로61길' '25-23']\n"
     ]
    },
    {
     "name": "stderr",
     "output_type": "stream",
     "text": [
      "100%|█████████▉| 10459/10481 [14:35<00:01, 14.97it/s]"
     ]
    },
    {
     "name": "stdout",
     "output_type": "stream",
     "text": [
      "Error occured in ['도봉구' '도봉로' '493-8']\n"
     ]
    },
    {
     "name": "stderr",
     "output_type": "stream",
     "text": [
      "100%|█████████▉| 10463/10481 [14:35<00:01, 16.20it/s]"
     ]
    },
    {
     "name": "stdout",
     "output_type": "stream",
     "text": [
      "Error occured in ['강서구' '초록마을로' '93']\n",
      "Error occured in ['구로구' '구로동로8길' '62-6']\n",
      "Error occured in ['구로구' '부일로1길' '26-12']\n"
     ]
    },
    {
     "name": "stderr",
     "output_type": "stream",
     "text": [
      "100%|█████████▉| 10469/10481 [14:36<00:00, 16.47it/s]"
     ]
    },
    {
     "name": "stdout",
     "output_type": "stream",
     "text": [
      "Error occured in ['동작구' '성대로' '164']\n",
      "Error occured in ['관악구' '신림로63길' '23']\n",
      "Error occured in ['서초구' '효령로31길' '31']\n"
     ]
    },
    {
     "name": "stderr",
     "output_type": "stream",
     "text": [
      "100%|█████████▉| 10473/10481 [14:36<00:00, 16.69it/s]"
     ]
    },
    {
     "name": "stdout",
     "output_type": "stream",
     "text": [
      "Error occured in ['서초구' '방배로6길' '10-3']\n",
      "Error occured in ['서초구' '주흥1길' '19']\n",
      "Error occured in ['서초구' '반포대로18길' '13-3']\n"
     ]
    },
    {
     "name": "stderr",
     "output_type": "stream",
     "text": [
      "100%|█████████▉| 10479/10481 [14:36<00:00, 16.47it/s]"
     ]
    },
    {
     "name": "stdout",
     "output_type": "stream",
     "text": [
      "Error occured in ['강남구' '언주로' '624']\n",
      "Error occured in ['송파구' '성내천로6길' '1']\n",
      "Error occured in ['강동구' '고덕로98길' '75']\n",
      "Error occured in ['강동구' '천중로40길' '72']\n"
     ]
    },
    {
     "name": "stderr",
     "output_type": "stream",
     "text": [
      "100%|██████████| 10481/10481 [14:36<00:00, 11.95it/s]\n"
     ]
    }
   ],
   "source": [
    "import time # for sleep\n",
    "import tqdm # for progress bar\n",
    "\n",
    "for set in tqdm.tqdm(unique_set.values):\n",
    "  try:\n",
    "    # get data from df where \"행정구\" \"도로명\" \"도로번호\" is same as set. and \"계약형태\" is \"매매\"\n",
    "    data = df[(df['행정구'] == set[0]) & (df['도로명'] == set[1]) & (df['도로번호'] == set[2]) & (df['계약형태'] == '매매')]\n",
    "    # get data from df where \"행정구\" \"도로명\" \"도로번호\" is same as set. and \"계약형태\" is \"전세\"\n",
    "    data2 = df[(df['행정구'] == set[0]) & (df['도로명'] == set[1]) & (df['도로번호'] == set[2]) & (df['계약형태'] == '전세')]\n",
    "\n",
    "\n",
    "    # drop [동 층 계약형태 거래금액(만원) 보증금(만원) 월세금(만원) 거래유형 계약일 전용면적] columns\n",
    "    t_df = data[:1].drop(columns=['동', '층', '계약형태', '거래금액(만원)', '보증금(만원)', '월세금(만원)', '거래유형', '계약일', '전용면적(㎡)'])\n",
    "    # group by \"계약일\" monthly and group by \"전용면적(㎡)\"\n",
    "    data = data.groupby([data['계약일'].dt.to_period('M'), data['전용면적(㎡)']])\n",
    "    data = data['거래금액(만원)'].mean().unstack().melt(ignore_index=False).reset_index().dropna()\n",
    "\n",
    "    data2 = data2.groupby([data2['계약일'].dt.to_period('M'), data2['전용면적(㎡)']])\n",
    "    data2 = data2['보증금(만원)'].mean().unstack().melt(ignore_index=False).reset_index().dropna()\n",
    "    # rename columns\n",
    "    data.columns = ['계약일', '전용면적(㎡)', '거래금액(만원)']\n",
    "    data2.columns = ['계약일', '전용면적(㎡)', '전세보증금(만원)']\n",
    "\n",
    "    # join 2 dataframes\n",
    "    data = data.merge(data2, on=['계약일', '전용면적(㎡)'], how='outer')\n",
    "    # add t_df to data every row and order by \"계약일\", \"전용면적(㎡)\"\n",
    "    cols_to_fill = t_df.columns\n",
    "    data = pd.concat([t_df, data], axis=1)\n",
    "    data.loc[:, cols_to_fill] = data.loc[:, cols_to_fill].ffill()\n",
    "    data.sort_values(by=['계약일', '전용면적(㎡)'])\n",
    "    # rename columns to gugun dong main_bunge sub_bunge road_name road_num danji_name build_year deal_month size avg_price\n",
    "    data.columns = ['gugun', 'dong', 'main_bunge', 'sub_bunge', 'road_name', 'road_num', 'danji_name', 'build_year', 'deal_month', 'size', 'avg_sale_price', 'avg_rent_deposit_price']\n",
    "    \n",
    "    # insert data to mysql as table \"seoul_real_estate_price_per_month\"\n",
    "    data.to_sql('seoul_real_estate_price_per_month', con=engine, if_exists='append', index=False)\n",
    "  except:\n",
    "    print(f'Error occured in {set}', end=' ')\n",
    "    continue\n",
    "\n",
    "  time.sleep(0.02) # sleep for 0.03 sec to prevent server overload"
   ]
  },
  {
   "cell_type": "code",
   "execution_count": null,
   "metadata": {},
   "outputs": [],
   "source": []
  },
  {
   "cell_type": "code",
   "execution_count": null,
   "metadata": {},
   "outputs": [],
   "source": []
  },
  {
   "cell_type": "code",
   "execution_count": null,
   "metadata": {},
   "outputs": [],
   "source": []
  }
 ],
 "metadata": {
  "kernelspec": {
   "display_name": "base",
   "language": "python",
   "name": "python3"
  },
  "language_info": {
   "codemirror_mode": {
    "name": "ipython",
    "version": 3
   },
   "file_extension": ".py",
   "mimetype": "text/x-python",
   "name": "python",
   "nbconvert_exporter": "python",
   "pygments_lexer": "ipython3",
   "version": "3.10.13"
  }
 },
 "nbformat": 4,
 "nbformat_minor": 2
}
