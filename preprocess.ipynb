{
 "cells": [
  {
   "cell_type": "code",
   "execution_count": null,
   "metadata": {},
   "outputs": [],
   "source": [
    "import pandas as pd\n",
    "\n",
    "target_years = [2014, 2015, 2016, 2017, 2018, 2019, 2020, 2021, 2022, 2023, 2024]\n",
    "\n",
    "def merge_dataframes(df1, df2):\n",
    "  df = pd.merge(df1, df2, how='outer')\n",
    "  # if 전월세구분 is nan, then it is 매매\n",
    "  df['전월세구분'] = df['전월세구분'].fillna('매매')\n",
    "  # remane 전월세구분 to 계약형태\n",
    "  df = df.rename(columns={'전월세구분': '계약형태'})\n",
    "\n",
    "  # change column Type where Dtype is object to category\n",
    "  for column in df.columns:\n",
    "    if df[column].dtype == 'object':\n",
    "      df[column] = df[column].astype('category')\n",
    "\n",
    "  return df\n",
    "\n",
    "for _ in target_years:\n",
    "  # read from row 16\n",
    "  df1 = pd.read_csv(f'./seoul_real_estate/{_}매매.csv', encoding='cp949', index_col=0, skiprows=15)\n",
    "  df2 = pd.read_csv(f'./seoul_real_estate/{_}임대.csv', encoding='cp949', index_col=0, skiprows=15)\n",
    "  df = merge_dataframes(df1, df2)\n",
    "  df.to_pickle(f'./seoul_real_estate/{_}.pkl')"
   ]
  },
  {
   "cell_type": "code",
   "execution_count": null,
   "metadata": {},
   "outputs": [],
   "source": [
    "df_f = pd.DataFrame()\n",
    "for _ in target_years:\n",
    "  df = pd.read_pickle(f'./seoul_real_estate/{_}.pkl')\n",
    "  df_f = pd.concat([df_f, df])\n",
    "\n",
    "# change column Type where Dtype is object to category\n",
    "for column in df_f.columns:\n",
    "  if df_f[column].dtype == 'object':\n",
    "    df_f[column] = df_f[column].astype('category')"
   ]
  },
  {
   "cell_type": "code",
   "execution_count": null,
   "metadata": {},
   "outputs": [],
   "source": [
    "df_f.info(memory_usage='deep')"
   ]
  },
  {
   "cell_type": "code",
   "execution_count": null,
   "metadata": {},
   "outputs": [],
   "source": [
    "# save to pickle\n",
    "df_f.to_pickle('./seoul_real_estate/2014_2024.pkl')"
   ]
  },
  {
   "cell_type": "code",
   "execution_count": null,
   "metadata": {},
   "outputs": [],
   "source": [
    "##### If you have full datafile(2014_2024.pkl), you can start from here #####\n",
    "import pandas as pd\n",
    "\n",
    "df = pd.read_pickle('./seoul_real_estate/2014_2024.pkl')"
   ]
  },
  {
   "cell_type": "code",
   "execution_count": null,
   "metadata": {},
   "outputs": [],
   "source": []
  }
 ],
 "metadata": {
  "language_info": {
   "name": "python"
  }
 },
 "nbformat": 4,
 "nbformat_minor": 2
}
